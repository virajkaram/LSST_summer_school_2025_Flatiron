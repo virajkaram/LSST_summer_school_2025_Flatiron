{
 "cells": [
  {
   "cell_type": "markdown",
   "id": "479795d8",
   "metadata": {},
   "source": [
    "# CCA Summer School: Landscape of Astronomical Transients\n",
    "\n",
    "## Day 2: Extracting Physical Properties from Light Curves of Core-Collapse Supernovae\n",
    "\n",
    "### Prepared by Kohki Uno\n",
    "- Research Interests: Supernovae, TDEs, and Weird Transients\n",
    "- Affiliation: Kyoto University -> Columbia University\n",
    "- Email: <k.uno@kusastro.kyoto-u.ac.jp> or <ku2204@columbia.edu>\n",
    "- HP: <https://www.kusastro.kyoto-u.ac.jp/~k.uno/view/index.html>"
   ]
  },
  {
   "cell_type": "markdown",
   "id": "0f496e34",
   "metadata": {},
   "source": [
    "---"
   ]
  },
  {
   "cell_type": "markdown",
   "id": "0fd81f61",
   "metadata": {},
   "source": [
    "# Today's Goals and Summary\n",
    "\n",
    "- Review the photometric systems and magnitude definitions  \n",
    "- Reconstruct bolometric light curves via SED fitting using ZTF photometry  \n",
    "- Fit the bolometric light curves with simple models, and discussed the derived physical parameters\n",
    "\n",
    "Three assignments have been prepared for you. Please work through them."
   ]
  },
  {
   "cell_type": "markdown",
   "id": "91fe38ab",
   "metadata": {},
   "source": [
    "---"
   ]
  },
  {
   "cell_type": "markdown",
   "id": "46dc1724",
   "metadata": {},
   "source": [
    "# Step 0: Environment Setup\n",
    "\n",
    "Basically we use almost the same modules as day1.\n",
    "\n",
    "## Required Python Packages:\n",
    "install  using `pip` or `conda`\n",
    "- [Astropy](https://www.astropy.org/): Common core package for astronomy\n",
    "- [Numpy](https://numpy.org/): Scientific mathmatical package\n",
    "- [Scipy](https://scipy.org/): Scientific mathmatical package\n",
    "- [Pandas](https://pandas.pydata.org/): Data analysis package\n",
    "- [Matplotlib](https://matplotlib.org/): Visuallization package\n",
    "- [alerce.core](https://alerce.readthedocs.io/en/latest/): API for ALeRCe (only for pip)"
   ]
  },
  {
   "cell_type": "code",
   "execution_count": null,
   "id": "84a5bc89",
   "metadata": {},
   "outputs": [],
   "source": [
    "import os\n",
    "import json\n",
    "import time\n",
    "\n",
    "import requests\n",
    "from collections import OrderedDict\n",
    "\n",
    "import numpy as np\n",
    "import pandas as pd\n",
    "from scipy.interpolate import interp1d\n",
    "from scipy.integrate import trapezoid\n",
    "from scipy.optimize import least_squares\n",
    "import matplotlib.pyplot as plt\n",
    "\n",
    "from astropy.time import Time\n",
    "from astropy.table import QTable\n",
    "import astropy.units as u\n",
    "from astropy.constants import h, c, k_B\n",
    "from astropy.constants import sigma_sb\n",
    "from astropy.constants import M_sun\n",
    "from astropy.cosmology import FlatLambdaCDM\n",
    "\n",
    "from alerce.core import Alerce\n",
    "alerce = Alerce()  # no authentication needed"
   ]
  },
  {
   "cell_type": "markdown",
   "id": "4777425a",
   "metadata": {},
   "source": [
    "Set up the save directory (Although it's included in the GitHub repository, it is defined here just in case.)"
   ]
  },
  {
   "cell_type": "code",
   "execution_count": null,
   "id": "5c60454b",
   "metadata": {},
   "outputs": [],
   "source": [
    "output_dir = './output_day2/'\n",
    "os.makedirs(output_dir, exist_ok=True)"
   ]
  },
  {
   "cell_type": "markdown",
   "id": "3e00ae36",
   "metadata": {},
   "source": [
    "## Ancilliary Datasets:\n",
    "\n",
    "All materials are already included in the GitHub repository (`LSST_summer_school_2025_Flatiron/day2_ccsne`).\n",
    "If you successfully fork the repository, these files will be downloaded automatically.\n",
    "\n",
    "- `filter_info.json`: a json file for summerizing filter infromation\n",
    "- `tns_get_typeII_2022_2024.csv`: a list of Type II supernovae via TNS\n",
    "- `/lc_alerce`: a directory of light curves queried via ALeRCE\n",
    "- `ztf_fetching_lc.csv`: a list for successed object for light curve query via ALeRCE\n",
    "- (`tns_objtype.json`: a json file for summerizing TNS transient types (not explicitly use in this notebook))"
   ]
  },
  {
   "cell_type": "markdown",
   "id": "a1c67c48",
   "metadata": {},
   "source": [
    "---"
   ]
  },
  {
   "cell_type": "markdown",
   "id": "b701f4b3",
   "metadata": {},
   "source": [
    "# Step 1: Photometry in Astronomy\n",
    "\n",
    "On Day 1, we became familiar with handling ZTF alert data.  \n",
    "Today, we will take a step further and attempt to derive physical parameters from observed light curve data.\n",
    "\n",
    "In this first step, we will review the photometric system and explore how observed quantities, such as magnitudes, relate to physical parameters like flux, temperature, and more."
   ]
  },
  {
   "cell_type": "markdown",
   "id": "d84fb49f",
   "metadata": {},
   "source": [
    "In astronomy, particularly in optical or near-infrared (NIR) observations, we use a unique unit called magnitude. This unit is defined on a logarithmic scale, but its historical definition involves some uncertainty.\n",
    "\n",
    "This uncertainty arises because optical observations have been conducted for over $\\sim 100$ years, during which time no standardized system was initially established. Thus, we now use several photometric systems... These systems specify how observed fluxes are converted into magnitudes, which are logarithmic measures of brightness.\n",
    "\n",
    "## Remark: Definition of Magnitude\n",
    "\n",
    "The apparent magnitude $\\mathrm{mag}$ of an astronomical object is defined as:\n",
    "\n",
    "$$\n",
    "\\mathrm{mag} = -2.5 \\log_{10} \\left( \\frac{f_{\\mathrm{obs}}}{f_0} \\right)\n",
    "$$\n",
    "\n",
    "where:\n",
    "- $\\mathrm{mag}$: magnitude of the object  \n",
    "- $f_{\\mathrm{obs}}$: observed flux  \n",
    "- $f_0$: reference (zero-point) flux\n",
    "\n",
    "A difference of 1 magnitude corresponds to a flux ratio of $\\sim 2.5$, and a difference of 5 magnitudes corresponds to a factor of $\\sim 100$ in brightness.\n"
   ]
  },
  {
   "cell_type": "markdown",
   "id": "3cccc0e8",
   "metadata": {},
   "source": [
    "## Remark: Vega Magnitude and AB Magnitude Systems\n",
    "\n",
    "There are multiple magnitude systems, depending on how the zero-point flux $f_0$ is defined. The two most commonly used systems are the Vega magnitude and the AB magnitude systems.\n",
    "\n",
    "### Vega Magnitude System\n",
    "\n",
    "- The star **Vega ($\\alpha$ Lyrae)** is used as the reference star.\n",
    "- By definition, Vega has zero magnitude in filters (though small offsets exist in practice).\n",
    "- This system is widely used in traditional optical and near-infrared astronomy.\n",
    "- **It is filter-dependent and may vary between instruments**.\n",
    "\n",
    "### AB Magnitude System\n",
    "\n",
    "- Defined based on a constant flux per unit frequency ($f_\\nu$).\n",
    "- The AB magnitude is given by:\n",
    "\n",
    "$$\n",
    "m_{\\mathrm{AB}} = -2.5 \\log_{10} \\left( \\frac{f_\\nu}{3631\\,\\mathrm{Jy}} \\right) = -2.5 \\log_{10} f_\\nu - 48.60\n",
    "$$\n",
    "\n",
    "- $f_\\nu$: flux density in $[\\mathrm{erg/s/cm^2/Hz}]$ or $[\\mathrm{Jy}]$  \n",
    "- 3631 Jy is the reference flux corresponding to zero AB magnitude.\n",
    "- AB magnitudes provide a consistent and physically meaningful scale across different filters, making them suitable for comparison with theoretical SEDs.\n",
    "\n",
    "Older observations or literature often use Vega-based magnitudes, but recent surveys and instruments favor the AB system because it is robust and facilitates easier comparison with theoretical models."
   ]
  },
  {
   "cell_type": "markdown",
   "id": "fcbfbfc3",
   "metadata": {},
   "source": [
    "## Remark: Filter Function\n",
    "\n",
    "Another essential concept in photometry is the filter.  \n",
    "Filters define the wavelength range over which light from an astronomical object is measured. They play a crucial role in determining how flux is recorded and interpreted in different photometric systems.\n",
    "\n",
    "The observed flux $f_{\\mathrm{obs}}$ in a photometric system is determined by the convolution of the object's spectrum or spectral energy distribution (SED) with the system's filter transmission function.\n",
    "\n",
    "The effective (mean) flux through a filter is given by:\n",
    "\n",
    "$$\n",
    "f_{\\mathrm{obs}} = \\frac{\\int f_\\lambda(\\lambda) T(\\lambda) \\, d\\lambda}{\\int T(\\lambda) \\, d\\lambda}\n",
    "$$\n",
    "\n",
    "where:\n",
    "- $f_\\lambda(\\lambda)$: the object's spectrum / SED in units of [erg/s/cm²/Å]  \n",
    "- $T(\\lambda)$: the filter transmission function  \n",
    "- $\\lambda$: wavelength  \n",
    "\n",
    "In other words, the observed flux is a weighted mean of the object's flux across the filter bandpass."
   ]
  },
  {
   "cell_type": "markdown",
   "id": "25340408",
   "metadata": {},
   "source": [
    "## Step 1-1: Confirm the Filter Function of ZTF and LSST\n",
    "\n",
    "load `filter_info.json` and plot the filter functions as a function of wavelength"
   ]
  },
  {
   "cell_type": "code",
   "execution_count": null,
   "id": "b646da30",
   "metadata": {},
   "outputs": [],
   "source": [
    "file_path = os.path.join(output_dir, 'filter_info.json')\n",
    "with open(file_path, \"r\") as f:\n",
    "    filters = json.load(f)"
   ]
  },
  {
   "cell_type": "markdown",
   "id": "e29e3fdb",
   "metadata": {},
   "source": [
    "What acturally in stored in `filters`?"
   ]
  },
  {
   "cell_type": "code",
   "execution_count": null,
   "id": "8411504b",
   "metadata": {},
   "outputs": [],
   "source": [
    "print(filters.keys())\n",
    "print(filters['ztf_g'].keys())"
   ]
  },
  {
   "cell_type": "markdown",
   "id": "bb267b3b",
   "metadata": {},
   "source": [
    "It is a dict data including important parameters of filter functions."
   ]
  },
  {
   "cell_type": "markdown",
   "id": "2a5ef811",
   "metadata": {},
   "source": [
    "`get_filter_table(filters, filter_name)`\n",
    "\n",
    "Extract the transmission curve, AB zeropoint flux, and effective wavelength for a specified photometric filter.\n",
    "\n",
    "Arguments:\n",
    "- `filters` (dict): A dictionary of filter information, typically loaded from a filter response library (e.g., SVO or LSST).\n",
    "- `filter_name` (str): The name of the filter to extract (e.g., `'ztf_g'`, `'ztf_r'`, `'lsst_u'`, etc.).\n",
    "\n",
    "Returns:\n",
    "- `zp_flux` (Quantity): AB zeropoint flux of the filter in units of erg/cm²/s/Å.\n",
    "- `lambda_eff` (Quantity): Effective wavelength of the filter in Angstroms.\n",
    "- `table` (QTable): A table containing:\n",
    "  - `'wavelength'` (Quantity): Wavelength array within the filter range. The wavelength range is clipped using `lambda_min` and `lambda_max` from the filter's metadata.\n",
    "  - `'transmission'` (float): Corresponding filter transmission (dimensionless).\n"
   ]
  },
  {
   "cell_type": "code",
   "execution_count": null,
   "id": "6f77a5fd",
   "metadata": {},
   "outputs": [],
   "source": [
    "def get_filter_table(filters, filter_name):\n",
    "\n",
    "    # Get filter-specific dictionary from the full filter set\n",
    "    band_data = filters[filter_name]\n",
    "\n",
    "    # Extract wavelength (in Angstroms) and transmission (unitless)\n",
    "    wavelength = np.array(band_data['data']['wavelength']) * u.AA\n",
    "    transmission = np.array(band_data['data']['transmission'])  # dimensionless\n",
    "\n",
    "    # Apply a wavelength mask to restrict to the valid filter range\n",
    "    lambda_min = band_data['property']['lambda_min'] * u.AA\n",
    "    lambda_max = band_data['property']['lambda_max'] * u.AA\n",
    "    mask = (wavelength > lambda_min) & (wavelength < lambda_max)\n",
    "\n",
    "    # Extract AB zeropoint flux and effective wavelength\n",
    "    zp_flux = band_data[\"zeropoint\"][\"zp_AB_wav\"] * (u.erg / (u.cm**2 * u.s * u.AA))\n",
    "    lambda_eff = band_data[\"property\"][\"lambda_eff\"] * u.AA\n",
    "\n",
    "    # Construct and return a QTable for the filtered wavelength and transmission\n",
    "    table = QTable()\n",
    "    table['wavelength'] = wavelength[mask]\n",
    "    table['transmission'] = transmission[mask]\n",
    "\n",
    "    return zp_flux, lambda_eff, table\n"
   ]
  },
  {
   "cell_type": "markdown",
   "id": "dc8a51e0",
   "metadata": {},
   "source": [
    "Let's plot the ZTF filter functions!"
   ]
  },
  {
   "cell_type": "code",
   "execution_count": null,
   "id": "85b9c1cc",
   "metadata": {},
   "outputs": [],
   "source": [
    "zp_ztf_g, lambda_ztf_g, filter_ztf_g = get_filter_table(filters, 'ztf_g')\n",
    "zp_ztf_r, lambda_ztf_r, filter_ztf_r = get_filter_table(filters, 'ztf_r')\n",
    "zp_ztf_i, lambda_ztf_i, filter_ztf_i = get_filter_table(filters, 'ztf_i')"
   ]
  },
  {
   "cell_type": "code",
   "execution_count": null,
   "id": "a0e96da7",
   "metadata": {},
   "outputs": [],
   "source": [
    "fig, ax = plt.subplots(figsize=(10, 6))\n",
    "\n",
    "ax.plot(filter_ztf_g['wavelength'], filter_ztf_g['transmission'], label='ztf_g', color='green')\n",
    "ax.plot(filter_ztf_r['wavelength'], filter_ztf_r['transmission'], label='ztf_r', color='red')\n",
    "ax.plot(filter_ztf_i['wavelength'], filter_ztf_i['transmission'], label='ztf_i', color='orange')\n",
    "\n",
    "ax.set_xlabel(r'Wavelength [$\\mathrm{\\AA}$]')\n",
    "ax.set_ylabel('Transmission')\n",
    "ax.legend()\n",
    "plt.tight_layout()\n",
    "plt.show()"
   ]
  },
  {
   "cell_type": "markdown",
   "id": "24cd9937",
   "metadata": {},
   "source": [
    "The plot indicates that the ZTF g-band and r-band covers the wavelength of $4000 \\mathrm{\\AA} - 7200 \\mathrm{\\AA}$ with a high transmission over 80%"
   ]
  },
  {
   "cell_type": "markdown",
   "id": "a75a4fc8",
   "metadata": {},
   "source": [
    "Trun to LSST."
   ]
  },
  {
   "cell_type": "code",
   "execution_count": null,
   "id": "c1ed5718",
   "metadata": {},
   "outputs": [],
   "source": [
    "zp_lsst_u, lambda_lsst_u, filter_lsst_u = get_filter_table(filters, 'lsst_u')\n",
    "zp_lsst_g, lambda_lsst_g, filter_lsst_g = get_filter_table(filters, 'lsst_g')\n",
    "zp_lsst_r, lambda_lsst_r, filter_lsst_r = get_filter_table(filters, 'lsst_r')\n",
    "zp_lsst_i, lambda_lsst_i, filter_lsst_i = get_filter_table(filters, 'lsst_i')\n",
    "zp_lsst_z, lambda_lsst_z, filter_lsst_z = get_filter_table(filters, 'lsst_z')\n",
    "zp_lsst_y, lambda_lsst_y, filter_lsst_y = get_filter_table(filters, 'lsst_y')"
   ]
  },
  {
   "cell_type": "code",
   "execution_count": null,
   "id": "a4588f43",
   "metadata": {},
   "outputs": [],
   "source": [
    "fig, ax = plt.subplots(figsize=(10, 6))\n",
    "\n",
    "ax.plot(filter_lsst_u['wavelength'], filter_lsst_u['transmission'], label='lsst_u', color='blue')\n",
    "ax.plot(filter_lsst_g['wavelength'], filter_lsst_g['transmission'], label='lsst_g', color='green')\n",
    "ax.plot(filter_lsst_r['wavelength'], filter_lsst_r['transmission'], label='lsst_r', color='red')\n",
    "ax.plot(filter_lsst_i['wavelength'], filter_lsst_i['transmission'], label='lsst_i', color='orange')\n",
    "ax.plot(filter_lsst_z['wavelength'], filter_lsst_z['transmission'], label='lsst_z', color='pink')\n",
    "ax.plot(filter_lsst_y['wavelength'], filter_lsst_y['transmission'], label='lsst_y', color='brown')\n",
    "\n",
    "ax.set_xlabel(r'Wavelength [$\\mathrm{\\AA}$]')\n",
    "ax.set_ylabel('Transmission')\n",
    "ax.legend()\n",
    "plt.tight_layout()\n",
    "plt.show()"
   ]
  },
  {
   "cell_type": "markdown",
   "id": "333f5593",
   "metadata": {},
   "source": [
    "LSST has 6 bands, and cover a more wide spectral range ($\\sim 3500\\mathrm{\\AA} - 10000\\mathrm{\\AA}$)."
   ]
  },
  {
   "cell_type": "markdown",
   "id": "aa8ce77d",
   "metadata": {},
   "source": [
    "In the observations, we measure the flux of objects through specific filters and convert these fluxes into magnitudes.\n",
    "\n",
    "Next, let’s see how these observed quantities are related to the physical parameters of astronomical objects."
   ]
  },
  {
   "cell_type": "markdown",
   "id": "dd8598d8",
   "metadata": {},
   "source": [
    "## Remark: Observed Flux from a Distant Source\n",
    "\n",
    "To understand the intrinsic flux, which is directly linked to physical properties, of an astronomical object, we can model the source as emitting blackbody radiation with temperature $T$ and radius $R$. The observed flux depends on both the intrinsic emission and the distance to the source.\n",
    "\n",
    "### Planck Function\n",
    "\n",
    "The specific intensity of a blackbody at temperature $T_{\\mathrm{BB}}$ is given by the Planck function:\n",
    "\n",
    "$$\n",
    "B_{\\lambda}(T) = \\frac{2 h c^2}{\\lambda^5} \\cdot \\frac{1}{\\exp\\left( \\frac{h c}{\\lambda k_{\\mathrm{B}} T_{\\mathrm{BB}}} \\right) - 1} \\quad \\text{or} \\quad\n",
    "B_{\\nu}(T) = \\frac{2 h \\nu^3}{c^3} \\cdot \\frac{1}{\\exp\\left( \\frac{h \\nu}{k_{\\mathrm{B}} T_{\\mathrm{BB}}} \\right) - 1}\n",
    "$$\n",
    "\n",
    "where:\n",
    "- $h$: Planck constant  \n",
    "- $c$: speed of light  \n",
    "- $k_{\\mathrm{B}}$: Boltzmann constant  \n",
    "\n",
    "### Flux from a Source\n",
    "\n",
    "The observed flux at a luminosity distance $D_{\\mathrm{L}}$ is given by:\n",
    "\n",
    "$$\n",
    "f_{\\mathrm{obs}}(\\lambda) = \\pi B_{\\lambda}(\\lambda, T) \\left( \\frac{R_{\\star}}{D_{\\mathrm{L}}} \\right)^2\n",
    "$$\n",
    "\n",
    "where:\n",
    "- $R_{\\star}$: photospheric radius of the source  \n",
    "\n",
    "This expression assumes isotropic emission over a hemisphere.\n",
    "\n",
    "### Luminosity\n",
    "\n",
    "The luminosity per unit wavelength ($L_{\\lambda}$) emitted by the entire surface of a star is given by:\n",
    "\n",
    "$$\n",
    "L_\\lambda = 4 \\pi D_{\\mathrm{L}}^2 f_{\\mathrm{obs}}(\\lambda), \\quad L_{\\nu} = 4 \\pi D_{\\mathrm{L}}^2 f_{\\mathrm{obs}}(\\nu)\n",
    "$$\n",
    "\n",
    "Finally, the bolometric luminosity ($L_{\\mathrm{bol}}$), which represents the total energy emitted over all wavelengths, is:\n",
    "\n",
    "$$\n",
    "L_{\\mathrm{bol}} = \\int L_{\\lambda} \\, d\\lambda = \\int L_{\\nu} \\, d\\nu \\approx 4\\pi R_{\\star}^2 \\sigma_{\\mathrm{SB}} T_{\\mathrm{BB}}^4\n",
    "$$\n",
    "\n",
    "where:\n",
    "- $\\sigma_{\\mathrm{SB}}$: Stefan–Boltzmann constant  \n",
    "- $T_{\\mathrm{BB}}$: blackbody temperature  "
   ]
  },
  {
   "cell_type": "markdown",
   "id": "96645512",
   "metadata": {},
   "source": [
    "---\n",
    "---"
   ]
  },
  {
   "cell_type": "markdown",
   "id": "4eb2d16d",
   "metadata": {},
   "source": [
    "## Assignment 1: How Bright Is a Supernova?\n",
    "\n",
    "In this assignment, we will estimate the apparent magnitude of a typical supernova as it would be observed through LSST filters.\n",
    "\n",
    "Assume the following physical parameters for a supernova around its peak luminosity:\n",
    "- Temperature: $T_{\\mathrm{BB}} = 6000 \\mathrm{K}$\n",
    "- Radius: $R_{\\star} = 10^{15} \\mathrm{cm}$\n",
    "- Luminosity distance: $D_{\\mathrm{L}} = 100 \\mathrm{Mpc}$\n",
    "\n",
    "Following the steps we have covered:\n",
    "\n",
    "1. Model the supernova's spectral energy distribution (SED) as blackbody radiation with the given temperature.\n",
    "2. Calculate the observed flux $f_{\\mathrm{obs}}(\\lambda)$ using the blackbody spectrum and the source radius and distance.\n",
    "3. Convolve the spectrum with the LSST filter transmission curves to compute the effective flux through each filter.\n",
    "4. Convert the flux to AB magnitudes using the AB magnitude definition.\n",
    "5. Also, integrate the flux over the wavelength, and evaluate bolometric luminosity\n",
    "\n",
    "This exercise will help you understand how the intrinsic physical properties of a supernova are translated into observed magnitudes in real photometric surveys."
   ]
  },
  {
   "cell_type": "code",
   "execution_count": null,
   "id": "7b3ec7df",
   "metadata": {},
   "outputs": [],
   "source": [
    "## YOUR CODE HERE"
   ]
  },
  {
   "cell_type": "code",
   "execution_count": null,
   "id": "aecba63c",
   "metadata": {},
   "outputs": [],
   "source": [
    "mag_lsst_u = ...\n",
    "mag_lsst_g = ...\n",
    "mag_lsst_r = ...\n",
    "mag_lsst_i = ...\n",
    "mag_lsst_z = ...\n",
    "mag_lsst_y = ..."
   ]
  },
  {
   "cell_type": "code",
   "execution_count": null,
   "id": "3d14ed8a",
   "metadata": {},
   "outputs": [],
   "source": [
    "print('apparent magnitudes (AB) from a typical supernova at a distance of 100 Mpc observed by LSST are:')\n",
    "print(f'u-band: {mag_lsst_u:.2f} mag')\n",
    "print(f'g-band: {mag_lsst_g:.2f} mag')\n",
    "print(f'r-band: {mag_lsst_r:.2f} mag')\n",
    "print(f'i-band: {mag_lsst_i:.2f} mag')\n",
    "print(f'z-band: {mag_lsst_z:.2f} mag')\n",
    "print(f'y-band: {mag_lsst_y:.2f} mag')"
   ]
  },
  {
   "cell_type": "code",
   "execution_count": null,
   "id": "c2f10449",
   "metadata": {},
   "outputs": [],
   "source": [
    "# YOUR CODE HERE"
   ]
  },
  {
   "cell_type": "code",
   "execution_count": null,
   "id": "aa815171",
   "metadata": {},
   "outputs": [],
   "source": [
    "print(f'Bolometric luminosity (1000-12000 angstrom) of the SN is {...} erg/s')"
   ]
  },
  {
   "cell_type": "markdown",
   "id": "2a819781",
   "metadata": {},
   "source": [
    "Try changing the wavelength range used for integration and observe how the estimated supernova luminosity (`L_SN`) changes.  \n",
    "Compare it with the total blackbody luminosity ($4\\pi R^2 \\sigma T^4$) and examine the difference."
   ]
  },
  {
   "cell_type": "markdown",
   "id": "ade0da61",
   "metadata": {},
   "source": [
    "---\n",
    "---"
   ]
  },
  {
   "cell_type": "markdown",
   "id": "22b83d9c",
   "metadata": {},
   "source": [
    "## Remark: Absolute Magnitude and Distance Modulus\n",
    "\n",
    "So far, we have calculated the apparent magnitude. However, apparent magnitude depends on the distance to the object. This makes it difficult to directly compare apparent magnitudes between different objects.\n",
    "\n",
    "To address this, we define the absolute magnitude, which represents how bright an object would appear if it were placed at a standard distance of 10 pc.  \n",
    "This allows us to compare intrinsic brightness across objects, independent of distance.\n",
    "\n",
    "### Definition of Absolute Magnitude\n",
    "\n",
    "The absolute magnitude $M$ is defined as the apparent magnitude $m$ the object would have if it were located at a distance of 10 pc:\n",
    "\n",
    "$$\n",
    "M = m - 5 \\log_{10} \\left( \\frac{D_{\\mathrm{L}}}{10\\,\\mathrm{pc}} \\right)\n",
    "$$\n",
    "\n",
    "- $M$: absolute magnitude  \n",
    "- $m$: apparent magnitude\n",
    "\n",
    "### Distance Modulus\n",
    "\n",
    "The difference between the apparent and absolute magnitudes is known as the distance modulus ($\\mu$):\n",
    "\n",
    "$$\n",
    "\\mu = m - M = 5 \\log_{10} \\left( \\frac{D_{\\mathrm{L}}}{10\\,\\mathrm{pc}} \\right)\n",
    "$$\n",
    "\n",
    "The distance modulus provides a convenient way to relate observed magnitudes to intrinsic luminosities via distance.\n"
   ]
  },
  {
   "cell_type": "markdown",
   "id": "ad059c6b",
   "metadata": {},
   "source": [
    "## Step 1-2: Convert Apparent Magnitude to Absolute Magnitude\n",
    "\n",
    "Using the estimated apparent magnitude of a typical supernova at a distance of 100 Mpc (from Assignment 1). This will allow you to determine the intrinsic brightness of the supernova, independent of distance."
   ]
  },
  {
   "cell_type": "markdown",
   "id": "26bce50e",
   "metadata": {},
   "source": [
    "`convert_dL_to_mu(luminosity_distance)`\n",
    "\n",
    "Converts the luminosity distance to a distance modulus.\n",
    "\n",
    "Arguments:\n",
    "- `luminosity_distance (Quantity)`: The luminosity distance.\n",
    "\n",
    "Returns:\n",
    "- `distance_modulus (float)`: The distance modulus."
   ]
  },
  {
   "cell_type": "code",
   "execution_count": null,
   "id": "abf2c146",
   "metadata": {},
   "outputs": [],
   "source": [
    "def convert_dL_to_mu(luminosity_distance):\n",
    "    distance_pc = luminosity_distance.to(u.pc)\n",
    "    \n",
    "    # Calculate the distance modulus\n",
    "    distance_modulus = 5 * np.log10(distance_pc / (10.0*u.pc))\n",
    "    return distance_modulus"
   ]
  },
  {
   "cell_type": "markdown",
   "id": "6f6df6ef",
   "metadata": {},
   "source": [
    "Correct the distance modulous of the supernova."
   ]
  },
  {
   "cell_type": "code",
   "execution_count": null,
   "id": "de812231",
   "metadata": {},
   "outputs": [],
   "source": [
    "print(f'distance modulous at 100 Mpc is {...}')"
   ]
  },
  {
   "cell_type": "code",
   "execution_count": null,
   "id": "22decab0",
   "metadata": {},
   "outputs": [],
   "source": [
    "print('absolute magnitudes (AB) from a typical supernova at a distance of 100 Mpc are:')\n",
    "print(f'u-band: {...} mag')\n",
    "print(f'g-band: {...} mag')\n",
    "print(f'r-band: {...} mag')\n",
    "print(f'i-band: {...} mag')\n",
    "print(f'z-band: {...} mag')\n",
    "print(f'y-band: {...} mag')"
   ]
  },
  {
   "cell_type": "markdown",
   "id": "d1aa79e3",
   "metadata": {},
   "source": [
    "This concludes our brief review of photometry.  \n",
    "Today, we will use these equations and discuss the derived properties."
   ]
  },
  {
   "cell_type": "markdown",
   "id": "e9e2b5eb",
   "metadata": {},
   "source": [
    "---"
   ]
  },
  {
   "cell_type": "markdown",
   "id": "054d7593",
   "metadata": {},
   "source": [
    "# Step 2: Search Type II supernova\n",
    "\n",
    "Before we can analyze any transients, we first need to gather the data.  \n",
    "Although we could continue using the supernova data from Day1, this is a good opportunity to get familiar with another useful method for accessing data.  "
   ]
  },
  {
   "cell_type": "markdown",
   "id": "568023c6",
   "metadata": {},
   "source": [
    "## TNS: The Transient Name Server\n",
    "\n",
    "The [Transient Name Server (TNS)](https://www.wis-tns.org/) is the official IAU database for reporting astronomical transients.  \n",
    "When a new transient is discovered, it is reported to TNS along with several key pieces of information.\n",
    "\n",
    "The TNS database provides detailed metadata for each transient, including:\n",
    "\n",
    "- Discovery date and name (both IAU-designated name and internal survey names)  \n",
    "- Coordinates (RA and Dec)  \n",
    "- Spectroscopic classification (e.g., Type Ia, II, IIn, etc.)  \n",
    "- Redshift and host galaxy information (when available)  \n",
    "- Discovery instrument and reporting group  \n",
    "\n",
    "Combining ZTF or LSST alert streams with TNS metadata is a powerful approach for selecting interesting candidates.  \n",
    "In this exercise, we will learn how to retrieve a list of Type II supernovae (SNe II) using the TNS database."
   ]
  },
  {
   "cell_type": "markdown",
   "id": "059aa257",
   "metadata": {},
   "source": [
    "## Step 2-1: Filtering for Type II Supernovae\n",
    "\n",
    "To search for specific types of supernovae, such as Type II, we can query the TNS database and apply appropriate filters.\n",
    "\n",
    "The TNS provides a public API that allows programmatic access to its transient data. However, using the API requires the following:\n",
    "\n",
    "- Registration for a TNS user account  \n",
    "- Generation of a personal API key  \n",
    "- Familiarity with the API request and response structure  \n",
    "\n",
    "Since API setup and authentication can take a little time (although it’s actually quite easy. Try it if you're interested!), a pre-downloaded dataset is provided for this exercise:  \n",
    "**`tns_get_typeII_2022_2024.csv`**, containing a list of Type II supernovae reported to TNS within the past three years within z<0.05.\n",
    "\n",
    "If you would like to try accessing the TNS directly, uncomment the following code cell and insert your API credentials.  \n",
    "Refer to the following resources for more information:\n",
    "\n",
    "- [Guide Page](https://www.wis-tns.org/content/tns-getting-started)  \n",
    "- [API Manual](https://www.wis-tns.org/sites/default/files/api/tns2_manuals/TNS2.0_bulk_reports_manual.pdf)\n"
   ]
  },
  {
   "cell_type": "code",
   "execution_count": null,
   "id": "6b4eed4b",
   "metadata": {},
   "outputs": [],
   "source": [
    "# tns = \"www.wis-tns.org\"\n",
    "# url_tns_api = \"https://\" + tns + \"/api\"\n",
    "\n",
    "# # tns_bot_id = \"Here put your tns bot id.\"\n",
    "# # tns_bot_name = \"Here put your tns bot name.\"\n",
    "# # tns_api_key = \"Here put your tns api key.\"\n",
    "\n",
    "# def set_bot_tns_marker(bot_id, bot_name):\n",
    "#     tns_marker = 'tns_marker{\"tns_id\": \"' + str(bot_id) + '\", \"type\": \"bot\", \"name\": \"' + bot_name + '\"}'\n",
    "#     return tns_marker\n",
    "\n",
    "# def is_string_json(string):\n",
    "#     try:\n",
    "#         json_object = json.loads(string)\n",
    "#     except Exception:\n",
    "#         return False\n",
    "#     return json_object\n",
    "\n",
    "# def print_status_code(response):\n",
    "#     json_string = is_string_json(response.text)\n",
    "    \n",
    "#     ext_http_errors = [403, 500, 503]\n",
    "#     err_msg = [\"Forbidden\", \"Internal Server Error: Something is broken\", \"Service Unavailable\"]\n",
    "#     if json_string != False:\n",
    "#         print (\"status code ---> [ \" + str(json_string['id_code']) + \" - '\" + json_string['id_message'] + \"' ]\\n\")\n",
    "#     else:\n",
    "#         status_code = response.status_code\n",
    "#         if status_code == 200:\n",
    "#             status_msg = 'OK'\n",
    "#         elif status_code in ext_http_errors:\n",
    "#             status_msg = err_msg[ext_http_errors.index(status_code)]\n",
    "#         else:\n",
    "#             status_msg = 'Undocumented error'\n",
    "#         print (\"status code ---> [ \" + str(status_code) + \" - '\" + status_msg + \"' ]\\n\")\n",
    "\n",
    "# def search(bot_id, bot_name, api_key, search_obj_list):\n",
    "#     search_url = url_tns_api + \"/get/search\"\n",
    "#     tns_marker = set_bot_tns_marker(bot_id, bot_name)\n",
    "#     headers = {'User-Agent': tns_marker}\n",
    "#     json_file = OrderedDict(search_obj_list)\n",
    "#     search_data = {'api_key': api_key, 'data': json.dumps(json_file)}\n",
    "#     response = requests.post(search_url, headers=headers, data=search_data)\n",
    "#     return response\n",
    "\n",
    "# def get(bot_id, bot_name, api_key, get_obj_list):\n",
    "#     get_url = url_tns_api + \"/get/object\"\n",
    "#     tns_marker = set_bot_tns_marker(bot_id, bot_name)\n",
    "#     headers = {'User-Agent': tns_marker}\n",
    "#     json_file = OrderedDict(get_obj_list)\n",
    "#     get_data = {'api_key': api_key, 'data': json.dumps(json_file)}\n",
    "#     response = requests.post(get_url, headers = headers, data = get_data)\n",
    "#     return response"
   ]
  },
  {
   "cell_type": "code",
   "execution_count": null,
   "id": "bef75d24",
   "metadata": {},
   "outputs": [],
   "source": [
    "# build_search_obj = [\n",
    "#     (\"classified_sne\", \"1\"),\n",
    "#     (\"internal_name\", \"ZTF\"),\n",
    "#     (\"objtype\", [10]), #10-Type II\n",
    "#     (\"public\", \"1\"),\n",
    "#     (\"redshift_max\", \"0.05\"),\n",
    "# ]\n",
    "# response_search = search(tns_bot_id, tns_bot_name, tns_api_key, build_search_obj)\n",
    "# response_search_json = is_string_json(response_search.text)\n",
    "# search_json_filtered = [\n",
    "#     obj for obj in response_search_json['data']\n",
    "#     if any(year in obj.get('objname', '') for year in ['2022', '2023', '2024']) # last 3 years\n",
    "# ]\n",
    "\n",
    "# file_path = os.path.join(output_dir, 'tns_search_typeII_2022_2024.json')\n",
    "# with open(file_path, \"w\") as f:\n",
    "#     json.dump(search_json_filtered, f, indent=2)"
   ]
  },
  {
   "cell_type": "code",
   "execution_count": null,
   "id": "c43a1db8",
   "metadata": {},
   "outputs": [],
   "source": [
    "# tns_get_list = []\n",
    "# max_retries = 5  # Maximum retry attempts per object\n",
    "\n",
    "# for obj in search_json_filtered:\n",
    "#     objname = obj[\"objname\"]\n",
    "    \n",
    "#     retries = 0\n",
    "#     success = False\n",
    "\n",
    "#     while retries <= max_retries:\n",
    "#         build_get_obj = [(\"objname\", objname), (\"spectra\", \"1\")]\n",
    "#         response_get = get(tns_bot_id, tns_bot_name, tns_api_key, build_get_obj)\n",
    "#         get_json = is_string_json(response_get.text)\n",
    "\n",
    "#         # Check if JSON is valid and contains 'data'\n",
    "#         if get_json and \"data\" in get_json:\n",
    "#             try:\n",
    "#                 result_data = get_json[\"data\"]\n",
    "\n",
    "#                 # Extract necessary fields safely\n",
    "#                 row = {\n",
    "#                     \"tns_name\": result_data.get(\"name_prefix\", \"\") + result_data.get(\"objname\", \"\"),\n",
    "#                     \"internam_names\": result_data.get(\"internal_names\", \"\"),\n",
    "#                     \"radeg\": result_data.get(\"radeg\", \"\"),\n",
    "#                     \"decdeg\": result_data.get(\"decdeg\", \"\"),\n",
    "#                     \"redshift\": result_data.get(\"redshift\", {}),\n",
    "#                     \"discovery_date\": result_data.get(\"discoverydate\", \"\"),\n",
    "#                     \"discovery_mag\": result_data.get(\"discoverymag\", \"\"),\n",
    "#                     \"type\": result_data.get(\"object_type\", {}).get(\"name\", \"\")\n",
    "#                 }\n",
    "\n",
    "#                 tns_get_list.append(row)\n",
    "#                 success = True\n",
    "#                 break  # Break loop if successful\n",
    "\n",
    "#             except Exception as e:\n",
    "#                 print(f\"Parsing error: {e}\")\n",
    "\n",
    "#         else:\n",
    "#             print(f\"Failed to fetch or parse data for {objname}\")\n",
    "\n",
    "#         # Retry after waiting 20 seconds\n",
    "#         retries += 1\n",
    "#         print(f\"Retry {retries}/{max_retries} - Waiting 20 seconds...\")\n",
    "#         time.sleep(20)\n",
    "\n",
    "#     if not success:\n",
    "#         print(f\"Skipping {objname} after maximum retries.\")\n",
    "\n",
    "# # Create DataFrame from collected rows\n",
    "# tns_get_df = pd.DataFrame(tns_get_list)"
   ]
  },
  {
   "cell_type": "code",
   "execution_count": null,
   "id": "249a7a1f",
   "metadata": {},
   "outputs": [],
   "source": [
    "file_path = os.path.join(output_dir, 'tns_get_typeII_2022_2024.csv')\n",
    "# tns_get_df.to_csv(file_path, index=False)\n",
    "tns_get_df = pd.read_csv(file_path)"
   ]
  },
  {
   "cell_type": "markdown",
   "id": "e506dfe3",
   "metadata": {},
   "source": [
    "From now on, we will use the dataframe `tns_get_df`.  \n",
    "What is stored in `tns_get_df`?"
   ]
  },
  {
   "cell_type": "code",
   "execution_count": null,
   "id": "9c4515e3",
   "metadata": {},
   "outputs": [],
   "source": [
    "tns_get_df.head(10)"
   ]
  },
  {
   "cell_type": "markdown",
   "id": "a1bc528d",
   "metadata": {},
   "source": [
    "How many Type-II supernovae are discovered over 3 years?"
   ]
  },
  {
   "cell_type": "code",
   "execution_count": null,
   "id": "3c725be7",
   "metadata": {},
   "outputs": [],
   "source": [
    "print(f'Number of Type II supernova (z<0.05) is {len(tns_get_df)}')"
   ]
  },
  {
   "cell_type": "markdown",
   "id": "99073a52",
   "metadata": {},
   "source": [
    "## Step 2-2: Calculate Luminosity Distance and Distance Modulus from Redshift\n",
    "\n",
    "The TNS catalog provides the redshift of each transient (if available).  \n",
    "However, for many observational analyses, it is more useful to work with the **luminosity distance** and the **distance modulus**, which can be derived from the redshift.\n",
    "\n",
    "Let's convert the redshift into luminosity distance and compute the corresponding distance modulus. Fortunatelly, `Astropy` provide useful functions to calculate these values."
   ]
  },
  {
   "cell_type": "markdown",
   "id": "add87496",
   "metadata": {},
   "source": [
    "`convert_redshift_to_dL(redshift, H0=73.2, Om0=0.27)`\n",
    "\n",
    "Computes the luminosity distance for a given redshift using custom cosmological parameters.\n",
    "\n",
    "Arguments:\n",
    "- `redshift (float)`: The redshift.\n",
    "- `H0 (float)`: Hubble constant [km/s/Mpc].\n",
    "- `Om0 (float)`: Current matter density parameter.\n",
    "\n",
    "Returns:\n",
    "- `luminosity_distance (Quantity)`: The luminosity distance in Mpc."
   ]
  },
  {
   "cell_type": "code",
   "execution_count": null,
   "id": "8cb566fb",
   "metadata": {},
   "outputs": [],
   "source": [
    "def convert_redshift_to_dL(redshift, H0=73.2, Om0=0.27):\n",
    "    \n",
    "    # Create a custom cosmology\n",
    "    custom_cosmo = FlatLambdaCDM(H0=H0, Om0=Om0)\n",
    "    # Calculate the luminosity distance for the given redshift\n",
    "    luminosity_distance = custom_cosmo.luminosity_distance(redshift)\n",
    "\n",
    "    return luminosity_distance"
   ]
  },
  {
   "cell_type": "code",
   "execution_count": null,
   "id": "cdc64cb0",
   "metadata": {},
   "outputs": [],
   "source": [
    "distance = convert_redshift_to_dL(tns_get_df['redshift'])\n",
    "mu = convert_dL_to_mu(distance)\n",
    "tns_get_df['distance'] = distance.value\n",
    "tns_get_df['mu'] = mu.value"
   ]
  },
  {
   "cell_type": "markdown",
   "id": "513ee19d",
   "metadata": {},
   "source": [
    "As preparation for future steps, we will also create a ZTF_name column."
   ]
  },
  {
   "cell_type": "code",
   "execution_count": null,
   "id": "7da9c062",
   "metadata": {},
   "outputs": [],
   "source": [
    "def extract_ztf_name(internal_str):\n",
    "    if pd.isna(internal_str):\n",
    "        return np.nan\n",
    "    # Split by comma and strip whitespace\n",
    "    names = [name.strip() for name in internal_str.split(',')]\n",
    "    # Find first name that starts with \"ZTF\"\n",
    "    for name in names:\n",
    "        if name.startswith(\"ZTF\"):\n",
    "            return name\n",
    "    return np.nan  # No ZTF name found"
   ]
  },
  {
   "cell_type": "code",
   "execution_count": null,
   "id": "239f5dc3",
   "metadata": {},
   "outputs": [],
   "source": [
    "# Apply the extraction function to the column\n",
    "tns_get_df[\"ztf_name\"] = tns_get_df[\"internam_names\"].apply(extract_ztf_name)\n",
    "ztf_df = tns_get_df[tns_get_df[\"ztf_name\"].notna()]"
   ]
  },
  {
   "cell_type": "markdown",
   "id": "bff97bc1",
   "metadata": {},
   "source": [
    "---"
   ]
  },
  {
   "cell_type": "markdown",
   "id": "738ad664",
   "metadata": {},
   "source": [
    "# Step 3: Access ALeRCE and Query Light Curve Data\n",
    "\n",
    "## Step 3-1: Light Curve Query\n",
    "\n",
    "Next, let's query the light curve data via ALeRCE (see also Day1 notebook).\n",
    "\n",
    "Querying light curve data from ALeRCE can take some time. To save time, a set of pre-fetched light curves has been prepared and stored in `./output_day2/lc_alerce`,  \n",
    "and a list of successfully retrieved sources is available in `ztf_fetching_lc.csv`.\n",
    "\n",
    "If you would like to try querying the data yourself, uncomment the following cell. (Indeed, we had done in Day1)"
   ]
  },
  {
   "cell_type": "code",
   "execution_count": null,
   "id": "40004669",
   "metadata": {},
   "outputs": [],
   "source": [
    "lc_dir = os.path.join(output_dir, \"lc_alerce\")\n",
    "os.makedirs(lc_dir, exist_ok=True)"
   ]
  },
  {
   "cell_type": "markdown",
   "id": "57cb6fc6",
   "metadata": {},
   "source": [
    "`fetch_alerce_lightcurves(oids, output_dir, max_retries=3, sleep_time=1.0, retry_wait=2.0), return_errors=False)`\n",
    "\n",
    "Fetch lightcurve and forced photometry data from ALeRCE API and save to JSON files.\n",
    "\n",
    "Arguments\n",
    "- `oids (list of str)`: List of ZTF object IDs (e.g., ['ZTF23abc...', ...]).\n",
    "- `output_dir (str)`: Directory where JSON files will be saved.\n",
    "- `max_retries (int, optional)`: Number of retry attempts per object on failure (default: 3).\n",
    "- `sleep_time (float, optional)`: Seconds to wait between API calls (default: 1.0).\n",
    "- `retry_wait (float, optional)`: Seconds to wait between retries on failure (default: 2.0).\n",
    "- `return_errors (bool)`: flag to save the list of fetching errors.\n",
    "\n",
    "Returns\n",
    "- `list`: List of object IDs that failed to fetch after retries."
   ]
  },
  {
   "cell_type": "code",
   "execution_count": null,
   "id": "8c2bce0d",
   "metadata": {},
   "outputs": [],
   "source": [
    "def fetch_alerce_lightcurves(oids, output_dir, max_retries=3, sleep_time=1.0, retry_wait=2.0, return_errors=False):\n",
    "\n",
    "    fetching_errors = []\n",
    "\n",
    "    for i, oid in enumerate(oids, 1):\n",
    "        # print(f\"[{i}/{len(oids)}] Fetching: {oid}\")\n",
    "        \n",
    "        retries = 0\n",
    "        success = False\n",
    "\n",
    "        while retries < max_retries:\n",
    "            try:\n",
    "                # Query lightcurve\n",
    "                lc = alerce.query_lightcurve(oid=oid, format=\"json\")\n",
    "                detections = lc.get(\"detections\", [])\n",
    "                non_detections = lc.get(\"non_detections\", [])\n",
    "\n",
    "                # Query forced photometry\n",
    "                fp = alerce.query_forced_photometry(oid=oid, format=\"json\")\n",
    "                forced_detections = fp if isinstance(fp, list) else []\n",
    "\n",
    "                # Combine into one dictionary\n",
    "                combined_data = {\n",
    "                    \"detections\": detections,\n",
    "                    \"non_detections\": non_detections,\n",
    "                    \"forced_detections\": forced_detections,\n",
    "                }\n",
    "\n",
    "                # Save to file\n",
    "                output_path = os.path.join(output_dir, f\"{oid}.json\")\n",
    "                with open(output_path, \"w\") as f:\n",
    "                    json.dump(combined_data, f, indent=2)\n",
    "\n",
    "                success = True\n",
    "                break  # success, exit retry loop\n",
    "\n",
    "            except Exception as e:\n",
    "                print(f\"Error fetching {oid} (attempt {retries + 1}): {e}\")\n",
    "                retries += 1\n",
    "                time.sleep(retry_wait)\n",
    "\n",
    "        if not success:\n",
    "            fetching_errors.append(oid)\n",
    "\n",
    "        time.sleep(sleep_time)\n",
    "\n",
    "    print(\"Done.\")\n",
    "    \n",
    "    if return_errors:\n",
    "        return fetching_errors\n",
    "    else:\n",
    "        return"
   ]
  },
  {
   "cell_type": "markdown",
   "id": "0301eb7a",
   "metadata": {},
   "source": [
    "Let's query!"
   ]
  },
  {
   "cell_type": "code",
   "execution_count": null,
   "id": "80c9a3ce",
   "metadata": {},
   "outputs": [],
   "source": [
    "# Get OIDs\n",
    "oids_to_query = [oid for oid in ztf_df[\"ztf_name\"]]\n",
    "# fetching_errors = fetch_alerce_lightcurves(oids=oids_to_query, output_dir=lc_dir, return_errors=True)"
   ]
  },
  {
   "cell_type": "code",
   "execution_count": null,
   "id": "4498fa25",
   "metadata": {},
   "outputs": [],
   "source": [
    "# ztf_fetching_lc_df = ztf_df[~ztf_df[\"ztf_name\"].isin(fetching_errors)].copy()\n",
    "\n",
    "# Save successful entries\n",
    "file_path = os.path.join(output_dir, 'ztf_fetching_lc.csv')\n",
    "# ztf_fetching_lc_df.to_csv(file_path, index=False)\n",
    "\n",
    "ztf_fetching_lc_df = pd.read_csv(file_path)"
   ]
  },
  {
   "cell_type": "markdown",
   "id": "ea5a26f7",
   "metadata": {},
   "source": [
    "## Step 3-2: Plot Queried Light Curves Using Both Apparent and Absolute Magnitude\n",
    "\n",
    "We have queried light curve data via ALeRCE.  \n",
    "To inspect the data, let's plot all available light curves using both apparent magnitude and absolute magnitude.\n",
    "\n",
    "Be sure to normalize the time axis—e.g., by shifting time so that the peak magnitude occurs at $t = 0$."
   ]
  },
  {
   "cell_type": "markdown",
   "id": "edb8fc7d",
   "metadata": {},
   "source": [
    "`plot_lightcurves(df, fid, absolute)`\n",
    "\n",
    "Plot all light curves from ALeRCE JSON files, aligning time to peak brightness.\n",
    "\n",
    "Arguments:\n",
    "- `df` (pandas.DataFrame): DataFrame containing ZTF name and distance modulous of ZTF alerts.\n",
    "- `fid (int)`: flag of ZTF bands (1=g-band, 2=r-band)\n",
    "- `absolute (bool)`: True = absolute magnitude, False=apparent magnitude\n",
    "\n",
    "Returns:\n",
    "- `None`: Displays a light curve plot"
   ]
  },
  {
   "cell_type": "code",
   "execution_count": null,
   "id": "7a0460f6",
   "metadata": {},
   "outputs": [],
   "source": [
    "def plot_lightcurves(df=ztf_fetching_lc_df, fid=1, absolute=False):\n",
    "\n",
    "    json_files = [f\"{oid}.json\" for oid in df[\"ztf_name\"]]\n",
    "    band_colors = {1: 'green', 2: 'red', 3: 'orange'}\n",
    "    band_labels = {1: 'g-band', 2: 'r-band', 3: 'i-band'}\n",
    "\n",
    "    plt.figure(figsize=(10, 6))\n",
    "\n",
    "    for json_file in json_files:\n",
    "        try:\n",
    "            with open(os.path.join(lc_dir, json_file), \"r\") as f:\n",
    "                data = json.load(f)\n",
    "            detections = data.get(\"detections\", [])\n",
    "            if not detections:\n",
    "                continue\n",
    "\n",
    "            g_detections = [\n",
    "                d for d in detections\n",
    "                if d.get(\"fid\") == fid and \"magpsf\" in d and \"sigmapsf\" in d\n",
    "            ]\n",
    "            if not g_detections:\n",
    "                continue\n",
    "\n",
    "            # Sort by time\n",
    "            g_detections.sort(key=lambda d: d[\"mjd\"])\n",
    "\n",
    "            # Find peak (minimum magpsf)\n",
    "            peak_mjd = min(g_detections, key=lambda d: d[\"magpsf\"])[\"mjd\"]\n",
    "\n",
    "            # Build aligned time and mag\n",
    "            t = [d[\"mjd\"] - peak_mjd for d in g_detections]\n",
    "            mag = [d[\"magpsf\"] for d in g_detections]\n",
    "            \n",
    "            if absolute:\n",
    "                obj_info = df[df['ztf_name'] == os.path.splitext(json_file)[0]]\n",
    "                if not obj_info.empty:\n",
    "                    mu = obj_info[\"mu\"].values[0]\n",
    "                    mag = [m - mu for m in mag]\n",
    "\n",
    "            plt.plot(t, mag, color=band_colors.get(fid, 'gray'), alpha=0.5, linewidth=1)\n",
    "\n",
    "        except Exception as e:\n",
    "            print(f\"Error processing {json_file}: {e}\")\n",
    "            continue\n",
    "\n",
    "    plt.gca().invert_yaxis()\n",
    "    plt.xlabel(f'Days since {band_labels.get(fid, f\"band {fid}\")} peak')\n",
    "    if absolute:\n",
    "        plt.ylabel(f'{band_labels.get(fid, f\"band {fid}\")} absolute magnitude')\n",
    "    else:\n",
    "        plt.ylabel(f'{band_labels.get(fid, f\"band {fid}\")} apparent magnitude')\n",
    "    plt.grid(True)\n",
    "    plt.tight_layout()\n",
    "    plt.xlim(-30, 150)\n",
    "    plt.show()"
   ]
  },
  {
   "cell_type": "code",
   "execution_count": null,
   "id": "787f8e6a",
   "metadata": {},
   "outputs": [],
   "source": [
    "plot_lightcurves(ztf_fetching_lc_df, fid=1)\n",
    "plot_lightcurves(ztf_fetching_lc_df, fid=2)"
   ]
  },
  {
   "cell_type": "code",
   "execution_count": null,
   "id": "3940bf52",
   "metadata": {},
   "outputs": [],
   "source": [
    "plot_lightcurves(ztf_fetching_lc_df, fid=1, absolute=True)\n",
    "plot_lightcurves(ztf_fetching_lc_df, fid=2, absolute=True)"
   ]
  },
  {
   "cell_type": "markdown",
   "id": "34ed6b39",
   "metadata": {},
   "source": [
    "We can see that the apparent magnitudes span a wide range, indicating their strong dependence on luminosity distance.  \n",
    "In contrast, the absolute magnitudes are more tightly clustered, typically $\\sim -16$ to $\\sim -18$ mag."
   ]
  },
  {
   "cell_type": "markdown",
   "id": "7a0c769f",
   "metadata": {},
   "source": [
    "Just in case, add a new column of the peak abolute magnitude into `ztf_fetching_lc_df`"
   ]
  },
  {
   "cell_type": "markdown",
   "id": "6714a4c9",
   "metadata": {},
   "source": [
    "`compute_peak_absmag(json_path, mu, fid=1)`\n",
    "\n",
    "Compute the peak absolute magnitude from a ZTF-style alert JSON file.\n",
    "\n",
    "Arguments:\n",
    "- `json_path` (str): Path to the ZTF alert JSON file.\n",
    "- `mu` (float): Distance modulus to convert apparent magnitude to absolute magnitude.\n",
    "- `fid` (int, optional): Filter ID to select detections from a specific band (default is 1).\n",
    "\n",
    "Returns:\n",
    "- `abs_mag` (float or None): The peak absolute magnitude in the specified filter, or `None` if no valid detections are found or an error occurs.\n"
   ]
  },
  {
   "cell_type": "code",
   "execution_count": null,
   "id": "16c8679b",
   "metadata": {},
   "outputs": [],
   "source": [
    "def compute_peak_absmag(json_path, mu, fid=1):\n",
    "    try:\n",
    "        # Load the first object entry from the JSON file\n",
    "        with open(json_path, \"r\") as f:\n",
    "            data = json.load(f)\n",
    "\n",
    "        # Extract all detections\n",
    "        detections = data.get(\"detections\", [])\n",
    "\n",
    "        # Filter detections by filter ID (fid) and ensure \"magpsf\" is available\n",
    "        band_detections = [d for d in detections if d.get(\"fid\") == fid and \"magpsf\" in d]\n",
    "\n",
    "        # Return None if no valid detections are found\n",
    "        if not band_detections:\n",
    "            return None\n",
    "\n",
    "        # Find the detection with the minimum (brightest) magnitude\n",
    "        peak_mag = min(band_detections, key=lambda d: d[\"magpsf\"])[\"magpsf\"]\n",
    "        # Convert to absolute magnitude using distance modulus (mu)\n",
    "        abs_mag = peak_mag - mu\n",
    "\n",
    "        return abs_mag\n",
    "\n",
    "    except Exception as e:\n",
    "        # Print error message and return None if something goes wrong\n",
    "        print(f\"Error processing {json_path}: {e}\")\n",
    "        return None\n"
   ]
  },
  {
   "cell_type": "code",
   "execution_count": null,
   "id": "33bccee6",
   "metadata": {},
   "outputs": [],
   "source": [
    "peak_abs_g_mags = []\n",
    "peak_abs_r_mags = []\n",
    "for _, row in ztf_fetching_lc_df.iterrows():\n",
    "    oid = row[\"ztf_name\"]\n",
    "    mu = row[\"mu\"]\n",
    "    file_path = os.path.join(lc_dir, f\"{oid}.json\")\n",
    "    abs_g_mag = compute_peak_absmag(file_path, mu, fid=1)\n",
    "    abs_r_mag = compute_peak_absmag(file_path, mu, fid=2)\n",
    "    if abs_g_mag is not None:\n",
    "        peak_abs_g_mags.append(abs_g_mag)\n",
    "    elif abs_g_mag is None:\n",
    "        peak_abs_g_mags.append(np.nan)\n",
    "    \n",
    "    if abs_r_mag is not None:\n",
    "        peak_abs_r_mags.append(abs_r_mag)\n",
    "    elif abs_r_mag is None:\n",
    "        peak_abs_r_mags.append(np.nan)\n",
    "        \n",
    "ztf_fetching_lc_df['peak_abs_g_mag'] = peak_abs_g_mags\n",
    "ztf_fetching_lc_df['peak_abs_r_mag'] = peak_abs_r_mags"
   ]
  },
  {
   "cell_type": "markdown",
   "id": "14bea3de",
   "metadata": {},
   "source": [
    "Plot the distribution of the peak mag, and confirm the typical luminosity of supernovae."
   ]
  },
  {
   "cell_type": "code",
   "execution_count": null,
   "id": "dd0c086e",
   "metadata": {},
   "outputs": [],
   "source": [
    "plt.figure(figsize=(10, 6))\n",
    "plt.hist(ztf_fetching_lc_df['peak_abs_g_mag'], bins=30, color='green')\n",
    "plt.xlabel(\"g-band Peak Absolute Magnitude\")\n",
    "plt.ylabel(\"Number of Sources\")\n",
    "plt.gca().invert_xaxis()\n",
    "plt.tight_layout()\n",
    "plt.show()"
   ]
  },
  {
   "cell_type": "code",
   "execution_count": null,
   "id": "da1fc25e",
   "metadata": {},
   "outputs": [],
   "source": []
  },
  {
   "cell_type": "markdown",
   "id": "b29e5be4",
   "metadata": {},
   "source": [
    "## Step 3-3: Extract Well-observed Sample of Light Curves\n",
    "\n",
    "Not all queried light curves are equally suitable for analysis—some may have sparse data or limited temporal coverage.  \n",
    "To ensure high-quality results, we will extract a well-observed sample of light curves that satisfy the following criteria:\n",
    "\n",
    "- Both g- and r-band light curves are available  \n",
    "- The light curve shows a clear variation in brightness (e.g., it captures rise and decline phases)  \n",
    "- The observations span a sufficiently wide time range\n",
    "\n",
    "This gold sample will serve as a reliable subset for further scientific analysis and light curve modeling."
   ]
  },
  {
   "cell_type": "markdown",
   "id": "c255a062",
   "metadata": {},
   "source": [
    "`get_gr_pairs(detections, max_time_diff=0.5)`\n",
    "\n",
    "Find pairs of g-band and r-band detections from ZTF data that are closely matched in time.\n",
    "\n",
    "Arguments:\n",
    "- `detections` (list): List of detection dictionaries, each containing at least `fid`, `mjd`, `magpsf`, and `sigmapsf`.\n",
    "- `max_time_diff` (float, optional): Maximum allowed time difference (in days) between g- and r-band detections (default is 0.5).\n",
    "\n",
    "Returns:\n",
    "- `gr_pairs` (list of tuples): A list where each tuple contains:\n",
    "  - `g_mjd` (float): MJD of the g-band detection.\n",
    "  - `g_mag` (float): PSF magnitude in the g-band.\n",
    "  - `g_sig` (float): PSF magnitude uncertainty in the g-band.\n",
    "  - `r_mag` (float): PSF magnitude in the r-band.\n",
    "  - `r_sig` (float): PSF magnitude uncertainty in the r-band.\n"
   ]
  },
  {
   "cell_type": "code",
   "execution_count": null,
   "id": "79e0445b",
   "metadata": {},
   "outputs": [],
   "source": [
    "def get_gr_pairs(detections, max_time_diff=0.5):\n",
    "\n",
    "    # Extract g-band (fid=1) and r-band (fid=2) detections with valid PSF magnitudes\n",
    "    g_band = [d for d in detections if d.get(\"fid\") == 1 and \"magpsf\" in d]\n",
    "    r_band = [d for d in detections if d.get(\"fid\") == 2 and \"magpsf\" in d]\n",
    "\n",
    "    gr_pairs = []\n",
    "\n",
    "    # For each g-band detection, find the closest r-band detection in time\n",
    "    for g in g_band:\n",
    "        g_mjd = g[\"mjd\"]\n",
    "        g_mag = g[\"magpsf\"]\n",
    "        g_sig = g[\"sigmapsf\"]\n",
    "\n",
    "        # Find the r-band detection closest in time\n",
    "        closest_r = min(r_band, key=lambda r: abs(r[\"mjd\"] - g_mjd), default=None)\n",
    "\n",
    "        # Check if the time difference is within the specified threshold\n",
    "        if closest_r and abs(closest_r[\"mjd\"] - g_mjd) <= max_time_diff:\n",
    "            gr_pairs.append((\n",
    "                g_mjd,\n",
    "                g_mag,\n",
    "                g_sig,\n",
    "                closest_r[\"magpsf\"],\n",
    "                closest_r[\"sigmapsf\"]\n",
    "            ))\n",
    "    return gr_pairs"
   ]
  },
  {
   "cell_type": "markdown",
   "id": "6b5eb70e",
   "metadata": {},
   "source": [
    "`check_significant_variation(detections, fid=1, threshold=2.0)`\n",
    "\n",
    "Check whether the object shows significant photometric variation in a given filter band.\n",
    "\n",
    "Arguments:\n",
    "- `detections` (list): List of detection dictionaries, each containing at least `fid` and `magpsf`.\n",
    "- `fid` (int, optional): Filter ID to check for variability (default is 1, typically g-band).\n",
    "- `threshold` (float, optional): Minimum magnitude range to consider variability significant (default is 2.0 mag).\n",
    "\n",
    "Returns:\n",
    "- `bool`: `True` if the magnitude range in the specified filter exceeds the threshold, otherwise `False`."
   ]
  },
  {
   "cell_type": "code",
   "execution_count": null,
   "id": "d011b005",
   "metadata": {},
   "outputs": [],
   "source": [
    "def check_significant_variation(detections, fid=1, threshold=2.0):\n",
    "    # Extract PSF magnitudes from the specified filter band\n",
    "    mags = [d[\"magpsf\"] for d in detections if d.get(\"fid\") == fid and \"magpsf\" in d]\n",
    "\n",
    "    # If fewer than 2 measurements, cannot evaluate variation\n",
    "    if len(mags) < 2:\n",
    "        return False\n",
    "\n",
    "    # Check if the range of magnitudes exceeds the threshold\n",
    "    return abs(max(mags) - min(mags)) >= threshold\n"
   ]
  },
  {
   "cell_type": "markdown",
   "id": "371bb2e5",
   "metadata": {},
   "source": [
    "`check_time_coverage_around_peak(detections, fid=1, days_before=8, days_after=50)`\n",
    "\n",
    "Check whether the light curve in the specified band sufficiently covers a defined time window around the peak brightness.\n",
    "\n",
    "Arguments:\n",
    "- `detections` (list): List of detection dictionaries, each containing at least `fid`, `mjd`, and `magpsf`.\n",
    "- `fid` (int, optional): Filter ID to select detections (default is 1, typically g-band).\n",
    "- `days_before` (float, optional): Required time coverage before peak brightness (default is 8 days).\n",
    "- `days_after` (float, optional): Required time coverage after peak brightness (default is 50 days).\n",
    "\n",
    "Returns:\n",
    "- `bool`: `True` if the detections span the desired time window around peak brightness; otherwise, `False`."
   ]
  },
  {
   "cell_type": "code",
   "execution_count": null,
   "id": "da44bc03",
   "metadata": {},
   "outputs": [],
   "source": [
    "def check_time_coverage_around_peak(detections, fid=1, days_before=8, days_after=50):\n",
    "    \n",
    "    # Filter detections by filter ID and ensure they have PSF magnitude\n",
    "    band_detections = [d for d in detections if d.get(\"fid\") == fid and \"magpsf\" in d]\n",
    "\n",
    "    # Return False if no detections are available\n",
    "    if not band_detections:\n",
    "        return False\n",
    "\n",
    "    # Sort detections by MJD\n",
    "    band_detections.sort(key=lambda d: d[\"mjd\"])\n",
    "\n",
    "    # Find the MJD of the detection with the minimum (brightest) magnitude\n",
    "    peak_mjd = min(band_detections, key=lambda d: d[\"magpsf\"])[\"mjd\"]\n",
    "\n",
    "    # Define desired time window around the peak\n",
    "    min_mjd = peak_mjd - days_before\n",
    "    max_mjd = peak_mjd + days_after\n",
    "\n",
    "    # Get the time range of the actual detections\n",
    "    mjds = [d[\"mjd\"] for d in band_detections]\n",
    "\n",
    "    # Check if the detection times fully cover the desired time range\n",
    "    if min(mjds) <= min_mjd and max(mjds) >= max_mjd:\n",
    "        return True\n",
    "    else:\n",
    "        return False\n"
   ]
  },
  {
   "cell_type": "code",
   "execution_count": null,
   "id": "5ceb45bc",
   "metadata": {},
   "outputs": [],
   "source": [
    "selected_sources = []\n",
    "for _, row in ztf_fetching_lc_df.iterrows():\n",
    "    oid = row[\"ztf_name\"]\n",
    "    file_path = os.path.join(lc_dir, f\"{oid}.json\")\n",
    "    if not os.path.exists(file_path):\n",
    "        continue\n",
    "    try:\n",
    "        with open(file_path, \"r\") as f:\n",
    "            data = json.load(f)\n",
    "        detections = data.get(\"detections\", [])\n",
    "\n",
    "        if (len(get_gr_pairs(detections)) >= 10 and \n",
    "            check_significant_variation(detections, fid=1) and\n",
    "            check_time_coverage_around_peak(detections, fid=1, days_before=8, days_after=100)\n",
    "            ):\n",
    "            selected_sources.append(row)\n",
    "    except Exception as e:\n",
    "        print(f\"Error processing {oid}: {e}\")\n",
    "        continue\n",
    "\n",
    "ztf_selected_df = pd.DataFrame(selected_sources)"
   ]
  },
  {
   "cell_type": "code",
   "execution_count": null,
   "id": "41df35a5",
   "metadata": {},
   "outputs": [],
   "source": [
    "ztf_selected_df.head(10)"
   ]
  },
  {
   "cell_type": "markdown",
   "id": "3b36167c",
   "metadata": {},
   "source": [
    "How many well-observed samples are selected?"
   ]
  },
  {
   "cell_type": "code",
   "execution_count": null,
   "id": "c7c083b8",
   "metadata": {},
   "outputs": [],
   "source": [
    "print(f'Number of Well-observed Samples is {len(ztf_selected_df)}')"
   ]
  },
  {
   "cell_type": "markdown",
   "id": "2536cde1",
   "metadata": {},
   "source": [
    "Let's plot the light curves of the selected samples."
   ]
  },
  {
   "cell_type": "code",
   "execution_count": null,
   "id": "af35dc34",
   "metadata": {},
   "outputs": [],
   "source": [
    "plot_lightcurves(ztf_selected_df, fid=1, absolute=True)\n",
    "plot_lightcurves(ztf_selected_df, fid=2, absolute=True)"
   ]
  },
  {
   "cell_type": "markdown",
   "id": "46ff23eb",
   "metadata": {},
   "source": [
    "Try adjusting the selection criteria (e.g., minimum number of data points, required time span, or brightness variation), and observe how the number of selected light curves changes."
   ]
  },
  {
   "cell_type": "markdown",
   "id": "d9b50f07",
   "metadata": {},
   "source": [
    "---"
   ]
  },
  {
   "cell_type": "markdown",
   "id": "86d696ff",
   "metadata": {},
   "source": [
    "# Step 4: Reconstruct the Luminosity from the Observed Flux\n",
    "\n",
    "In this step, we will try to reconstruct the luminosity of each supernova from its observed flux.  \n",
    "To do this, we will combine several pieces of information:\n",
    "\n",
    "- The observed apparent magnitude or flux in each band  \n",
    "- The luminosity distance, estimated from redshift  \n",
    "- Filter transmission curves (to relate observed flux to spectral energy)\n",
    "\n",
    "But, all of the step has already experienced in Step 1."
   ]
  },
  {
   "cell_type": "markdown",
   "id": "10d6a009",
   "metadata": {},
   "source": [
    "---\n",
    "---"
   ]
  },
  {
   "cell_type": "markdown",
   "id": "2292fca5",
   "metadata": {},
   "source": [
    "## Assignment 2: Fit the SED and Visualize the Results\n",
    "\n",
    "For well-observed samples, we can perform spectral energy distribution (SED) fitting by varying the blackbody temperature and radius of each supernova.\n",
    "\n",
    "To evaluate the quality of the fit, it is helpful to plot the best-fit SED alongside the observed photometric data at each epoch.\n",
    "\n",
    "In this assignment, you will randomly select one of the light curves and attempt to fit its SED using a blackbody model.\n",
    "\n",
    "Tasks:\n",
    "1. Select one light curve from the sample obtained in Step 3.\n",
    "2. Convert the observed magnitudes into fluxes (with uncertainties).\n",
    "3. Compute the blackbody SED for a given temperature and radius.\n",
    "4. Fit the model SED to the observed fluxes at each epoch.\n",
    "5. Repeat the fitting process for each time point in the light curve.\n",
    "6. Plot the observed fluxes and the fitted SED curves for each epoch.\n",
    "7. Finally, obtain the time evolution of the Luminosity, Temperature, and Radius."
   ]
  },
  {
   "cell_type": "code",
   "execution_count": null,
   "id": "84af2830",
   "metadata": {},
   "outputs": [],
   "source": [
    "## YOUR CODE HERE"
   ]
  },
  {
   "cell_type": "markdown",
   "id": "402be734",
   "metadata": {},
   "source": [
    "### Supplementary Assignment: Plot the Bolometric Light Curve"
   ]
  },
  {
   "cell_type": "code",
   "execution_count": null,
   "id": "ecc54bf8",
   "metadata": {},
   "outputs": [],
   "source": [
    "## YOUR CODE HERE"
   ]
  },
  {
   "cell_type": "markdown",
   "id": "74a9849b",
   "metadata": {},
   "source": [
    "---\n",
    "---"
   ]
  },
  {
   "cell_type": "markdown",
   "id": "3007a97f",
   "metadata": {},
   "source": [
    "---"
   ]
  },
  {
   "cell_type": "markdown",
   "id": "cd602f91",
   "metadata": {},
   "source": [
    "## Step 5: Fitting the Light Curve by a Simple Plateau Model\n",
    "\n",
    "In this step, we fit the bolometric light curves of supernovae using a simple model. \n",
    "\n",
    "Type II supernovae, especially for Type IIP supernovae, have a characteristic phase keeping constant luminosity over several 10 days: Plateau phase.\n",
    "\n",
    "We will model this phase as follows:\n",
    "\n",
    "$$\n",
    "L(t) =\n",
    "\\begin{cases}\n",
    "L_{\\mathrm{plateau}} & (t_0 < t < t_0 + t_{\\mathrm{plateau}}) \\\\\n",
    "L_{\\mathrm{plateau}} \\cdot e^{-(t - t_{\\mathrm{end}})/\\tau_{\\mathrm{decay}}} & (t > t_{\\mathrm{end}})\n",
    "\\end{cases}\n",
    "$$\n",
    "\n",
    "where:\n",
    "- $L_{\\mathrm{plateau}}$: Plateau luminosity  \n",
    "- $t_0$: Explosion time (here $t_0=0$) \n",
    "- $t_{\\mathrm{plateau}}$: Plateau duration  \n",
    "- $t_{\\mathrm{end}} = t_0 + t_{\\mathrm{plateau}} = t_{\\mathrm{plateau}}$\n",
    "- $\\tau_{\\mathrm{decay}}$: Characteristic decay time in the tail phase (e.g., Radioactive decay)"
   ]
  },
  {
   "cell_type": "markdown",
   "id": "0124aa5b",
   "metadata": {},
   "source": [
    "---\n",
    "---"
   ]
  },
  {
   "cell_type": "markdown",
   "id": "22bad117",
   "metadata": {},
   "source": [
    "## Assignment 3: Fit the Bolometric Light Curve Using a Simple Plateau Model\n",
    "\n",
    "In Step 4, we constructed the bolometric light curve of a supernova.\n",
    "In this assignment, your task is to fit the light curve using a simple plateau model commonly used to describe Type IIP supernovae.\n",
    "\n",
    "If the fit appears successful, try applying the same model to all the selected samples from Step 3."
   ]
  },
  {
   "cell_type": "code",
   "execution_count": null,
   "id": "e2b03f97",
   "metadata": {},
   "outputs": [],
   "source": [
    "## YOUR CODE HERE"
   ]
  },
  {
   "cell_type": "code",
   "execution_count": null,
   "id": "facb3d95",
   "metadata": {},
   "outputs": [],
   "source": [
    "print(f\"mean plateau luminosity of Type II SNe is {...} erg/s\")"
   ]
  },
  {
   "cell_type": "markdown",
   "id": "fd98bfc5",
   "metadata": {},
   "source": [
    "---\n",
    "---"
   ]
  },
  {
   "cell_type": "markdown",
   "id": "e5d677e6",
   "metadata": {},
   "source": [
    "---"
   ]
  },
  {
   "cell_type": "markdown",
   "id": "8943ead5",
   "metadata": {},
   "source": [
    "# Discussions and Further Steps:\n",
    "\n",
    "Today, we reviewed photometric systems and explored light curve modeling using observed data.\n",
    "\n",
    "If you have extra time, consider exploring the following topics:\n",
    "\n",
    "- Try changing the filters to those used by other telescopes (e.g., VLT, near-infrared telescopes), and estimate the expected magnitudes.\n",
    "- Try querying transients directly via the TNS API (you’ll need to create an account). Retrieve other populations (e.g., SN Ia, TDEs, CVs...) and compare their light curve shapes.\n",
    "- Simulate LSST observations using the temperature and radius you estimated earlier (see below).\n",
    "- Try fitting the supernova light curves using more physical models (see below) and analyze the derived parameters. If the results seem unrealistic, consider possible reasons (some assumptions might not be appropriate)."
   ]
  },
  {
   "cell_type": "code",
   "execution_count": null,
   "id": "48e891ce",
   "metadata": {},
   "outputs": [],
   "source": []
  },
  {
   "cell_type": "markdown",
   "id": "1d191330",
   "metadata": {},
   "source": [
    "---"
   ]
  },
  {
   "cell_type": "markdown",
   "id": "9aed0866",
   "metadata": {},
   "source": [
    "Hereafter, please refer to `day2_sscne_ku_solution.ipynb` (the functions used in the following cell is defined in `day2_ccsne_ku_solution.ipynb`)"
   ]
  },
  {
   "cell_type": "markdown",
   "id": "74be0a24",
   "metadata": {},
   "source": [
    "## Further Step 1: Simulate LSST Observation\n",
    "\n",
    "We have obtained the time evolution of the blackbody temperature and radius for a supernova.\n",
    "By interpolating these quantities over time, we can simulate how the supernova would appear in LSST's photometric bands (from g to y).\n",
    "\n",
    "Note:\n",
    "The data structure and utility functions depend on the definitions in your code.\n",
    "Please refer to `day2_ccsne_ku_solution.ipynb` for implementation details."
   ]
  },
  {
   "cell_type": "code",
   "execution_count": null,
   "id": "6b3e96ee",
   "metadata": {},
   "outputs": [],
   "source": [
    "def mock_observation_by_lsst(sed_fit, distance_mpc, filters=filters):\n",
    "    \n",
    "    distance = distance_mpc * u.Mpc\n",
    "    \n",
    "    # Interpolation setup\n",
    "    mjd_sed = [res['mjd'] for res in sed_fit]\n",
    "    T_sed = [res['T'].to(u.K).value for res in sed_fit]\n",
    "    R_sed = [res['R'].to(u.cm).value for res in sed_fit]\n",
    "    L_sed = [res['L_bol'].to(u.erg/u.s).value for res in sed_fit]\n",
    "    \n",
    "    T_interp = interp1d(mjd_sed, T_sed, kind='linear', fill_value=\"extrapolate\")\n",
    "    R_interp = interp1d(mjd_sed, R_sed, kind='linear', fill_value=\"extrapolate\")\n",
    "\n",
    "    # Define time grid (5 day interval)\n",
    "    mjd_grid = np.arange(min(mjd_sed), max(mjd_sed), 5)\n",
    "    \n",
    "    filter_list = ['lsst_u', 'lsst_g', 'lsst_r', 'lsst_i', 'lsst_z', 'lsst_y']\n",
    "    limiting_mag = {'lsst_u': 23.70, 'lsst_g': 24.97, 'lsst_r':24.52, 'lsst_i': 24.13, 'lsst_z': 23.56, 'lsst_y':22.55}\n",
    "    mock_mags = {band: [] for band in filter_list}\n",
    "    for mjd in mjd_grid:\n",
    "        T = T_interp(mjd) * u.K\n",
    "        R = R_interp(mjd) * u.cm\n",
    "        for band in filter_list:\n",
    "            \n",
    "            zp, lambda_eff, filt = get_filter_table(filters, band)\n",
    "            wl = np.linspace(1000, 12000, 2000) * u.AA\n",
    "            B_lambda = compute_B_lambda(wl, T)\n",
    "            f_lambda = compute_f_lambda(B_lambda, R, distance)\n",
    "            f_fil = compute_filter_flux(f_lambda, wl, filt)\n",
    "            mag = convert_flux_to_mag(f_fil, zp)\n",
    "            mock_mags[band].append((mjd, mag))\n",
    "    \n",
    "    mock_mags_lsst = {}\n",
    "    for band in filter_list:\n",
    "        mag_data = mock_mags[band]  # List of tuples: (mjd, mag)\n",
    "        mag_limit = limiting_mag[band]\n",
    "\n",
    "        # detectable\n",
    "        filtered = [(mjd, mag) for mjd, mag in mag_data if mag < mag_limit]\n",
    "        mock_mags_lsst[band] = filtered\n",
    "    \n",
    "    return mock_mags_lsst"
   ]
  },
  {
   "cell_type": "code",
   "execution_count": null,
   "id": "0f7b336e",
   "metadata": {},
   "outputs": [],
   "source": [
    "mock_mags_lsst = mock_observation_by_lsst(sed_fit, distance)"
   ]
  },
  {
   "cell_type": "code",
   "execution_count": null,
   "id": "be7a5593",
   "metadata": {},
   "outputs": [],
   "source": [
    "plt.figure(figsize=(10, 6))\n",
    "\n",
    "filter_list = ['lsst_u', 'lsst_g', 'lsst_r', 'lsst_i', 'lsst_z', 'lsst_y']\n",
    "band_color = {'lsst_u': 'blue', 'lsst_g': 'green', 'lsst_r': 'red', 'lsst_i': 'orange', 'lsst_z': 'pink', 'lsst_y': 'brown'}\n",
    "for band in filter_list:\n",
    "    \n",
    "    mjd_vals, mag_vals = zip(*mock_mags_lsst[band])\n",
    "    plt.scatter(mjd_vals, mag_vals, label=band, c = band_color[band])\n",
    "\n",
    "plt.gca().invert_yaxis()\n",
    "plt.xlabel(\"MJD\")\n",
    "plt.ylabel(\"Magnitude\")\n",
    "plt.title(\"Mock LSST Light Curves (Above Limiting Magnitude)\")\n",
    "plt.legend()\n",
    "plt.grid(True)\n",
    "plt.show()"
   ]
  },
  {
   "cell_type": "markdown",
   "id": "72ce22a8",
   "metadata": {},
   "source": [
    "---"
   ]
  },
  {
   "cell_type": "markdown",
   "id": "6f52ec3a",
   "metadata": {},
   "source": [
    "### Further Step2: Fit by Physical Model\n",
    "\n",
    "If we neglect the heating source (e.g., radioactive decay), we can analytically solve the following thermodynamics equation:\n",
    "\n",
    "$$\n",
    "\\frac{dE_{\\rm int}(t)}{dt} = -P\\frac{dV}{dt} + L_{\\rm heat} - L_{\\rm cool} = -\\frac{E_{\\mathrm{int}}(t)}{R}\\frac{dR}{dt} - L(t)\n",
    "$$\n",
    "\n",
    "where:\n",
    "- $E_{\\rm int}$: internal energy of the supernova ($\\sim 10^{51}$ erg)\n",
    "- $P$: pressure\n",
    "- $V$: volume\n",
    "- $R$: radius\n",
    "- $L_{\\rm heat}$: heating luminosity (here $L_{\\rm heat}= 0$)\n",
    "- $L_{\\rm cool}$: cooling luminosity\n",
    "\n",
    "Also, the luminosity detemined by photn diffusion is expressed as follows:\n",
    "$$\n",
    "L(t) = 4\\pi r^2 \\frac{c}{3\\kappa\\rho} \\frac{\\partial}{\\partial r} (aT^4) \\sim \\frac{E_{\\mathrm{int}(t)}}{t_{\\mathrm{diff}}}\n",
    "$$\n",
    "\n",
    "where:\n",
    "- $\\kappa$: opacity\n",
    "- $\\rho$: density\n",
    "- $a$: radiation constant\n",
    "- $t_{\\mathrm{diff}}$: diffusion timescale ($= \\tau \\frac{R_{\\mathrm{ej}}}{c}$)\n",
    "- $R_{\\mathrm{ej}}$: ejecta radius ($R_{\\mathrm{ej}} = R_{0} + v_{\\mathrm{ej}}t$; where $R_{0}$ is the initial radius)\n",
    "- $v_{\\mathrm{ej}}$: ejecta velocity\n",
    "\n",
    "Assuming one-zone model, we can introduce a characteristic timescale ($t_{\\rm ch}$), which is a typical timescale that a supernova reaches its peak:\n",
    "$$\n",
    "t_{\\mathrm{ch}} \\approx \\sqrt{t_{\\mathrm{dyn}} t_{\\mathrm{diff}}} = \\left(\\frac{3\\kappa M_{\\mathrm{ej}}}{4\\pi c v_{\\mathrm{ej}}}\\right)^{1/2}\n",
    "$$\n",
    "\n",
    "where:\n",
    "- $t_{\\mathrm{dyn}}$: dynamical timescale ($= R_{\\mathrm{ej}}/v_{\\mathrm{ej}}$)\n",
    "- $\\kappa$: opacity\n",
    "- $M_{\\mathrm{ej}}$: ejecta mass\n",
    "- $\\tau$: optical depth\n",
    "\n",
    "Furthermore, [Arnett (1982)](https://ui.adsabs.harvard.edu/abs/1982ApJ...253..785A/abstract) suggest that the characteristic timescale is expressed as\n",
    "\n",
    "$$\n",
    "t_{\\mathrm{ch}} \\approx \\left(\\frac{2\\kappa M_{\\mathrm{ej}}}{\\beta \\pi c v_{\\mathrm{ej}}}\\right)^{1/2}\n",
    "$$\n",
    "where:\n",
    "- $\\beta$: structure parameter ($\\sim 13.8$)\n",
    "\n",
    "Using the charcteristic timescale, the luminosity is expressed as follows:\n",
    "$$\n",
    "L(t) \\sim \\frac{E_{\\mathrm{int}(t)}}{t_{\\mathrm{ch}}} \\frac{t+t_{0}}{t_{\\mathrm{ch}}}\n",
    "$$\n",
    "\n",
    "where:\n",
    "- $t_{0} = R_{0}/ v_{\\mathrm{ej}}$\n",
    "\n",
    "Thus, the thermodynamics equation is modified as follows:\n",
    "\n",
    "$$\n",
    "\\frac{dE_{\\rm int}(t)}{dt} = = -\\frac{E_{\\mathrm{int}}(t)}{t+t_{0}} - \\frac{E_{\\mathrm{int}(t)}}{t_{\\mathrm{ch}}} \\frac{t+t_{0}}{t_{\\mathrm{ch}}}\n",
    "$$\n",
    "\n",
    "This equation can be analytically solved, and we obtain\n",
    "\n",
    "$$\n",
    "L(t) = \\frac{E_{0}t_{0}}{t_{\\mathrm{ch}}^2} \\exp\\left( -\\frac{t^2 + 2t_{0}t}{2t_{\\mathrm{ch}}^2} \\right)\n",
    "$$\n",
    "\n",
    "where:\n",
    "- $E_{0} = E_{\\mathrm{int}}(0)$\n",
    "\n",
    "\n",
    "\n",
    "This model might explain early phase of the light curve, let's try to fit this model, and derive physical properties like $M_{\\mathrm{ej}}$"
   ]
  },
  {
   "cell_type": "markdown",
   "id": "7ea4c4b0",
   "metadata": {},
   "source": [
    "`compute_arnett_model(t, E_0, R_0, M_ej, v_ej, kappa)`\n",
    "\n",
    "Compute the luminosity of an explosion using a simplified Arnett model.\n",
    "\n",
    "Arguments:\n",
    "- `t` (array-like): Time since explosion in days.\n",
    "- `E_0` (float): Initial thermal energy in erg.\n",
    "- `R_0` (float): Initial radius of the progenitor in cm.\n",
    "- `M_ej` (float): Ejecta mass in solar masses.\n",
    "- `v_ej` (float): Ejecta velocity in cm/s.\n",
    "- `kappa` (float): Optical opacity in cm²/g.\n",
    "\n",
    "Returns:\n",
    "- `L` (array): Luminosity at each time in erg/s.\n",
    "\n",
    "\n",
    "`residuals_for_arnett_fit(params, t, L_obs)`\n",
    "\n",
    "Compute residuals between observed and model luminosities in log space, for use in fitting procedures.\n",
    "\n",
    "Arguments:\n",
    "- `params` (list or array): Model parameters `[E_0, R_0, M_ej, v_ej, kappa]`.\n",
    "- `t` (array-like): Time array in days.\n",
    "- `L_obs` (array-like): Observed bolometric luminosity in erg/s.\n",
    "\n",
    "Returns:\n",
    "- `residuals` (array): Logarithmic residuals between model and observed luminosity.\n"
   ]
  },
  {
   "cell_type": "code",
   "execution_count": null,
   "id": "6bb99203",
   "metadata": {},
   "outputs": [],
   "source": [
    "def compute_arnett_model(t, E_0, R_0, M_ej, v_ej, kappa):\n",
    "\n",
    "    # Convert inputs to physical units\n",
    "    t = t * u.day\n",
    "    E_0 = E_0 * u.erg\n",
    "    R_0 = R_0 * u.cm\n",
    "    M_ej = M_ej * M_sun\n",
    "    v_ej = v_ej * (u.cm/u.s)\n",
    "    kappa = kappa * (u.cm**2 / u.g)\n",
    "\n",
    "    # Model constants\n",
    "    beta = 13.8  # geometric factor\n",
    "    t_ch = ((2 * kappa * M_ej / (beta * c * v_ej))**0.5)  # characteristic timescale\n",
    "    t_0 = R_0 / v_ej  # expansion timescale\n",
    "\n",
    "    # Luminosity as a function of time\n",
    "    L = (E_0 * t_0 / t_ch**2 * np.exp(-(t**2 + 2 * t_0 * t) / (2 * t_ch**2)))\n",
    "\n",
    "    return L.to(u.erg/u.s).value\n",
    "\n",
    "\n",
    "def residuals_for_arnett_fit(params, t, L_obs):\n",
    "\n",
    "    # Unpack parameters\n",
    "    E_0, R_0, M_ej, v_ej, kappa = params\n",
    "\n",
    "    # Compute model luminosity\n",
    "    model_L = compute_arnett_model(t, E_0, R_0, M_ej, v_ej, kappa)\n",
    "\n",
    "    # Avoid log(0) by applying a floor to model luminosity\n",
    "    model_L = np.clip(model_L, 1e-20, np.inf)\n",
    "\n",
    "    # Return residuals in log-luminosity space\n",
    "    return np.log10(model_L) - np.log10(L_obs)\n"
   ]
  },
  {
   "cell_type": "code",
   "execution_count": null,
   "id": "63be3293",
   "metadata": {},
   "outputs": [],
   "source": [
    "mjd_sed = np.array([res['mjd'] for res in sed_fit])\n",
    "day_sed = mjd_sed - disc\n",
    "day_fit = np.linspace(day_sed.min(), day_sed.max(), 300)\n",
    "\n",
    "L_bol = np.array([res['L_bol'].value for res in sed_fit])\n",
    "\n",
    "p0_arnett = [1e51, 1e13, 10, 5e8, 0.1] # E_0, R_0, M_ej, v_ej, kappa\n",
    "bounds_arnett = ([1e49, 1e11, 5, 1e8, 0.01], [1e53, 1e15, 50, 3e9, 1])\n",
    "res_arnett = least_squares(residuals_for_arnett_fit, p0_arnett, bounds=bounds_arnett, \n",
    "                           args=(day_sed, L_bol), x_scale='jac')\n",
    "if res_arnett.success:\n",
    "    L_arnett_fit = compute_arnett_model(day_fit, *res_arnett.x)\n",
    "    E_0_fit, R_0_fit, M_ej_fit, v_ej_fit, kappa_fit = res_arnett.x\n",
    "    print(\"Arnett Physical Model Fit Results:\")\n",
    "    print(f\"  E_0   = {E_0_fit:.2e} erg\")\n",
    "    print(f\"  R_0   = {R_0_fit:.2e} cm\")\n",
    "    print(f\"  M_ej  = {M_ej_fit:.2f} Msun\")\n",
    "    print(f\"  v_ej  = {v_ej_fit:.2e} cm/s\")\n",
    "    print(f\"  kappa = {kappa_fit:.2e} cm2/s\")"
   ]
  },
  {
   "cell_type": "code",
   "execution_count": null,
   "id": "2c7e63ea",
   "metadata": {},
   "outputs": [],
   "source": [
    "plt.figure(figsize=(10, 6))\n",
    "plt.plot(day_sed, L_bol, 'o', label='L_bol')\n",
    "plt.plot(day_fit, L_arnett_fit, label='Arnett', lw=2)\n",
    "plt.xlabel(\"Days since the discovery\")\n",
    "plt.ylabel(\"L_bol [erg/s]\")\n",
    "plt.yscale(\"log\")\n",
    "plt.legend()\n",
    "plt.grid(True, which='both', ls='--')\n",
    "plt.show()"
   ]
  },
  {
   "cell_type": "code",
   "execution_count": null,
   "id": "3b663780",
   "metadata": {},
   "outputs": [],
   "source": []
  }
 ],
 "metadata": {
  "kernelspec": {
   "display_name": "lsstss2025",
   "language": "python",
   "name": "python3"
  },
  "language_info": {
   "codemirror_mode": {
    "name": "ipython",
    "version": 3
   },
   "file_extension": ".py",
   "mimetype": "text/x-python",
   "name": "python",
   "nbconvert_exporter": "python",
   "pygments_lexer": "ipython3",
   "version": "3.11.13"
  }
 },
 "nbformat": 4,
 "nbformat_minor": 5
}
