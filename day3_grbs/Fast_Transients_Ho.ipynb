{
 "cells": [
  {
   "cell_type": "markdown",
   "metadata": {},
   "source": [
    "# Fast Transient Searches\n",
    "\n",
    "Borrows from materials created by Igor Andreoni (igor.andreoni@unc.edu) for the 2022 ZTF Summer School, and by Eric Bellm in the [Zwicky Transient Facility GitHub](https://github.com/ZwickyTransientFacility/ztf-avro-alert/blob/master/notebooks/Filtering_alerts.ipynb). \n",
    "\n",
    "Prepared by Anna Ho (annayqho@cornell.edu) for the LSST CCA Summer School 2025."
   ]
  },
  {
   "cell_type": "markdown",
   "metadata": {},
   "source": [
    "### Objective\n",
    "The objective of this notebook is to search a night's worth of LSST-style alerts for short-duration extragalactic transients.\n",
    "\n",
    "## Required python packages (pip install)\n",
    "json, os, numpy, glob, io, pandas, matplotlib, fastavro, gzip, astropy, collections\n",
    "\n",
    "## Ancillary datasets\n",
    "ztf_partnership_20210116_random_subset.tar.gz\n",
    "\n",
    "### Introduction\n",
    "Wide-field surveys such as ATLAS, ASAS-SN, and ZTF image the entire observable sky approximately once per night. They also survey smaller areas multiple times per night, in order to be sensitive to shorter-duration phenomena. In ZTF's case, the area is about 10% of the sky, and the program is called the \"high-cadence survey\". LSST will do something similar in its \"deep drilling fields.\" Image subtraction between a new \"science\" image and a deep \"reference\" (or \"template\") image makes every new source, or every source that changes in brightness, stand out. When such a source is identified in a new image, an alert packet is issued, which is a dictionary rich with information, including differential photometry between the science and the template images. LSST will use avro-style alerts, in exactly the same format that ZTF has been using since 2018. This makes ZTF an excellent training dataset for working with LSST data, although the number of alerts per night is 1-2 orders of magnitude smaller (10^5-10^6 per night, vs. 10^7 per night projected for LSST). \n",
    "\n",
    "Earlier today we learned some of the scientific reasons to search for short-duration transients, e.g., \"orphan afterglows\" -- transients resembling GRB afterglows yet which lack any associated detected GRB. This search constitutes a \"needle in the haystack\" challenge: about one such event is found every few months in the ZTF data, whereas hundreds to thousands of \"normal\" supernovae are detected every night. \n",
    "\n",
    "### Method\n",
    "You are provided with alerts from ZTF's high-cadence survey on the night of 16 January 2021. You will learn how to identify the needle---a real extragalactic \"orphan\" afterglow---in the haystack. \n",
    "\n",
    "As you will see, the dataset has so many alerts that a human cannot check each source individually. The objective of the notebook is to apply a number of well-motivated cuts to bring an overwhelming amount of information down to a manageable number of transients that astronomers can vet. The main steps will be:\n",
    "- read and understand the data\n",
    "- apply filters \n",
    "- plot light curves\n",
    "- inspect the shortest-duration transients\n",
    "\n",
    "### The data set\n",
    "We are using partnership alerts for the night of 2021-01-16 UT which have been provided to you via Dropbox. Unpack the file:\n",
    "\n",
    "gunzip ztf_partnership_20210116_random_subset.tar.gz\n",
    "\n",
    "tar -xvf ztf_partnership_20210116_random_subset.tar\n",
    "\n",
    "Once you have unpacked the tar file you can delete it to save space,\n",
    "rm ztf_partnership_20210116_random_subset.tar\n",
    "\n",
    "You can see that the tar file consists of 10,000 .avro files, which are in JSON format. Basically, each \"alert\" is a dictionary. The original partnership file for that night contained 141,910 such files, amounting to 11G. To make things more manageable, I have selected a random subset for you to use.\n",
    "\n",
    "The alerts were all issued on the night of 2021-01-16 UT. The total number of alerts issued on that night, including ZTF's lower-cadence public survey, was close to 1 million. To make things more manageable, and to better simulate LSST's deep drilling fields (which are only a small subset of the survey), we are only using (a small subset of!) the high-cadence survey data. \n",
    "    \n",
    "### Requirements\n",
    "* python 3\n",
    "* numpy, pandas, matplotlib, astropy, collections, fastavro\n",
    "\n",
    "### Useful links\n",
    "[ZTF Avro schema for the alerts](https://zwickytransientfacility.github.io/ztf-avro-alert/schema.html)<br>\n",
    "[Public ZTF alerts](https://ztf.uw.edu/alerts/public/)<br>\n",
    "[Alert brokers for ZTF and Rubin Observatory](https://www.lsst.org/scientists/alert-brokers)"
   ]
  },
  {
   "cell_type": "markdown",
   "metadata": {},
   "source": [
    "## Import python packages"
   ]
  },
  {
   "cell_type": "code",
   "execution_count": 1,
   "metadata": {},
   "outputs": [],
   "source": [
    "import json\n",
    "import os\n",
    "import numpy as np\n",
    "import glob\n",
    "import io\n",
    "import pandas as pd\n",
    "import matplotlib.pyplot as plt\n",
    "from collections import OrderedDict\n",
    "import fastavro\n",
    "import gzip\n",
    "import astropy.units as u\n",
    "from astropy.time import Time\n",
    "from astropy.io import fits"
   ]
  },
  {
   "cell_type": "markdown",
   "metadata": {},
   "source": [
    "## Read and understand the data"
   ]
  },
  {
   "cell_type": "markdown",
   "metadata": {},
   "source": [
    "Read in the alert packets."
   ]
  },
  {
   "cell_type": "code",
   "execution_count": 2,
   "metadata": {},
   "outputs": [
    {
     "name": "stdout",
     "output_type": "stream",
     "text": [
      "20210116_subset/20210116 has 10000 avro files\n"
     ]
    }
   ],
   "source": [
    "# Let's count packets\n",
    "DATA_DIR = '20210116_subset/20210116'\n",
    "DATA_DIR_TEST = '20210116_subset/20210116_afterglow'\n",
    "\n",
    "def find_files(root_dir):\n",
    "    for dir_name, subdir_list, file_list in os.walk(root_dir, followlinks=True):\n",
    "        for fname in file_list:\n",
    "            if fname.endswith('.avro'):\n",
    "                yield dir_name+'/'+fname\n",
    "\n",
    "files = list(find_files(DATA_DIR))\n",
    "print('{} has {} avro files'.format(DATA_DIR, len(files)))"
   ]
  },
  {
   "cell_type": "code",
   "execution_count": 3,
   "metadata": {},
   "outputs": [],
   "source": [
    "# Functions we need to read in the alert packets as dictionaries\n",
    "def open_avro(fname):\n",
    "    with open(fname,'rb') as f:\n",
    "        freader = fastavro.reader(f)\n",
    "        # in principle there can be multiple packets per file\n",
    "        for packet in freader:\n",
    "            yield packet\n",
    "            \n",
    "def generate_dictionaries(root_dir):\n",
    "    for fname in find_files(root_dir):\n",
    "        for packet in open_avro(fname):\n",
    "            yield packet"
   ]
  },
  {
   "cell_type": "markdown",
   "metadata": {},
   "source": [
    "What do the data look like? Let's examine just one of the alert packets."
   ]
  },
  {
   "cell_type": "code",
   "execution_count": 4,
   "metadata": {},
   "outputs": [
    {
     "data": {
      "text/html": [
       "<div>\n",
       "<style scoped>\n",
       "    .dataframe tbody tr th:only-of-type {\n",
       "        vertical-align: middle;\n",
       "    }\n",
       "\n",
       "    .dataframe tbody tr th {\n",
       "        vertical-align: top;\n",
       "    }\n",
       "\n",
       "    .dataframe thead th {\n",
       "        text-align: right;\n",
       "    }\n",
       "</style>\n",
       "<table border=\"1\" class=\"dataframe\">\n",
       "  <thead>\n",
       "    <tr style=\"text-align: right;\">\n",
       "      <th></th>\n",
       "      <th>schemavsn</th>\n",
       "      <th>publisher</th>\n",
       "      <th>objectId</th>\n",
       "      <th>candid</th>\n",
       "      <th>prv_candidates</th>\n",
       "      <th>candidate.jd</th>\n",
       "      <th>candidate.fid</th>\n",
       "      <th>candidate.pid</th>\n",
       "      <th>candidate.diffmaglim</th>\n",
       "      <th>candidate.pdiffimfilename</th>\n",
       "      <th>...</th>\n",
       "      <th>candidate.maggaiabright</th>\n",
       "      <th>candidate.exptime</th>\n",
       "      <th>candidate.drb</th>\n",
       "      <th>candidate.drbversion</th>\n",
       "      <th>cutoutScience.fileName</th>\n",
       "      <th>cutoutScience.stampData</th>\n",
       "      <th>cutoutTemplate.fileName</th>\n",
       "      <th>cutoutTemplate.stampData</th>\n",
       "      <th>cutoutDifference.fileName</th>\n",
       "      <th>cutoutDifference.stampData</th>\n",
       "    </tr>\n",
       "  </thead>\n",
       "  <tbody>\n",
       "    <tr>\n",
       "      <th>0</th>\n",
       "      <td>3.3</td>\n",
       "      <td>ZTF (www.ztf.caltech.edu)</td>\n",
       "      <td>ZTF21aafdbmi</td>\n",
       "      <td>1476456001315015037</td>\n",
       "      <td>[{'jd': 2459202.8402778, 'fid': 1, 'pid': 1448...</td>\n",
       "      <td>2.459231e+06</td>\n",
       "      <td>2</td>\n",
       "      <td>1476456001315</td>\n",
       "      <td>20.273182</td>\n",
       "      <td>ztf_20210116455914_000616_zr_c04_o_q2_scimrefd...</td>\n",
       "      <td>...</td>\n",
       "      <td>-999.0</td>\n",
       "      <td>30.0</td>\n",
       "      <td>0.999999</td>\n",
       "      <td>d6_m7</td>\n",
       "      <td>candid1476456001315015037_pid1476456001315_tar...</td>\n",
       "      <td>b'\\x1f\\x8b\\x08\\x00\\x8a\\xc8\\x02`\\x02\\x03\\xed\\xb...</td>\n",
       "      <td>candid1476456001315015037_ref.fits.gz</td>\n",
       "      <td>b'\\x1f\\x8b\\x08\\x00\\x8a\\xc8\\x02`\\x02\\x03\\xed\\x9...</td>\n",
       "      <td>candid1476456001315015037_pid1476456001315_tar...</td>\n",
       "      <td>b'\\x1f\\x8b\\x08\\x00\\x8a\\xc8\\x02`\\x02\\x03\\xed\\xb...</td>\n",
       "    </tr>\n",
       "  </tbody>\n",
       "</table>\n",
       "<p>1 rows × 114 columns</p>\n",
       "</div>"
      ],
      "text/plain": [
       "  schemavsn                  publisher      objectId               candid  \\\n",
       "0       3.3  ZTF (www.ztf.caltech.edu)  ZTF21aafdbmi  1476456001315015037   \n",
       "\n",
       "                                      prv_candidates  candidate.jd  \\\n",
       "0  [{'jd': 2459202.8402778, 'fid': 1, 'pid': 1448...  2.459231e+06   \n",
       "\n",
       "   candidate.fid  candidate.pid  candidate.diffmaglim  \\\n",
       "0              2  1476456001315             20.273182   \n",
       "\n",
       "                           candidate.pdiffimfilename  ...  \\\n",
       "0  ztf_20210116455914_000616_zr_c04_o_q2_scimrefd...  ...   \n",
       "\n",
       "  candidate.maggaiabright  candidate.exptime  candidate.drb  \\\n",
       "0                  -999.0               30.0       0.999999   \n",
       "\n",
       "  candidate.drbversion                             cutoutScience.fileName  \\\n",
       "0                d6_m7  candid1476456001315015037_pid1476456001315_tar...   \n",
       "\n",
       "                             cutoutScience.stampData  \\\n",
       "0  b'\\x1f\\x8b\\x08\\x00\\x8a\\xc8\\x02`\\x02\\x03\\xed\\xb...   \n",
       "\n",
       "                 cutoutTemplate.fileName  \\\n",
       "0  candid1476456001315015037_ref.fits.gz   \n",
       "\n",
       "                            cutoutTemplate.stampData  \\\n",
       "0  b'\\x1f\\x8b\\x08\\x00\\x8a\\xc8\\x02`\\x02\\x03\\xed\\x9...   \n",
       "\n",
       "                           cutoutDifference.fileName  \\\n",
       "0  candid1476456001315015037_pid1476456001315_tar...   \n",
       "\n",
       "                          cutoutDifference.stampData  \n",
       "0  b'\\x1f\\x8b\\x08\\x00\\x8a\\xc8\\x02`\\x02\\x03\\xed\\xb...  \n",
       "\n",
       "[1 rows x 114 columns]"
      ]
     },
     "execution_count": 4,
     "metadata": {},
     "output_type": "execute_result"
    }
   ],
   "source": [
    "packet_iter = open_avro(files[0])\n",
    "first_packet = next(packet_iter)\n",
    "pd.json_normalize(first_packet)"
   ]
  },
  {
   "cell_type": "markdown",
   "metadata": {},
   "source": [
    "To see what the column names mean, check them out in the the \"top-level alert\" section of [ZTF Avro schema](https://zwickytransientfacility.github.io/ztf-avro-alert/schema.html). For example, the name of the transient is in the column 'objectId'."
   ]
  },
  {
   "cell_type": "markdown",
   "metadata": {},
   "source": [
    "The light curve information is stored in ztf.alert.candidate and ztf.alert_prv_candidates. For example:"
   ]
  },
  {
   "cell_type": "code",
   "execution_count": 5,
   "metadata": {
    "scrolled": true
   },
   "outputs": [
    {
     "data": {
      "text/html": [
       "<div>\n",
       "<style scoped>\n",
       "    .dataframe tbody tr th:only-of-type {\n",
       "        vertical-align: middle;\n",
       "    }\n",
       "\n",
       "    .dataframe tbody tr th {\n",
       "        vertical-align: top;\n",
       "    }\n",
       "\n",
       "    .dataframe thead th {\n",
       "        text-align: right;\n",
       "    }\n",
       "</style>\n",
       "<table border=\"1\" class=\"dataframe\">\n",
       "  <thead>\n",
       "    <tr style=\"text-align: right;\">\n",
       "      <th></th>\n",
       "      <th>jd</th>\n",
       "      <th>fid</th>\n",
       "      <th>pid</th>\n",
       "      <th>diffmaglim</th>\n",
       "      <th>pdiffimfilename</th>\n",
       "      <th>programpi</th>\n",
       "      <th>programid</th>\n",
       "      <th>candid</th>\n",
       "      <th>isdiffpos</th>\n",
       "      <th>tblid</th>\n",
       "      <th>...</th>\n",
       "      <th>zpmed</th>\n",
       "      <th>clrmed</th>\n",
       "      <th>clrrms</th>\n",
       "      <th>neargaia</th>\n",
       "      <th>neargaiabright</th>\n",
       "      <th>maggaia</th>\n",
       "      <th>maggaiabright</th>\n",
       "      <th>exptime</th>\n",
       "      <th>drb</th>\n",
       "      <th>drbversion</th>\n",
       "    </tr>\n",
       "  </thead>\n",
       "  <tbody>\n",
       "    <tr>\n",
       "      <th>0</th>\n",
       "      <td>2.459231e+06</td>\n",
       "      <td>2</td>\n",
       "      <td>1476456001315</td>\n",
       "      <td>20.273182</td>\n",
       "      <td>ztf_20210116455914_000616_zr_c04_o_q2_scimrefd...</td>\n",
       "      <td>Kulkarni</td>\n",
       "      <td>2</td>\n",
       "      <td>1476456001315015037</td>\n",
       "      <td>t</td>\n",
       "      <td>37</td>\n",
       "      <td>...</td>\n",
       "      <td>26.252001</td>\n",
       "      <td>0.604</td>\n",
       "      <td>0.284856</td>\n",
       "      <td>24.551619</td>\n",
       "      <td>-999.0</td>\n",
       "      <td>17.23246</td>\n",
       "      <td>-999.0</td>\n",
       "      <td>30.0</td>\n",
       "      <td>0.999999</td>\n",
       "      <td>d6_m7</td>\n",
       "    </tr>\n",
       "  </tbody>\n",
       "</table>\n",
       "<p>1 rows × 103 columns</p>\n",
       "</div>"
      ],
      "text/plain": [
       "             jd  fid            pid  diffmaglim  \\\n",
       "0  2.459231e+06    2  1476456001315   20.273182   \n",
       "\n",
       "                                     pdiffimfilename programpi  programid  \\\n",
       "0  ztf_20210116455914_000616_zr_c04_o_q2_scimrefd...  Kulkarni          2   \n",
       "\n",
       "                candid isdiffpos  tblid  ...      zpmed  clrmed    clrrms  \\\n",
       "0  1476456001315015037         t     37  ...  26.252001   0.604  0.284856   \n",
       "\n",
       "    neargaia  neargaiabright   maggaia  maggaiabright  exptime       drb  \\\n",
       "0  24.551619          -999.0  17.23246         -999.0     30.0  0.999999   \n",
       "\n",
       "   drbversion  \n",
       "0       d6_m7  \n",
       "\n",
       "[1 rows x 103 columns]"
      ]
     },
     "execution_count": 5,
     "metadata": {},
     "output_type": "execute_result"
    }
   ],
   "source": [
    "# Gives a single alert: columns include the jd, the magnitude, and\n",
    "# the uncertainty on the magnitude\n",
    "pd.json_normalize(first_packet['candidate'])"
   ]
  },
  {
   "cell_type": "markdown",
   "metadata": {},
   "source": [
    "### Exercise 1: practice with the ZTF/LSST avro schema. Looking at the [ZTF Avro schema](https://zwickytransientfacility.github.io/ztf-avro-alert/schema.html), for the alert packet we examined above, determine:"
   ]
  },
  {
   "cell_type": "code",
   "execution_count": null,
   "metadata": {},
   "outputs": [],
   "source": [
    "# The name of the transient"
   ]
  },
  {
   "cell_type": "code",
   "execution_count": null,
   "metadata": {},
   "outputs": [],
   "source": [
    "# The filter of the observation"
   ]
  },
  {
   "cell_type": "code",
   "execution_count": null,
   "metadata": {},
   "outputs": [],
   "source": [
    "# The the observation result in a detection or a non-detection?"
   ]
  },
  {
   "cell_type": "code",
   "execution_count": 5,
   "metadata": {},
   "outputs": [],
   "source": [
    "# If it was a detection, give the brightness in magnitudes. \n",
    "# If it was a non-detection, give the upper limit in magnitudes."
   ]
  },
  {
   "cell_type": "code",
   "execution_count": 6,
   "metadata": {},
   "outputs": [],
   "source": [
    "# Is this transient likely to be an asteroid (\"solar system object\")? Why or why not?"
   ]
  },
  {
   "cell_type": "markdown",
   "metadata": {},
   "source": [
    "## Filtering the Alerts"
   ]
  },
  {
   "cell_type": "markdown",
   "metadata": {},
   "source": [
    "The full set of alerts is fairly raw. To get greater purity, we can apply the [suggested filters](https://zwickytransientfacility.github.io/ztf-avro-alert/filtering.html) to the 'candidate' dataframe above. I have replaced the rb cut with a cut that uses a [deep learning-based real-bogus score](https://arxiv.org/abs/1907.11259). I also made the magdiff cut slightly looser.\n",
    "\n",
    "drb >= 0.9 and <br>\n",
    "nbad = 0 and<br>\n",
    "fwhm <= 5 and<br>\n",
    "elong <= 1.2 and<br>\n",
    "abs(magdiff) <= 0.3 "
   ]
  },
  {
   "cell_type": "code",
   "execution_count": null,
   "metadata": {},
   "outputs": [],
   "source": [
    "def is_alert_pure(packet):\n",
    "    pure = True\n",
    "    pure &= packet['candidate']['drb'] >= 0.9\n",
    "    pure &= packet['candidate']['nbad'] == 0\n",
    "    pure &= packet['candidate']['fwhm'] <= 5\n",
    "    pure &= packet['candidate']['elong'] <= 1.2\n",
    "    pure &= np.abs(packet['candidate']['magdiff']) <= 0.3\n",
    "    return pure"
   ]
  },
  {
   "cell_type": "markdown",
   "metadata": {},
   "source": [
    "Let's check if the first alert passes these criteria."
   ]
  },
  {
   "cell_type": "code",
   "execution_count": null,
   "metadata": {},
   "outputs": [],
   "source": [
    "packet_iter = open_avro(files[0])\n",
    "first_packet = next(packet_iter)\n",
    "is_alert_pure(first_packet)"
   ]
  },
  {
   "cell_type": "markdown",
   "metadata": {},
   "source": [
    "Now let's do some more filtering, this time based on the light curve. As you can see in the [ZTF Avro schema](https://zwickytransientfacility.github.io/ztf-avro-alert/schema.html), there are two relevant fields. One is \"prv_candidates,\" which contains the light-curve history for the past 30 days. The other is \"candidate,\" which contains the most recent photometry. We first write a function to combine them together.  "
   ]
  },
  {
   "cell_type": "code",
   "execution_count": null,
   "metadata": {},
   "outputs": [],
   "source": [
    "def make_dataframe(packet):\n",
    "    dfc = pd.DataFrame(packet['candidate'], index=[0])\n",
    "    df_prv = pd.DataFrame(packet['prv_candidates'])\n",
    "    dflc = pd.concat([dfc,df_prv], ignore_index=True)\n",
    "    # we'll attach some metadata--not this may not be preserved after all operations\n",
    "    # https://stackoverflow.com/questions/14688306/adding-meta-information-metadata-to-pandas-dataframe\n",
    "    dflc.objectId = packet['objectId']\n",
    "    dflc.candid = packet['candid']\n",
    "    return dflc"
   ]
  },
  {
   "cell_type": "markdown",
   "metadata": {},
   "source": [
    "Having the light curve enables us to apply additional cuts. Since we want to look for extragalactic candidates, let's say:\n",
    "\n",
    "the difference image detection should be positive<br>\n",
    "if there is a PS1 source within 1.5\" of the source, it should have a star-galaxy score of < 0.5 (galaxy-like)<br>\n",
    "there should be at least two detections separated by more than 30 minutes<br>\n",
    "there should be no known solar system object within 5\"<br>"
   ]
  },
  {
   "cell_type": "code",
   "execution_count": null,
   "metadata": {},
   "outputs": [],
   "source": [
    "def is_transient(dflc):\n",
    "    \n",
    "    candidate = dflc.loc[0]\n",
    "    \n",
    "    # Caution...sometimes positive subtractions are indicated with 't' (True)\n",
    "    # and sometimes with '1' \n",
    "    is_positive_sub = np.logical_or(candidate['isdiffpos'] == 't', candidate['isdiffpos'] == '1')\n",
    "    \n",
    "    if (candidate['distpsnr1'] is None) or (candidate['distpsnr1'] > 1.5):\n",
    "        no_pointsource_counterpart = True\n",
    "    else:\n",
    "        if candidate['sgscore1'] < 0.5:\n",
    "            no_pointsource_counterpart = True\n",
    "        else:\n",
    "            no_pointsource_counterpart = False\n",
    "            \n",
    "    where_detected = (np.logical_or(dflc['isdiffpos'] == 't', dflc['isdiffpos'] == '1')) # nondetections will be None\n",
    "    if np.sum(where_detected) >= 2:\n",
    "        detection_times = dflc.loc[where_detected,'jd'].values\n",
    "        dt = np.diff(detection_times)\n",
    "        not_moving = np.max(dt) >= (30*u.minute).to(u.day).value\n",
    "    else:\n",
    "        not_moving = False\n",
    "    \n",
    "    no_ssobject = (candidate['ssdistnr'] is None) or (candidate['ssdistnr'] < 0) or (candidate['ssdistnr'] > 5)\n",
    "    \n",
    "    return is_positive_sub and no_pointsource_counterpart and not_moving and no_ssobject"
   ]
  },
  {
   "cell_type": "markdown",
   "metadata": {},
   "source": [
    "Let's see which transients pass our selection criteria!"
   ]
  },
  {
   "cell_type": "code",
   "execution_count": 10,
   "metadata": {},
   "outputs": [
    {
     "name": "stdout",
     "output_type": "stream",
     "text": [
      "ZTF21aadugqf\n",
      "ZTF21aaabaey\n",
      "ZTF20aakkkzw\n",
      "ZTF20aanaklx\n",
      "ZTF20acwncbd\n",
      "ZTF19abfifoz\n",
      "ZTF19adafnzz\n",
      "ZTF18aafzvom\n",
      "ZTF20aadvwcz\n",
      "ZTF20abzumlr\n",
      "ZTF20aaswbtk\n",
      "ZTF21aaeyldq\n",
      "ZTF21aaawziy\n",
      "ZTF18aarboos\n",
      "ZTF20acwdnbw\n",
      "ZTF20acvjlev\n",
      "ZTF21aaadamr\n",
      "ZTF20abmkwxg\n",
      "ZTF18aaedmtw\n",
      "ZTF20adadixi\n",
      "ZTF19aatqmro\n",
      "ZTF18aacohph\n",
      "ZTF18aceotqg\n",
      "ZTF18acaopar\n",
      "ZTF21aaasxel\n",
      "ZTF20acwdnbw\n",
      "ZTF20acitoie\n",
      "ZTF21aabvwev\n",
      "ZTF20acitoie\n",
      "ZTF20acnyyqs\n",
      "ZTF20acuzlib\n",
      "ZTF18abttnqj\n",
      "ZTF18acstyaz\n",
      "ZTF20aakbgeo\n",
      "ZTF20acwozud\n",
      "ZTF21aaafgmv\n",
      "ZTF19aalypdw\n",
      "ZTF18aaocthp\n",
      "ZTF20acxqnhn\n",
      "ZTF18aafzvom\n",
      "ZTF21aaawzkm\n",
      "ZTF21aadbhnl\n",
      "ZTF18abuyhqp\n",
      "ZTF19aanejaq\n",
      "ZTF20actrakc\n",
      "ZTF18acvthha\n",
      "ZTF21aabvbkq\n",
      "ZTF18accmqwg\n",
      "ZTF18aacjtlo\n",
      "ZTF20acnvfzm\n",
      "ZTF21aacugwg\n",
      "ZTF21aaeyldq\n",
      "ZTF20actkmks\n",
      "ZTF18aaqjcxl\n",
      "ZTF20aavwgod\n",
      "ZTF20aahcdbb\n",
      "ZTF19abrejwv\n",
      "ZTF21aadhzsd\n",
      "ZTF20acfxlnm\n",
      "ZTF19acxvhlq\n",
      "ZTF19aapkszg\n",
      "ZTF20acwjnux\n",
      "ZTF18acbznzh\n",
      "ZTF18abuyhqp\n",
      "ZTF21aabxixn\n",
      "ZTF21aaecjfc\n",
      "ZTF18aafzvom\n",
      "ZTF20acxrixj\n",
      "ZTF21aafdrmg\n",
      "ZTF19acdtzdd\n",
      "ZTF20acusylb\n",
      "ZTF20acnexqi\n",
      "ZTF20accxwrk\n",
      "ZTF18aafzvom\n",
      "ZTF21aaeyldq\n",
      "ZTF19acoysjf\n"
     ]
    }
   ],
   "source": [
    "transient_alerts = []\n",
    "    \n",
    "for packet in filter(is_alert_pure,generate_dictionaries(DATA_DIR)):\n",
    "    dflc = make_dataframe(packet) \n",
    "    if is_transient(dflc):\n",
    "        print(packet['objectId'])\n",
    "        transient_alerts.append(packet)"
   ]
  },
  {
   "cell_type": "code",
   "execution_count": 42,
   "metadata": {},
   "outputs": [
    {
     "name": "stdout",
     "output_type": "stream",
     "text": [
      "68 unique objects pass our filter\n"
     ]
    }
   ],
   "source": [
    "# Name might appear multiple times (same object might generate multiple alerts)\n",
    "objectIds = np.array([val['objectId'] for val in transient_alerts])\n",
    "print(\"%s unique objects pass our filter\" %len(np.unique(objectIds)))"
   ]
  },
  {
   "cell_type": "markdown",
   "metadata": {},
   "source": [
    "### Exercise 2: Tolerance for false positives/negatives"
   ]
  },
  {
   "cell_type": "markdown",
   "metadata": {},
   "source": [
    "In Figure 9 of the paper describing \"drb,\" the [deep learning-based real-bogus score](https://arxiv.org/abs/1907.11259), you can see the false negative rate (FNR) and false positive rate (FPR) as a function of the score threshold. The user can tune drb in their filter depending on what kind of FNR or FPR is acceptable for their science case."
   ]
  },
  {
   "cell_type": "code",
   "execution_count": 8,
   "metadata": {},
   "outputs": [],
   "source": [
    "# Given the drb threshold we used above, what is the expected FNR and FPR?"
   ]
  },
  {
   "cell_type": "code",
   "execution_count": 9,
   "metadata": {},
   "outputs": [],
   "source": [
    "# If you are willing to tolerate a 2.9% FPR instead, what drb threshold should you use?"
   ]
  },
  {
   "cell_type": "code",
   "execution_count": 10,
   "metadata": {},
   "outputs": [],
   "source": [
    "# How many transients pass the filter if you lower your drb threshold to the above value?"
   ]
  },
  {
   "cell_type": "markdown",
   "metadata": {},
   "source": [
    "## Plotting Light Curves\n",
    "Now we'll see how to visualize the light curves."
   ]
  },
  {
   "cell_type": "code",
   "execution_count": 85,
   "metadata": {},
   "outputs": [],
   "source": [
    "# A few helpful functions\n",
    "\n",
    "def plot_lightcurve(dflc, ax=None, days_ago=True, xlim=-30):\n",
    "    \n",
    "    filter_color = {1:'Aquamarine', 2:'Crimson', 3:'Goldenrod'} # g-band, r-band, i-band\n",
    "    if days_ago:\n",
    "        now = Time('2021-01-16').jd+0.5\n",
    "        t = dflc.jd - now\n",
    "        xlabel = 'Days Before 2021 Jan 16'\n",
    "    else:\n",
    "        t = dflc.jd\n",
    "        xlabel = 'Time (JD)'\n",
    "    \n",
    "    if ax is None:\n",
    "        plt.figure()\n",
    "    for fid, color in filter_color.items():\n",
    "        # plot detections in this filter:\n",
    "        w = (dflc.fid == fid) & ~dflc.magpsf.isnull()\n",
    "        if np.sum(w):\n",
    "            plt.errorbar(t[w],dflc.loc[w,'magpsf'], dflc.loc[w,'sigmapsf'],fmt='.',color=color)\n",
    "        wnodet = (dflc.fid == fid) & dflc.magpsf.isnull()\n",
    "        if np.sum(wnodet):\n",
    "            plt.scatter(t[wnodet],dflc.loc[wnodet,'diffmaglim'], marker='v',color=color,alpha=0.25)\n",
    "    \n",
    "    plt.xlim(xlim, 0)\n",
    "    plt.gca().invert_yaxis()\n",
    "    plt.xlabel(xlabel)\n",
    "    plt.ylabel('Magnitude')\n",
    "    plt.title(dflc.objectId)\n",
    "    \n",
    "def plot_cutout(stamp, fig=None, subplot=None, **kwargs):\n",
    "    with gzip.open(io.BytesIO(stamp), 'rb') as f:\n",
    "        with fits.open(io.BytesIO(f.read())) as hdul:\n",
    "            data = hdul[0].data\n",
    "    \n",
    "            if fig is None:\n",
    "                fig = plt.figure(figsize=(4,4))\n",
    "            if subplot is None:\n",
    "                subplot = (1,1,1)\n",
    "            \n",
    "            ax = fig.add_subplot(*subplot)\n",
    "            im = ax.imshow(data, origin='lower', cmap='gray', **kwargs)\n",
    "            ax.set_xticks([])\n",
    "            ax.set_yticks([])\n",
    "    return ax\n",
    "\n",
    "def show_stamps(packet):\n",
    "    #fig, axes = plt.subplots(1,3, figsize=(12,4))\n",
    "    fig = plt.figure(figsize=(12,4))\n",
    "    for i, cutout in enumerate(['Science','Template','Difference']):\n",
    "        stamp = packet['cutout{}'.format(cutout)]['stampData']\n",
    "        ffig = plot_cutout(stamp, fig=fig, subplot = (1,3,i+1))\n",
    "        ffig.set_title(cutout)\n",
    "\n",
    "def show_all(packet, xlim=-30):\n",
    "    fig = plt.figure(figsize=(16,4))\n",
    "    dflc = make_dataframe(packet)\n",
    "    plot_lightcurve(dflc,ax = plt.subplot(1,4,1), xlim=xlim)\n",
    "    for i, cutout in enumerate(['Science','Template','Difference']):\n",
    "        stamp = packet['cutout{}'.format(cutout)]['stampData']\n",
    "        ffig = plot_cutout(stamp, fig=fig, subplot = (1,4,i+2))\n",
    "        ffig.set_title(cutout)"
   ]
  },
  {
   "cell_type": "code",
   "execution_count": 86,
   "metadata": {
    "scrolled": true
   },
   "outputs": [
    {
     "data": {
      "image/png": "[encoded data removed]",
      "text/plain": [
       "<Figure size 1600x400 with 4 Axes>"
      ]
     },
     "metadata": {},
     "output_type": "display_data"
    }
   ],
   "source": [
    "# Let's see the cutouts and light curves for one of the 68 objects that passed our criteria.\n",
    "show_all(transient_alerts[np.where(objectIds=='ZTF21aaabaey')[0][0]])"
   ]
  },
  {
   "cell_type": "markdown",
   "metadata": {},
   "source": [
    "This transient (ZTF21aaabaey) was ultimately spectroscopically classified as a Type Ia supernova: https://www.wis-tns.org/object/2021F . You can see its host galaxy in the reference (\"template\") image.\n",
    "\n",
    "Type Ia supernovae are the most common types of transients detected in flux-limited surveys. That's because they are both intrinsically quite common, and also quite luminous. Their light curve is powered by the radioactive decay of nickel 56. The half life of nickel 56 is ~1 week, which sets the timescale of the light curve."
   ]
  },
  {
   "cell_type": "markdown",
   "metadata": {},
   "source": [
    "### Exercise 3: The variety of light curves"
   ]
  },
  {
   "cell_type": "code",
   "execution_count": 12,
   "metadata": {},
   "outputs": [],
   "source": [
    "# Identify the transient with the longest-duration light curve:\n",
    "# in other words, the longest time since the first detection."
   ]
  },
  {
   "cell_type": "code",
   "execution_count": 13,
   "metadata": {},
   "outputs": [],
   "source": [
    "# Identify the transient with the largest number of points in its light curve."
   ]
  },
  {
   "cell_type": "code",
   "execution_count": 15,
   "metadata": {},
   "outputs": [],
   "source": [
    "# Plot the light curve of one of the transients you identified above.\n",
    "\n",
    "# Describe the behavior of its light curve, and speculate about what you think\n",
    "# it might be. \n",
    "# You are welcome to try and find information online about these objects."
   ]
  },
  {
   "cell_type": "markdown",
   "metadata": {},
   "source": [
    "# Fast transient quest\n",
    "\n",
    "What is a \"fast\" transient? Typically, this is defined as a transient whose brightness evolves much more rapidly than a Type Ia supernova. Historically, transient surveys returned to the same location of sky ~once per week, because they were designed to find Type Ia supernovae --- you can see that this would be a reasonable cadence in the light-curve plot above. However, once the cadence of surveys increased to once per day or even once every few hours, we learned that there exist many phenomena with light curves much faster than Type Ia supernova. These fast transients must be powered by different sources of energy."
   ]
  },
  {
   "cell_type": "markdown",
   "metadata": {},
   "source": [
    "To find fast transients, it's useful to do two things: (1) measure the rate of change of brightness of the transient's light curve, and (2) focus on transients that are \"young\" (newly detected that night) to avoid old and/or repeating sources. "
   ]
  },
  {
   "cell_type": "code",
   "execution_count": 87,
   "metadata": {},
   "outputs": [
    {
     "data": {
      "text/plain": [
       "Text(0, 0.5, 'Number of transients')"
      ]
     },
     "execution_count": 87,
     "metadata": {},
     "output_type": "execute_result"
    },
    {
     "data": {
      "image/png": "[encoded data removed]",
      "text/plain": [
       "<Figure size 640x480 with 1 Axes>"
      ]
     },
     "metadata": {},
     "output_type": "display_data"
    }
   ],
   "source": [
    "# Select young sources.\n",
    "jdstart = np.array([alert['candidate']['jdstarthist'] for alert in transient_alerts])\n",
    "jdnow = np.array([alert['candidate']['jd'] for alert in transient_alerts])\n",
    "age = jdnow-jdstart\n",
    "plt.hist(age)\n",
    "plt.xlabel(\"Age of the transient (days)\")\n",
    "plt.ylabel(\"Number of transients\")"
   ]
  },
  {
   "cell_type": "markdown",
   "metadata": {},
   "source": [
    "You can see that some of our transients are hundreds of days old. These are unlikely to be fast transients: they are probably burbling variable sources like AGN.\n",
    "\n",
    "Let's focus on transients that were detected for the first time on this night, i.e., are less than a day old."
   ]
  },
  {
   "cell_type": "code",
   "execution_count": 88,
   "metadata": {},
   "outputs": [
    {
     "data": {
      "text/plain": [
       "array(['ZTF21aaeyldq', 'ZTF21aaeyldq', 'ZTF21aaeyldq'], dtype='<U12')"
      ]
     },
     "execution_count": 88,
     "metadata": {},
     "output_type": "execute_result"
    }
   ],
   "source": [
    "filter_on_age = age<1\n",
    "young_transients = np.array(transient_alerts)[filter_on_age]\n",
    "len(young_transients)\n",
    "objectIds[filter_on_age]"
   ]
  },
  {
   "cell_type": "markdown",
   "metadata": {},
   "source": [
    "Above, you can see that when you apply a filter requiring the transient to be very young --- less than 1 day old --- only one object is left. That object generated 3 alerts that night. Let's take a look at the last alert generated and see what the light curve looks like. We'll have to Zoom in a lot more than we did for the Type Ia supernova..."
   ]
  },
  {
   "cell_type": "code",
   "execution_count": 92,
   "metadata": {
    "scrolled": true
   },
   "outputs": [
    {
     "data": {
      "image/png": "[encoded data removed]",
      "text/plain": [
       "<Figure size 1600x400 with 4 Axes>"
      ]
     },
     "metadata": {},
     "output_type": "display_data"
    }
   ],
   "source": [
    "show_all(transient_alerts[np.where(objectIds=='ZTF21aaeyldq')[0][2]], xlim=-0.3)"
   ]
  },
  {
   "cell_type": "markdown",
   "metadata": {},
   "source": [
    "This transient faded by over a magnitude within a single night! That is VERY fast. Fast transient filters in the literature vary, but definitions of \"fast\" include 0.3 mag/day ([Andreoni & Couglin et al., 2021](https://ui.adsabs.harvard.edu/abs/2021ApJ...918...63A/abstract)) --- clearly, this is a very fast transient.\n",
    "\n",
    "Follow-up observations of this transient revealed luminous radio and X-ray emission, and a spectroscopic redshift of z=2.5. Its properties are most similar to GRB afterglows, but no prompt burst of gamma-rays was detected. For more information on this source, see the following papers,<br>\n",
    "[Ho et al. 2022](https://arxiv.org/abs/2201.12366)<br>\n",
    "[Gupta et al. 2022](https://arxiv.org/abs/2111.11795)<br>\n",
    "[Xu et al. 2023](https://ui.adsabs.harvard.edu/abs/2023A%26A...679A.103X/abstract)<br>\n",
    "[Li et al. 2025](https://arxiv.org/abs/2411.07973v1)"
   ]
  },
  {
   "cell_type": "markdown",
   "metadata": {},
   "source": [
    "### Exercise 4"
   ]
  },
  {
   "cell_type": "code",
   "execution_count": 16,
   "metadata": {},
   "outputs": [],
   "source": [
    "# Calculate the exact fade rate of ZTF21aaeyldq:\n",
    "# the dmag/dt in r-band. "
   ]
  }
 ],
 "metadata": {
  "kernelspec": {
   "display_name": "Python 3 (ipykernel)",
   "language": "python",
   "name": "python3"
  },
  "language_info": {
   "codemirror_mode": {
    "name": "ipython",
    "version": 3
   },
   "file_extension": ".py",
   "mimetype": "text/x-python",
   "name": "python",
   "nbconvert_exporter": "python",
   "pygments_lexer": "ipython3",
   "version": "3.12.7"
  }
 },
 "nbformat": 4,
 "nbformat_minor": 4
}
