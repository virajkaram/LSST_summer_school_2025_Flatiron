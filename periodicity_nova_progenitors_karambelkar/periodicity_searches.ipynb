{
 "cells": [
  {
   "cell_type": "markdown",
   "metadata": {},
   "source": [
    "# CCA Summer School Module - Periodicity Searches"
   ],
   "id": "bed6b97aa64579a9"
  },
  {
   "cell_type": "markdown",
   "metadata": {},
   "source": [
    "This notebook is prepared by Viraj Karambelkar (vk2588@columbia.edu) for the LSST CCA Summer School 2025, conducted at the Center for Computational Astrophysics from July 28 to August 8, 2025.\n",
    "\n",
    "## Introduction\n",
    "Periodic signals are ubiquitous in astronomy. In addition to variable stars, periodic modulations in brightness are also exhibited by binary systems. Some of the most spectacular transient eruptions that we see have binary star progenitors, and as such, finding such binaries and characterizing them can provide heaps of information about how binary stars evolve and the fun explosions they undergo. \n",
    "\n",
    "The first part of the module is dedicated to period-finding techniques with a focus on the Lomb Scargle periodogram. This is followed by two activities, where you will analyze real data and study the progenitors of classical novae and red novae from the Milky Way.\n",
    "\n",
    "\n",
    "## Learning Objectives\n",
    "- Review the basics of period-finding and Fourier Transforms. \n",
    "- Explore different features of the Lomb-Scargle periodogram, and understand its applicability and limitations.\n",
    "- Gain a cursory understanding of the variety of period-finding algorithms used in astronomy.\n",
    "- Understand the challenges associated with period finding in real data from time-domain surveys.\n",
    "- Learn how to detect period changes in data.\n",
    "- Understand the capabilities of LSST for period-detection, and brainstorm ideas for periodicity searches in the LSST era.\n",
    "\n",
    "\n",
    "\n",
    "## Resources\n",
    "This notebook draws heavily from the excellent review of [Lomb Scargle periodograms](https://iopscience.iop.org/article/10.3847/1538-4365/aab766) by Jacob VanderPlas and this notebook from the [LSSTC DSFP school](https://github.com/LSSTC-DSFP/LSSTC-DSFP-Sessions/blob/main/Sessions/Session06/Day1/ExtractingPeriodicSignals.ipynb). Additional references and material is listed throughout this notebook\n",
    "\n",
    "## Required Packages\n",
    "numpy, matplotlib, astropy, pandas\n",
    "If you already have these packages installed, try executing the next cell - if you get no errors, your imports are likely good to go. If not, try installing these preferred versions with `pip`.\n",
    "\n",
    "Preferred versions : <br>\n",
    "numpy >=2.0.0 <br>\n",
    "matplotlib>=3.10.0 <br>\n",
    "astropy >= 7.0.0 <br>\n",
    "pandas >= 2.2.1\n",
    "\n",
    "## External files\n",
    "Provided in the `files` subdirectory:\n",
    "```\n",
    "files/nyquist_sampling.png\n",
    "files/v1309sco_oc_curve.png\n",
    "files/V1674_her_ztf_fps.dat\n",
    "files/V1674_her_aavso.dat\n",
    "files/v1309sco_OGLE_VEGA_AB.txt\n",
    "files/ztf_eclipsing_binary.fits\n",
    "```"
   ],
   "id": "9562eed9bfa5d7cc"
  },
  {
   "cell_type": "code",
   "metadata": {
    "ExecuteTime": {
     "end_time": "2025-07-27T01:40:13.860086Z",
     "start_time": "2025-07-27T01:40:13.746747Z"
    }
   },
   "source": [
    "import numpy as np\n",
    "import matplotlib.pyplot as plt\n",
    "from astropy.table import Table\n",
    "from astropy.io import ascii\n",
    "from astropy.timeseries import LombScargle\n",
    "from astropy.table import Column\n",
    "import pandas as pd\n",
    "%matplotlib inline\n",
    "import matplotlib\n",
    "\n",
    "\n",
    "def init():\n",
    "    \"\"\"\n",
    "    A function to set matplotlib parameters so the plots look decent.\n",
    "    \"\"\"\n",
    "    matplotlib.rcParams['xtick.minor.size'] = 6\n",
    "    matplotlib.rcParams['xtick.major.size'] = 8\n",
    "    matplotlib.rcParams['ytick.major.size'] = 8\n",
    "    matplotlib.rcParams['ytick.minor.size'] = 6\n",
    "    matplotlib.rcParams['lines.linewidth'] = 1.0\n",
    "    matplotlib.rcParams['axes.linewidth'] = 1.0\n",
    "    matplotlib.rcParams['font.size']= 18\n",
    "    matplotlib.rcParams['font.family']= 'sans-serif'\n",
    "    matplotlib.rcParams['xtick.major.width']= 1.5\n",
    "    matplotlib.rcParams['ytick.major.width']= 1.5\n",
    "    matplotlib.rcParams['ytick.direction']='in'\n",
    "    matplotlib.rcParams['xtick.direction']='in'\n",
    "\n",
    "init()"
   ],
   "id": "f3d63fac82a1e019",
   "outputs": [],
   "execution_count": 62
  },
  {
   "cell_type": "markdown",
   "metadata": {},
   "source": [
    "## 1. Periodic signals, sampling, fourier transforms\n",
    "\n",
    "Problem 1a : Write a function that simulates a sinusoidal signal for a given array of time values, taking the amplitude, period, noise-level (standard deviation of noise), mean value of the signal, and phase as arguments. Your function should return the signal and the associated uncertainty."
   ],
   "id": "52f268aef5559d4c"
  },
  {
   "cell_type": "code",
   "metadata": {
    "ExecuteTime": {
     "end_time": "2025-07-27T01:13:55.052391Z",
     "start_time": "2025-07-27T01:13:55.047724Z"
    }
   },
   "source": [
    "def simulate_sinusoidal_signal(times, amplitude=1.0, period_days=10.0,\n",
    "                               noise_level=0.1, mean_value=0.0, phase=0.0):\n",
    "    \"\"\"\n",
    "    Simulate a sinusoidal signal with added Gaussian noise.\n",
    "\n",
    "    Parameters:\n",
    "        times (np.ndarray): Array of time values.\n",
    "        amplitude (float): Amplitude of the sinusoidal signal.\n",
    "        period_days (float): Period of the sinusoidal signal in days.\n",
    "        noise_level (float): Standard deviation of the Gaussian noise.\n",
    "        mean_value (float): Mean value of the signal.\n",
    "        phase (float): Phase shift of the sinusoidal signal in radians.\n",
    "\n",
    "    Returns:\n",
    "        np.ndarray: Simulated signal values with noise.\n",
    "        np.ndarray: signal uncertainties (same as noise_level).\n",
    "    \"\"\"\n",
    "    # Your code here\n",
    "    pass"
   ],
   "id": "ff4f83e389fdcdd4",
   "outputs": [],
   "execution_count": 3
  },
  {
   "cell_type": "markdown",
   "metadata": {},
   "source": [
    "Problem 1b : Write a function to phase-fold a signal at a given period, with the time-array, signal, and period as arguments. Your function should return the phase and the signal"
   ],
   "id": "3d859653c1e35afa"
  },
  {
   "cell_type": "code",
   "metadata": {
    "ExecuteTime": {
     "end_time": "2025-07-27T01:14:03.412748Z",
     "start_time": "2025-07-27T01:14:03.409041Z"
    }
   },
   "source": [
    "def phase_fold_data(times, signal, period):\n",
    "    \"\"\"\n",
    "    Phase-fold the data at a given period.\n",
    "\n",
    "    Parameters:\n",
    "        times (np.ndarray): Array of time values.\n",
    "        signal (np.ndarray): Array of signal values.\n",
    "        period (float): Period to phase-fold the data.\n",
    "\n",
    "    Returns:\n",
    "        np.ndarray: Phase-folded time values.\n",
    "        np.ndarray: Phase-folded signal values.\n",
    "    \"\"\"\n",
    "    # Your code here\n",
    "    pass"
   ],
   "id": "477eb2b844ea8c93",
   "outputs": [],
   "execution_count": 4
  },
  {
   "cell_type": "markdown",
   "metadata": {},
   "source": [
    "Problem 1c : Simulate! Simulate and plot a sinusoidal signal with amplitude 1.0, period = 10 days, and standard deviation of noise = 0.1. Also overplot plot the true signal on top."
   ],
   "id": "3f4dbf4847d61fff"
  },
  {
   "cell_type": "code",
   "metadata": {
    "ExecuteTime": {
     "end_time": "2025-07-27T01:14:19.602797Z",
     "start_time": "2025-07-27T01:14:19.597657Z"
    }
   },
   "source": [
    "# Simulate the signal using your function\n",
    "times_days = np.linspace(0, 100, 50)  # Simulate 50 data points from 0 to 100 days\n",
    "# Your code here\n",
    "\n"
   ],
   "id": "4bf5aee18e48c73f",
   "outputs": [],
   "execution_count": 6
  },
  {
   "cell_type": "code",
   "metadata": {
    "ExecuteTime": {
     "end_time": "2025-07-27T01:14:21.502856Z",
     "start_time": "2025-07-27T01:14:21.498688Z"
    }
   },
   "source": "# Plot the signal",
   "id": "eaefbc2d6477cd1f",
   "outputs": [],
   "execution_count": 7
  },
  {
   "cell_type": "markdown",
   "metadata": {},
   "source": [
    "How frequently does the signal need to be sampled in order to uniquely determine the period?\n",
    "\n",
    "Problem 1d : Simulate a signal with a period of 20 days, amplitude of 1, and noise level of 0. Sample the signal at different cadences (e.g., every 2, 5, 10, and 20 days, every 2 days, etc.) and plot the results.\n",
    "Also plot the true sinusoidal signal for periods of 5, 10, and 20 days on the same plot."
   ],
   "id": "dd71259cec3c02f7"
  },
  {
   "cell_type": "code",
   "metadata": {
    "ExecuteTime": {
     "end_time": "2025-07-27T01:14:24.648199Z",
     "start_time": "2025-07-27T01:14:24.643585Z"
    }
   },
   "source": [
    "cadences = [2, 5, 10, 20]  # Different cadences in days\n",
    "for cadence in cadences:\n",
    "    # Your code here\n",
    "    pass"
   ],
   "id": "e46ee379b7340ecb",
   "outputs": [],
   "execution_count": 8
  },
  {
   "cell_type": "markdown",
   "metadata": {},
   "source": [
    "The Nyquist frequency is the minimum sampling rate required to uniquely recover the true period. This frequency is two times the highest frequency present in the signal. For a sinusoidal signal with a period of P days, the Nyquist frequency is 2/P days^-1, meaning we need to sample at least every P/2 days in order to uniquely determine the period.\n",
    "\n",
    "To understand the origin of Nyquist frequency, let us briefly recall Fourier analysis -\n",
    "\n",
    "Given a continuous signal, $g(t)$ the Fourier transform of that signal is defined as:\n",
    "\n",
    "$$\\hat{\\mathrm{g}}(f) = \\int_{-\\infty}^{\\infty} g(t) \\,e^{-2\\pi i f t} \\,dt,$$\n",
    "\n",
    "where $i$ is an imaginary number. The inverse of this equation is defined as:\n",
    "\n",
    "$$ g(t) = \\int_{-\\infty}^{\\infty} \\hat{\\mathrm{g}}(f) \\,e^{-2\\pi i f t} \\,dt.$$\n",
    "\n",
    "For convenience, we will use the Fourier transform operator $\\mathcal{F}$, from which the above equations reduce to:\n",
    "\n",
    "$$\\mathcal{F}(g) = \\hat g$$\n",
    "\n",
    "$$\\mathcal{F}^{-1}(\\hat{g}) = g$$\n",
    "\n",
    "My favorite aspect of Fourier transforms is the convolution theorem. Fourier transforms convert convolutions into point-wise products. The convolution is defined as:\n",
    "\n",
    "$$ [f \\ast g] (t) = \\int_{-\\infty}^{\\infty} f(\\tau) \\,g(t - \\tau) \\,d\\tau,$$\n",
    "\n",
    "where $\\ast$ is the convolution symbol. From the convolution theorem:\n",
    "\n",
    "$$ \\mathcal{F} \\{f \\ast g\\} = \\mathcal{F}(f)  \\mathcal{F}(g) $$\n",
    "\n",
    "Furthermore, the Fourier transform of a product is equal to the convolution of the Fourier transforms:\n",
    "\n",
    "$$ \\mathcal{F}\\{f \\cdot g\\} = \\mathcal{F}(f) \\ast \\mathcal{F}(g) $$\n",
    "\n",
    "This property is very important for astrophysical observations, that can be described as a product of a continuous signal with a discrete sampling function. In the frequency space, the fourier transform of the observations is a convolution of the fourier transforms of the continuous signal and the sampling function.\n",
    "\n",
    "Here's an example (taken from [Van der Plas 2017](https://arxiv.org/abs/1703.09824)) -\n",
    "\n",
    "![](files/nyquist_sampling.png)\n",
    "\n",
    "This simple picture shows that for a signal sampled at a frequency $f_{0}$ to be fully recoverable, its frequencies should be band-limited within $\\pm f_{0}/2$. In other words, the highest frequency that can be detected in such data is $f_{0}/2$.\n",
    "\n",
    "\n",
    "Problem 1e : Note that the all our discussion so far has dealt data that is evenly sampled. In practice, astronomical data is often unevenly sampled due to various factors such as weather conditions, scheduling constraints, and observational limitations. How would this picture change if the data are unevenly sampled? What if the sampling is random? We will return to this question shortly."
   ],
   "id": "3d1c53a0c27f6d35"
  },
  {
   "cell_type": "markdown",
   "metadata": {},
   "source": [
    "## 2. Identifying periodic signals using periodograms\n",
    "Fourier transforms are great, but what we really want is a way to take time-series observations and identify the likely dominant frequency(ies) in them. From our discussion on Fourier transforms, we can define the power spectral density or power spectrum:\n",
    "\n",
    "$$ \\mathcal{P}_g = \\left|\\mathcal{F}(g)\\right|^2.$$\n",
    "\n",
    "The power spectrum is a real-valued function that quantifies the contribution of each frequency $f$ to the total signal in $g$. The power spectrum thus provides a way to identify the dominant frequency in any given signal.\n",
    "\n",
    "For non-continuous observations, we can (but won't here) derive the discrete Fourier transform for evenly sampled data -\n",
    "\n",
    "$$ \\hat g_\\mathrm{obs}(f) = \\sum_{n = 0}^N g_n\\,e^{-2\\pi i f n\\Delta t}$$\n",
    "\n",
    "where $g_n = g(n\\Delta t)$, and $\\Delta t$ is the sampling interval. Our discussion of the Nyquist frequency tells us that we cannot detect frequencies $f > 1/2\\Delta T$. Thus, the relevant frequencies to search for power given $\\Delta t$ are between 0 and $f_\\mathrm{Ny}$, which we can sample on a grid $\\Delta f = 1/(N \\Delta t)$. From there:\n",
    "\n",
    "$$\\hat g_k = \\sum_{n = 0}^N g_n\\,e^{-2\\pi i f knN}$$\n",
    "\n",
    "where $\\hat g_k = \\hat g_\\mathrm{obs} (k\\Delta f)$. This is the discrete Fourier transform.\n",
    "\n",
    "Its associated periodogram (an estimator of the power spectrum) is given by:\n",
    "\n",
    "$$\\mathcal{P}(f) = \\frac{1}{N}\\left|\\sum_{n=1}^{N} g_n\\,e^{-2\\pi i f knN}\\right|^2$$\n",
    "\n",
    "which is also called the classical periodogram or the Schuster periodogram (Schuster 1898).\n",
    "\n",
    "The Lomb-Scargle periodogram (pioneered by [Lomb 1976](https://ui.adsabs.harvard.edu/abs/1976Ap%26SS..39..447L/abstract) and [Scargle 1982](https://ui.adsabs.harvard.edu/abs/1982ApJ...263..835S/abstract), and explained nicely in [Van der Plas 2017](https://arxiv.org/abs/1703.09824)) is a generalized form of the classical periodogram that can deal with unevenly sampled data. The main properties of the Lomb-Scargle periodogram are:\n",
    "- It can handle unevenly sampled data, making it suitable for astronomical time-series data.\n",
    "- It reduces to the classical periodogram for evenly sampled data.\n",
    "- Its statistics are analytically computable.\n",
    "\n",
    "and finally, a truly spectacular derivation,\n",
    "\n",
    "- It can be shown that the Lomb-Scargle periodogram is identical to fitting a simple sinusoidal model at each frequency to the data and constructing a \"periodogram\" using a $\\chi^{2}$ goodness-of-fit statistic. This means that the Lomb-Scargle periodogram analysis can be interpreted as a measure of how well a single sinusoidal model fits the data.\n",
    "\n",
    "Please refer to [Van der Plas 2017](https://arxiv.org/abs/1703.09824) (and [Lomb 1976](https://ui.adsabs.harvard.edu/abs/1976Ap%26SS..39..447L/abstract) and [Scargle 1982](https://ui.adsabs.harvard.edu/abs/1982ApJ...263..835S/abstract) if you are feeling particularly brave) for a detailed derivation, explanation, and applications of the Lomb-Scargle periodogram and its applications. You can also refer to this excellent notebook from the [LSSTC DSFP school](https://github.com/LSSTC-DSFP/LSSTC-DSFP-Sessions/blob/main/Sessions/Session06/Day1/ExtractingPeriodicSignalsSolutions.ipynb) to try and implement Lomb-Scargle from scratch.\n",
    "\n",
    "Here, in true observational astronomer spirit, we will dive directly into the deep end using the astropy implementation `LombScargle`.\n"
   ],
   "id": "2d011295d09a596e"
  },
  {
   "cell_type": "markdown",
   "metadata": {},
   "source": [
    "Problem 2a : Examine the documentation for `astropy.timeseries.LombScargle`"
   ],
   "id": "1ef2ab8098b062b1"
  },
  {
   "cell_type": "code",
   "execution_count": 7,
   "metadata": {
    "ExecuteTime": {
     "end_time": "2025-07-15T04:01:46.916838Z",
     "start_time": "2025-07-15T04:01:46.848664Z"
    }
   },
   "outputs": [],
   "source": "LombScargle.autopower?",
   "id": "84eedf6e49033ac2"
  },
  {
   "cell_type": "markdown",
   "metadata": {},
   "source": [
    "Problem 2b :\n",
    "- Simulate a sinusoidal signal with a period of 20 days, amplitude of 1, and noise level of 0.1, with a cadence of 2 days.\n",
    "- Compute and plot the `LombScargle` periodogram using `LombScargle.autopower()`.\n",
    "Do not provide any arguments to `autopower`.\n",
    "- Mark the Nyquist frequency for the data on your plot.\n",
    "\n",
    "(Side note : Generally, periodograms are plotted as power vs frequency. I find it more intuitive to plot them as power vs period. Either choice is fine, but make sure you are consistent and label your axes everywhere!)"
   ],
   "id": "683509b7f9407959"
  },
  {
   "cell_type": "code",
   "metadata": {
    "ExecuteTime": {
     "end_time": "2025-07-27T01:14:55.767844Z",
     "start_time": "2025-07-27T01:14:55.764879Z"
    }
   },
   "source": "# Your code here",
   "id": "7448e17a0e5f76f1",
   "outputs": [],
   "execution_count": 9
  },
  {
   "cell_type": "code",
   "metadata": {
    "ExecuteTime": {
     "end_time": "2025-07-27T01:16:33.730189Z",
     "start_time": "2025-07-27T01:16:33.726888Z"
    }
   },
   "source": "",
   "id": "a78c241e87764d93",
   "outputs": [],
   "execution_count": null
  },
  {
   "cell_type": "markdown",
   "metadata": {},
   "source": [
    "Problem 2c : Can you identify the origin of the peaks in the periodogram at periods smaller than the Nyquist limit?\n",
    "- Compute and plot the periodogram of the window function (by setting the flux value to 1 in `LombScargle`). You may have to also use `fit_mean=False`, and `center_data=False` arguments. We will come back to the meaning of these arguments soon."
   ],
   "id": "7ceb8dbb66d49878"
  },
  {
   "cell_type": "code",
   "metadata": {
    "ExecuteTime": {
     "end_time": "2025-07-27T01:16:48.417640Z",
     "start_time": "2025-07-27T01:16:48.412719Z"
    }
   },
   "source": [
    "# Plot the periodogram of the window function\n",
    "# Your code here"
   ],
   "id": "b60401f5df1b593b",
   "outputs": [],
   "execution_count": 10
  },
  {
   "cell_type": "markdown",
   "metadata": {},
   "source": [
    "Clearly, it does not make sense to compute the periodogram at frequencies larger than the Nyquist limit. Doing so increases the computation time, and the sharp, high peaks will also throw off automated peak-finding algorithms.\n",
    "\n",
    "To avoid this, it is almost always a good idea to specify the `minimum_frequency` and `maximum_frequency` parameters in the `autopower` method to avoid these peaks. The following are logical recommendations for evenly sampled data :\n",
    "- `maximum_frequency` = the Nyquist frequency. By default, `LombScargle` sets `maximum_frequency` to 5*the Nyquist frequency, which, for the example above, corresponds to a period of 0.8 days.\n",
    "- `minimum_frequency` = 1/(Baseline). In practice, setting this to zero or some small value is usually sufficient.\n",
    "\n",
    "Alternatively, you can provide a full frequency grid on which to compute the periodogram on using the `LombScargle.power` method. The minimum and maximum frequencies can be computed as above, and Van der Plas 2017 recommend a minimum spacing of 1/(Baseline) in order to sample the peaks well.\n",
    "\n",
    "Problem 2d: Compute the LS periodogram using appropriate frequency limits. Find the best period, defined as the period with the highest value of LS power."
   ],
   "id": "20aa60729e8d7e4a"
  },
  {
   "cell_type": "code",
   "metadata": {
    "ExecuteTime": {
     "end_time": "2025-07-27T01:17:18.524342Z",
     "start_time": "2025-07-27T01:17:18.519988Z"
    }
   },
   "source": [
    "# Compute the Lomb-Scargle periodogram and plot it with appropriate frequency limits\n",
    "# Your code here"
   ],
   "id": "cfece8cf8f63b1b5",
   "outputs": [],
   "execution_count": 11
  },
  {
   "cell_type": "markdown",
   "metadata": {},
   "source": [
    "Great, we have gotten rid of the window function peaks! Now, we can identify the peak corresponding to the true period of the signal. The peak at 20 days corresponds to the true period of the signal we simulated.\n",
    "\n",
    "However, real data is not evenly sampled. What are good choices for `maximum_frequency` for unevenly sampled data? (Note 1/Baseline is still a good choice for `minimum_frequency`, but we cannot define a Nyquist frequency)\n",
    "\n",
    "Problem 2e: Simulate a sinusoidal signal with amplitude=1.0, period=20.0 days, noise_level=0.1, sampled at 50 random points between 0 and 100 days. Compute the LS periodogram for this, without specifying the `maximum_frequency` parameter."
   ],
   "id": "7f221d2a724903e7"
  },
  {
   "cell_type": "code",
   "metadata": {
    "ExecuteTime": {
     "end_time": "2025-07-27T01:17:34.781279Z",
     "start_time": "2025-07-27T01:17:34.777253Z"
    }
   },
   "source": [
    "# Use unevenly sampled data\n",
    "times_uneven = np.random.uniform(0, 100, 50)  # 50 random time points between 0 and 100 days\n",
    " # Your code here\n"
   ],
   "id": "4367b4f7b313621b",
   "outputs": [],
   "execution_count": 13
  },
  {
   "cell_type": "code",
   "metadata": {
    "ExecuteTime": {
     "end_time": "2025-07-27T01:17:45.143249Z",
     "start_time": "2025-07-27T01:17:45.138508Z"
    }
   },
   "source": [
    "# Compute the Lomb-Scargle periodogram for unevenly sampled data and print the best period\n",
    "# Your code here"
   ],
   "id": "b805b39ca297d4c6",
   "outputs": [],
   "execution_count": 14
  },
  {
   "cell_type": "markdown",
   "metadata": {},
   "source": [
    "What differences do you see from the periodogram of the evenly sampled data? What does that tell you about the Nyquist frequency in the case of unevenly sampled data?"
   ],
   "id": "a555712099b5eed1"
  },
  {
   "cell_type": "markdown",
   "metadata": {},
   "source": [
    "As there are no unphysical, sharp peaks at high frequencies, it seems that we might be able to recover high frequencies with unevenly sampled data. Let us try to recover a period close to the median cadence of our observations.\n",
    "\n",
    "Problem 2f : Simulate a similar signal as before, but with a period close to the median cadence of the observations. Compute the LS periodogram and the best period. Try with shorter periods."
   ],
   "id": "cbe325795af0df46"
  },
  {
   "cell_type": "code",
   "metadata": {
    "ExecuteTime": {
     "end_time": "2025-07-27T01:18:47.190773Z",
     "start_time": "2025-07-27T01:18:47.187002Z"
    }
   },
   "source": [
    "# Calculate the median cadence of the dataset and print it\n",
    "# Your code here"
   ],
   "id": "5e56289f496bf1c2",
   "outputs": [],
   "execution_count": 19
  },
  {
   "cell_type": "code",
   "metadata": {
    "ExecuteTime": {
     "end_time": "2025-07-27T01:18:47.621659Z",
     "start_time": "2025-07-27T01:18:47.618499Z"
    }
   },
   "source": [
    "# Simulate a sinusoid with a period close to the median cadence 1.5 days and compute the LS periodogram\n",
    "# Your code here"
   ],
   "id": "27a0e031a317600b",
   "outputs": [],
   "execution_count": 20
  },
  {
   "cell_type": "markdown",
   "metadata": {},
   "source": [
    "We can see that the periodogram is able to recover the period even if it is close to the median cadence of the observations.\n",
    "\n",
    "In fact, unevenly sampled data can often recover much higher frequencies than the median or even the maximum sampling frequencies of the data - something that would be impossible with evenly sampled data.\n",
    "\n",
    "The downside is that it is not straightforward to define the `maximum_frequency` parameter to compute the `LombScargle` periodogram. This is relevant especially for large datasets, where the periodograms can take a long time to compute and it is important to define an appropriate frequency grid.\n",
    "\n",
    "Van der Plas (2017) list some options that can be used as proxy-Nyquist frequencies for unevenly sampled data, however, these are almost always very large making the computations intractable.\n",
    "\n",
    "In practice, the `maximum_frequency` parameter is often set to a reasonable value based on the expected periods of interest, or to a value that is larger than the maximum period of interest."
   ],
   "id": "1d9b0f768e29b145"
  },
  {
   "cell_type": "markdown",
   "metadata": {},
   "source": [
    "## 3. Detecting periods in LSST-like data\n",
    "\n",
    "The above observation has important implications for time-domain surveys, as they can detect periods much lower than their typical cadences. [ZTF has been very successful in finding double white dwarf binaries with periods < 10 minutes, that will be LISA GW sources](https://iopscience.iop.org/article/10.3847/1538-4357/abc261). As we will see in the activities below, progenitors of novae and red-novae can also exhibit very small periods ranging from a few minutes to about a day. ZTF has identified several sources with these periods, despite having a baseline cadence of 2-3 days. \n",
    "\n",
    "You may have heard that LSST's cadence will be worse than ZTF, which is a problem for several transient science cases. How does this affect its ability to detect periodicity? Let us examine this. "
   ],
   "id": "d64e55e38d48947e"
  },
  {
   "cell_type": "markdown",
   "metadata": {},
   "source": [
    "LSST will have a semi-uneven cadence. Here is a helper function to get times for simulated LSST observations, accounting for slight cadence differences, downtimes due to weather and solar conjunctions."
   ],
   "id": "e8448b7e0fddd2f7"
  },
  {
   "cell_type": "code",
   "metadata": {
    "ExecuteTime": {
     "end_time": "2025-07-27T01:21:02.314375Z",
     "start_time": "2025-07-27T01:21:02.309732Z"
    }
   },
   "source": [
    "def get_lsst_obstimes(mean_cadence_days=6.0, baseline_years=10.0):\n",
    "    \"\"\"\n",
    "    Function to get an array with LSST-like observation times in days,\n",
    "    with a specified mean cadence, accounting for real-life problems.\n",
    "    :param mean_cadence_days: float, mean cadence of observations\n",
    "    :param baseline_years: float, total baseline to get observations for\n",
    "    :return: times_lsst: np.array, Observation times in days\n",
    "    \"\"\"\n",
    "    times_lsst = np.arange(0, baseline_years*365, mean_cadence_days)  # Sampled every 6 days for 5 years\n",
    "    times_lsst += np.random.uniform(-1.0/6, 1.0/6, len(times_lsst))  # Add a random offset of +/- four hours\n",
    "    times_lsst = times_lsst[np.logical_or(0.3 > times_lsst/365 % 1, times_lsst/365 % 1 > 0.7)]  # behind the sun\n",
    "    times_lsst = times_lsst[np.random.rand(len(times_lsst)) <= 0.7]  # bad weather\n",
    "    return times_lsst"
   ],
   "id": "c73b69e3573280b4",
   "outputs": [],
   "execution_count": 21
  },
  {
   "cell_type": "markdown",
   "metadata": {},
   "source": [
    "Problem 3a : Simulate a LSST signal with a period of 200 days, amplitude 10.0, and noise_level=1.0. Compute Lomb-Scargle periodograms for the lightcurve, and the observing window function. Identify the different peaks."
   ],
   "id": "6990e5911ec5ce88"
  },
  {
   "cell_type": "code",
   "metadata": {
    "ExecuteTime": {
     "end_time": "2025-07-27T01:21:14.654552Z",
     "start_time": "2025-07-27T01:21:14.650516Z"
    }
   },
   "source": [
    "times_lsst = get_lsst_obstimes()\n",
    "# Your code here"
   ],
   "id": "c5cee76b96f18855",
   "outputs": [],
   "execution_count": 22
  },
  {
   "cell_type": "code",
   "metadata": {
    "scrolled": true,
    "ExecuteTime": {
     "end_time": "2025-07-27T01:21:36.116304Z",
     "start_time": "2025-07-27T01:21:36.112063Z"
    }
   },
   "source": [
    "# Compute and plot the Lomb-Scargle periodogram for LSST-like data\n",
    "# Your code here\n",
    "\n",
    "# Compute and plot the Lomb-Scargle for LSST window function\n",
    "# Your code here"
   ],
   "id": "41540cd701bbc32e",
   "outputs": [],
   "execution_count": 23
  },
  {
   "cell_type": "markdown",
   "metadata": {},
   "source": [
    "Problem 3b: Now let's look at really short periods. As we will see in activity 1, nova progenitors can show periodic modulations with periods as short as 8 minutes. Can we detect these with Rubin? \n",
    "\n",
    "- Simulate a LSST-like lightcurve with a period of 8 minutes, amplitude = 10.0, noise_level=1.0. Use a mean cadence of 6 days and baselines of 0.1, 0.5, 1, 2, 5, and 10 years respectively. For each baseline, compute and plot the Lomb-Scargle periodogram for the signals, and print the best period. What do you see?"
   ],
   "id": "33cb0b200d16380f"
  },
  {
   "cell_type": "code",
   "metadata": {
    "ExecuteTime": {
     "end_time": "2025-07-27T01:21:56.602904Z",
     "start_time": "2025-07-27T01:21:56.599022Z"
    }
   },
   "source": [
    "times_lsst = get_lsst_obstimes(mean_cadence_days=6, baseline_years=1.0)\n",
    "# Your code here"
   ],
   "id": "e3753fd1dc775a7",
   "outputs": [],
   "execution_count": 24
  },
  {
   "cell_type": "code",
   "metadata": {
    "scrolled": true,
    "ExecuteTime": {
     "end_time": "2025-07-27T01:22:45.801976Z",
     "start_time": "2025-07-27T01:22:45.798379Z"
    }
   },
   "source": [
    "baselines = [0.1, 0.5, 1.0, 2.0, 5.0, 10.0]\n",
    "for baseline in baselines:\n",
    "    # Your code here\n",
    "    pass\n",
    "    \n",
    "    "
   ],
   "id": "ef8215c11a8a6caf",
   "outputs": [],
   "execution_count": 25
  },
  {
   "cell_type": "markdown",
   "metadata": {},
   "source": [
    "Problem 3c: Try with a worse cadence. Repeat the above exercise with a cadence of 30 days and baselines of [0.5, 1.0, 2.0, 3.0, 4.0, 5.0, 10.0] years"
   ],
   "id": "29a2449f799991ac"
  },
  {
   "cell_type": "code",
   "metadata": {
    "scrolled": true,
    "ExecuteTime": {
     "end_time": "2025-07-27T01:23:06.330952Z",
     "start_time": "2025-07-27T01:23:06.327473Z"
    }
   },
   "source": [
    "baselines = [0.5, 1.0, 2.0, 3.0, 4.0, 5.0, 10.0]\n",
    "for baseline in baselines:\n",
    "    # Your code here\n",
    "    pass"
   ],
   "id": "6397c41673aa4854",
   "outputs": [],
   "execution_count": 27
  },
  {
   "cell_type": "markdown",
   "metadata": {},
   "source": [
    "Problem 3d: Now let's examine the effect of higher noise. Use a cadence of 6 days, baseline of 2 years, an amplitude of 10.0 and noise_levels = [0.01, 0.1, 1, 2, 5]"
   ],
   "id": "9a69952095733292"
  },
  {
   "cell_type": "code",
   "metadata": {
    "scrolled": true,
    "ExecuteTime": {
     "end_time": "2025-07-27T01:23:23.823051Z",
     "start_time": "2025-07-27T01:23:23.819158Z"
    }
   },
   "source": [
    "noise_levels = [0.01, 0.1, 1, 2, 5]\n",
    "times_lsst = get_lsst_obstimes(mean_cadence_days=6.0, baseline_years=1.0)\n",
    "for noise_level in noise_levels:\n",
    "    # Your code here\n",
    "    pass"
   ],
   "id": "f17ea5a7f3a5da51",
   "outputs": [],
   "execution_count": 29
  },
  {
   "cell_type": "markdown",
   "metadata": {},
   "source": [
    "Problem 3e: What are the main takeaways from this exercise? Think how ZTF vs LSST compares (LSST has a lower cadence + higher precision + goes deeper)"
   ],
   "id": "5629a45dbea9ae4f"
  },
  {
   "cell_type": "markdown",
   "metadata": {},
   "source": [
    "LSST can detect the same short periods that ZTF does, albeit longer baselines will be required. This is fantastic - because LSST goes 4 magnitudes deeper than ZTF, and will detect wayyy more sources than ZTF has."
   ],
   "id": "4e3f014d9c6e329c"
  },
  {
   "cell_type": "markdown",
   "metadata": {},
   "source": [
    "## 4. LombScargle idiosyncracies"
   ],
   "id": "59b2338e914d44cb"
  },
  {
   "cell_type": "markdown",
   "metadata": {},
   "source": [
    "Great! Now before diving into the activities with real data, let us quickly examine some instructive idiosyncracies of the Lomb-Scargle periodogram."
   ],
   "id": "e32d702fe3ea39b9"
  },
  {
   "cell_type": "markdown",
   "metadata": {},
   "source": [
    "### 4.1 Floating mean periodogram\n",
    "A basic assumption that we preivously made is that the data are \"centered\" - in other words, our model explicitly assumes that the signal oscillates about a mean of 0.\n",
    "\n",
    "For astronomical data, this assumption can be harmful. Instead, it is useful to fit for the mean of the signal in addition to the periodic component (as is the default in `LombScargle`).\n",
    "\n",
    "Let's look at an example to illustrate why this is important for astronomy.\n",
    "\n",
    "Problem 4a: Simulate a periodic signal as before. Assume uneven sampling. Except now, assume that any signal fainter than -0.5 in our simulated data cannot be detected, so only limit your data to higher values. Then, compute the periods using LombScargle periodograms, once by setting `fit_mean=False` and once by setting `fit_mean=True`. Compare the periods. Plot the lightcurves and sinusoidal fits for both cases."
   ],
   "id": "773a0d4bf1e48d21"
  },
  {
   "cell_type": "code",
   "metadata": {
    "ExecuteTime": {
     "end_time": "2025-07-27T01:26:37.452742Z",
     "start_time": "2025-07-27T01:26:37.449155Z"
    }
   },
   "source": [
    "times = np.linspace(0, 100, 50)  # Simulate 50 data points from 0 to 100 days\n",
    "# Your code here"
   ],
   "id": "a6bfcfe7b9516759",
   "outputs": [],
   "execution_count": 30
  },
  {
   "cell_type": "code",
   "metadata": {
    "ExecuteTime": {
     "end_time": "2025-07-27T01:27:23.940317Z",
     "start_time": "2025-07-27T01:27:23.937208Z"
    }
   },
   "source": [
    "# Plot the periodograms with fit_mean=False and fit_mean = True\n",
    "# Your code here"
   ],
   "id": "3231c5df6cf966f1",
   "outputs": [],
   "execution_count": 31
  },
  {
   "cell_type": "code",
   "metadata": {
    "ExecuteTime": {
     "end_time": "2025-07-27T01:28:22.974366Z",
     "start_time": "2025-07-27T01:28:22.968311Z"
    }
   },
   "source": [
    "# Overplot the sinusoids on top of the data\n",
    "# Your code here"
   ],
   "id": "e0523b56d519b6bd",
   "outputs": [],
   "execution_count": 33
  },
  {
   "cell_type": "markdown",
   "metadata": {},
   "source": [
    "### 4.2 Lomb Scargle with Higher harmonics :\n",
    "\n",
    "Let us try analyzing real ZTF data of an eclipsing binary to find its period.\n",
    "\n",
    "Problem 4b: Read the ZTF file. Use the helper function provided to convert magnitudes to fluxes. Plot the lightcurve, compute a periodogram, and find the best period. Plot the phase-folded lightcurve.\n",
    "\n",
    "(FYI : The ztf lightcurve file has been downloaded from the latest ZTF data release from [IRSA](https://irsa.ipac.caltech.edu/cgi-bin/Gator/nph-scan?submit=Select&projshort=ZTF) - it represents exactly the kind of data that you would work with for a real science project)"
   ],
   "id": "23095f2ddef8303a"
  },
  {
   "cell_type": "code",
   "metadata": {
    "ExecuteTime": {
     "end_time": "2025-07-27T01:28:29.472126Z",
     "start_time": "2025-07-27T01:28:29.252859Z"
    }
   },
   "source": [
    "def load_ztf_eclipsing_binary_data(path='files/ztf_eclipsing_binary.fits'):\n",
    "    lc = Table.read(path)\n",
    "    lc['fnu_ujy'] = 3631*10**(-0.4*lc['mag']) *1e6\n",
    "    lc['fnuerr_ujy'] = lc['magerr']/1.086 * lc['fnu_ujy']\n",
    "    lc = lc[lc['catflags']==0]\n",
    "    lc.sort('hjd')\n",
    "    lc = lc[~np.isnan(lc['mag'])]\n",
    "    lc = lc[(lc['mjd']>58000) & (lc['mjd']<60500)]\n",
    "    lc = lc[lc['filtercode']=='zr']\n",
    "    lc['phase'] = lc['mjd'] - lc['mjd'].min()\n",
    "    return lc\n",
    "\n",
    "\n",
    "lc_eb = load_ztf_eclipsing_binary_data()"
   ],
   "id": "ad95f00c3a51aa30",
   "outputs": [],
   "execution_count": 34
  },
  {
   "cell_type": "code",
   "metadata": {
    "ExecuteTime": {
     "end_time": "2025-07-27T01:28:41.294704Z",
     "start_time": "2025-07-27T01:28:41.290443Z"
    }
   },
   "source": [
    "# Plot the lightcurve\n",
    "# Your code here"
   ],
   "id": "18897efe4d550a85",
   "outputs": [],
   "execution_count": 35
  },
  {
   "cell_type": "code",
   "metadata": {
    "ExecuteTime": {
     "end_time": "2025-07-27T01:28:55.779277Z",
     "start_time": "2025-07-27T01:28:55.775469Z"
    }
   },
   "source": [
    "# Examine the median cadence between observations\n",
    "# Your code here"
   ],
   "id": "8c3400899dc9972e",
   "outputs": [],
   "execution_count": 36
  },
  {
   "cell_type": "code",
   "metadata": {
    "ExecuteTime": {
     "end_time": "2025-07-27T01:29:07.943197Z",
     "start_time": "2025-07-27T01:29:07.938415Z"
    }
   },
   "source": [
    "# Compute and plot the Lomb-Scargle periodogram for the ZTF lightcurve\n",
    "# Your code here"
   ],
   "id": "44eb61d2712deb73",
   "outputs": [],
   "execution_count": 37
  },
  {
   "cell_type": "code",
   "metadata": {
    "ExecuteTime": {
     "end_time": "2025-07-27T01:29:20.373831Z",
     "start_time": "2025-07-27T01:29:20.369282Z"
    }
   },
   "source": [
    "# Phase-fold the lightcurve with this period and plot it\n",
    "# Your code here\n"
   ],
   "id": "71f0788cb001eb99",
   "outputs": [],
   "execution_count": 38
  },
  {
   "cell_type": "markdown",
   "metadata": {},
   "source": [
    "What do you see? The phase-folded lightcurve does not look great.\n",
    "\n",
    "Problem 4c: Phase fold the lightcurve with twice the best-period."
   ],
   "id": "e2b8893e94f9d077"
  },
  {
   "cell_type": "code",
   "metadata": {
    "ExecuteTime": {
     "end_time": "2025-07-27T01:29:33.357934Z",
     "start_time": "2025-07-27T01:29:33.353578Z"
    }
   },
   "source": [
    "# Phase fold with twice the period and plot\n",
    "# Your code here"
   ],
   "id": "3b252617c3af5122",
   "outputs": [],
   "execution_count": 39
  },
  {
   "cell_type": "markdown",
   "metadata": {},
   "source": [
    "Looks much better! In fact this shape with two unequal dips is what you expect for an eclipsing binary where a big and small star are orbiting each other."
   ],
   "id": "ca4162513377b388"
  },
  {
   "cell_type": "markdown",
   "metadata": {},
   "source": [
    "As Lomb Scargle is essentially a single sinusoid fit to the data, it cannot recover the correct period for sources like this eclipsing binary. This is one of the biggest limitations of `LombScargle`.\n",
    "\n",
    "In order to recover this, we can modify `LombScargle` by adding more fourier terms to it (see Van der Plas 2017 for a mathematical formulation.)\n",
    "\n",
    "Problem 4d : Add more harmonic terms using the `nterms` argument to `LombScargle`. Find the new period, plot the phase-folded lightcurve, and plot the best model using `LombScargle.model`"
   ],
   "id": "d125ce450ea2b2d8"
  },
  {
   "cell_type": "code",
   "metadata": {
    "ExecuteTime": {
     "end_time": "2025-07-27T01:30:28.561666Z",
     "start_time": "2025-07-27T01:30:28.556268Z"
    }
   },
   "source": [
    "# Add more terms using nterms argument\n",
    "# Your code here"
   ],
   "id": "e175fa7a97ef0e91",
   "outputs": [],
   "execution_count": 41
  },
  {
   "cell_type": "code",
   "metadata": {
    "ExecuteTime": {
     "end_time": "2025-07-27T01:30:29.842898Z",
     "start_time": "2025-07-27T01:30:29.835988Z"
    }
   },
   "source": [
    "# Phase fold with the new period\n",
    "# Your code here"
   ],
   "id": "ee96ed693ba4f3b9",
   "outputs": [],
   "execution_count": 42
  },
  {
   "cell_type": "markdown",
   "metadata": {},
   "source": [
    "The downside of adding more harmonics is obviously a (much) larger runtime, and the risk of overfitting. In general, you should be very careful in adding more harmonic terms to your algorithms, especially on really large pipelines."
   ],
   "id": "347908cd926d0b38"
  },
  {
   "cell_type": "markdown",
   "metadata": {},
   "source": [
    "### 4.3 Determining uncertainties on periods\n",
    "\n",
    "We have found a nice way to determine the periods using LS periodograms. How can we determine their uncertainties?\n",
    "\n",
    "One attractive option is to measure the width of the peak in the periodogram, and report that as an uncertainty. Let us examine how the width changes with the baseline of observations.\n",
    "\n",
    "Problem 4e : For baselines of [50, 100, 200, 500, 1000], simulate sinusoidal signals that are sampled at a two-day cadence. Set the amplitude of the signal to 1.0, noise_level to 0.1, and period to 20.0 Calculate the LombScargle periodograms, and examine the width of the peaks as baseline increases."
   ],
   "id": "42ea2ecab2803c2f"
  },
  {
   "cell_type": "code",
   "metadata": {
    "ExecuteTime": {
     "end_time": "2025-07-27T01:30:51.871006Z",
     "start_time": "2025-07-27T01:30:51.866333Z"
    }
   },
   "source": [
    "# Effect of varying the baseline\n",
    "baselines = [50, 100, 200, 500, 1000]  # Different baselines in days\n",
    "for baseline in baselines:\n",
    "    # Your code here\n",
    "    pass"
   ],
   "id": "d6bccbdb0fd3c15b",
   "outputs": [],
   "execution_count": 43
  },
  {
   "cell_type": "markdown",
   "metadata": {},
   "source": [
    "The width of the Lomb Scargle peak is inversely proportional to the baseline. This method can thus yield a really low (and non-sensical) estimate of the uncertainty especially for long-duration surveys such as LSST.\n",
    "\n",
    "More importantly, we would also want the uncertainties in the data to influence the uncertainties on the period. Let us examine this for the peak-width method.\n",
    "\n",
    "Problem 4f : Repeat the above exercise, but this time by varying the noise levels ([0.1, 0.2, 0.5, 1.0]). Use a constant baseline of 100 days."
   ],
   "id": "3f7e7b62c154c489"
  },
  {
   "cell_type": "code",
   "metadata": {
    "ExecuteTime": {
     "end_time": "2025-07-27T01:31:14.845765Z",
     "start_time": "2025-07-27T01:31:14.837009Z"
    }
   },
   "source": [
    "# Investigate the effect of increasing the noise level\n",
    "times_uneven = np.random.uniform(0, 100, 50)  # 50 random time points between 0 and 100 days\n",
    "noise_levels = [0.1, 0.2, 0.5, 1.0]  # Different noise levels\n",
    "for noise_level in noise_levels:\n",
    "    # Your code here\n",
    "    pass"
   ],
   "id": "1b4882b53821db47",
   "outputs": [],
   "execution_count": 44
  },
  {
   "cell_type": "markdown",
   "metadata": {},
   "source": [
    "To first order, the width of the periodogram does not depend on the noise level! This is definitely not ideal!!\n",
    "\n",
    "As described in Van der Plas (2017), there is no silver bullet solution to this problem. The Lomb-Scargle Periodogram provides a nice way to determine the period, but does not provide a natural way to determine its uncertainty.\n",
    "\n",
    "Often, studies come up with their own ways of reporting uncertainties based on the data that they are looking at. Some common examples include\n",
    "- Bayesian analysis, computed by fitting sinusoids with periods around the best period to the data.\n",
    "- Bootstrapping - generating several hundred simulated datasets from the real data by sampling from a Gaussian distribution with the errors, and calculating the best periods from the LS periodograms, and calculating the scatter on the measurements.\n",
    "- Using methods other than Lomb Scargle, such as , that are  more suited to report uncertainties naturally.\n",
    "\n",
    "Again, there is no single right answer to this, it depends on the kind of data that you are looking at.\n",
    "\n",
    "`LombScargle`, does provide a way to report the significance of the period by computing a `false_alarm_probability`, i.e. the probability that a signal with just Gaussian noise and no periodic signals can produce a peak in the spectrogram with the given peak value. We shall skip this for the purposes of this module, but you are highly encouraged to examine `LombScargle.false_alarm_probability` and review Van der Plas (2017) for more details.\n",
    "\n",
    "Another way of characterizing significance is by injecting fake signals into the survey at various thresholds and seeing how well your code can recover them. This is commonly used for large-scale periodicity searches using data from systematic surveys like ZTF (and will be useful for LSST).\n",
    "\n"
   ],
   "id": "1470fd7c62c5767"
  },
  {
   "cell_type": "markdown",
   "metadata": {},
   "source": [
    "## 5. Beyond `LombScargle`\n",
    "There are many period-finding methods other than Lomb Scargle!\n",
    "\n",
    "[Graham et al. 2013](https://ui.adsabs.harvard.edu/abs/2013MNRAS.434.3423G/abstract) conducted a review of the efficacy of different methods on actual astronomical data.\n",
    "\n",
    "From Graham et al. 2013, there are three main categories of period-finding methods --\n",
    "\n",
    "- Those modeling a light curve via a least-squares fit to some set of (orthogonal) basis functions, most commonly trigonometric (LombScargle is in this category).\n",
    "\n",
    "- Those that phase-fold the data with a large number of trial periods and minimize some measure of the dispersion of time series data in phase space. Examples include binned means (Stellingwerf 1978), Phase Dispersion Minimization (Jurkevich 1971, Stellingwerth 1978), analysis-of-variance (Schwarzenberg-Czerny 1989), total distance between points (Dworetsky 1983), conditional entropy (Graham et al. 2013). Many of these methods do not assume any functional form for the signal, so non-sinusoidal signals can be identified easily. The Conditional Entropy algorithm in particular is known to suprress peaks due to aliasing.\n",
    "\n",
    "- Those that employ Bayesian inference. Recently, methods have been developed to use Gaussian Process regression to find periods in time-series astronomical signals [Wang et al. 2012](http://adsabs.harvard.edu/abs/2012ApJ...756...67W), [Angus et al. 2018](http://adsabs.harvard.edu/abs/2018MNRAS.474.2094A).\n",
    "\n",
    "So which method is the best? Graham et al. 2013 found that the answer really depends on the problem at hand, and there is no one method that works well across all cases.\n",
    "\n",
    "So where is LombScargle useful?\n",
    "\n",
    "In my (limited) experience of period-finding in large datasets, I have found\n",
    "- LombScargle is very effective for long period variables (like AGB stars) that have periods larger than $\\approx$100 days. Rubin will find many many many of these in the Milky Way and other galaxies.\n",
    "- LombScargle also works well for pulsating stars with short periods that show sinusoidal-like lightcurve profiles with single-peaks in their phase folded lightcurves (e.g. Cepheids, RR Lyrae, asteroids). However, we need to  be careful about aliasing due to the window function, as the cadences of modern surveys tend to be similar to the periods of these sources.\n",
    "- LombScargle is not well-suited for eclipsing binaries or other short-period variables that do not show sinusoidal variations (we saw in an eclipsing binary previously) or have multiple humps in their phase-folded lightcurve. Algorithms that do not make assumptions about the pulse profile are better suited for these science cases.\n",
    "\n",
    "Finally, there are a few different python implementations of the `LombScargle` algorithm.\n",
    "\n",
    "One of my favourite CPU-based implementation is from [gatspy](https://www.astroml.org/gatspy/). `gatspy` also lets you fit multiband data simultaneously to increase the fidelity of your period. (Be careful though - not all variables have same periodic behaviour in different filters)\n",
    "\n",
    "[Townsend et al. 2010](https://iopscience.iop.org/article/10.1088/0067-0049/191/2/247) present a GPU implementation for LombScargle.\n",
    "\n"
   ],
   "id": "acec34077ca5dc71"
  },
  {
   "cell_type": "markdown",
   "metadata": {},
   "source": [
    "# Activity 1: Periodicity in a nova\n",
    "\n",
    "Novae are thermonuclear outbursts that occur on the suface of a white-dwarf as it is accreting gas from a companion. Sometimes, the orbital periodicity of the system is imprinted on the nova outburst and can be detected. In even rare cases, we detect periodic pulsations associated with the spin period of the white dwarf. See [Schaeffer et al. 2021](https://ui.adsabs.harvard.edu/abs/2022MNRAS.517.3640S/abstract) for a recent summary of orbital periods of nova progenitors. Figure 5 shows a histogram of the periods.\n",
    "\n",
    "In this activity, we will look at the lightcurve of the Nova V1674 Herculis. This nova erupted in 2021, and was special because -\n",
    "\n",
    "- It is among the top 5% brightest novae found this century\n",
    "- It is perhaps the fastest nova on record (declined from peak by 2 magnitudes per day)\n",
    "- Fermi detected a coincident γ-ray source that turned on during the optical peak (Sokolovsky et al. 2023).\n",
    "- Periodicity was detected in the X-ray and optical light curves just 2 weeks after the optical peak that revealed the orbital period (J. Patterson et al. 2022).\n",
    "- Preoutburst imaging of the progenitor system by ZTF place tight constraints on the WD spin period prior to outburst (P. Mroz et al. 2021)\n",
    "\n",
    "The last two points make it interesting for our puposes! We will look at the publicly available data for this nova and try to detect the orbital-period and the spin-period for this source.\n",
    "\n"
   ],
   "id": "6d76b3f9fbd0d70b"
  },
  {
   "cell_type": "markdown",
   "metadata": {},
   "source": [
    "First, load the lightcurve of the nova downloaded from [AAVSO](https://www.aavso.org/data-download). While this is some of the most complete data available, it comes with its own issues! Filter the data to focus on the V-band and some quality cuts."
   ],
   "id": "3beb05a06301e94a"
  },
  {
   "cell_type": "code",
   "metadata": {
    "ExecuteTime": {
     "end_time": "2025-07-27T01:31:33.433283Z",
     "start_time": "2025-07-27T01:31:32.255984Z"
    }
   },
   "source": [
    "nova_lc = pd.read_csv('files/V1674_her_aavso.dat')\n",
    "nova_lc_V_band = nova_lc[(nova_lc['Band']=='V')&~np.isnan(nova_lc['Uncertainty']) & (nova_lc['Magnitude']!='<16.2')]\n"
   ],
   "id": "94ffc16009f1f0d2",
   "outputs": [
    {
     "name": "stderr",
     "output_type": "stream",
     "text": [
      "/var/folders/1d/r0f_wd9x10v1pb53kt5hsjg00000gn/T/ipykernel_34995/1370397768.py:1: DtypeWarning: Columns (6,14,20) have mixed types. Specify dtype option on import or set low_memory=False.\n",
      "  nova_lc = pd.read_csv('files/V1674_her_aavso.dat')\n"
     ]
    }
   ],
   "execution_count": 45
  },
  {
   "cell_type": "markdown",
   "metadata": {},
   "source": [
    "Next, convert the magnitudes to a flux density."
   ],
   "id": "148ce27f6a960e60"
  },
  {
   "cell_type": "code",
   "execution_count": 64,
   "metadata": {
    "ExecuteTime": {
     "end_time": "2025-07-15T19:09:30.648733Z",
     "start_time": "2025-07-15T19:09:30.630410Z"
    }
   },
   "outputs": [
    {
     "name": "stderr",
     "output_type": "stream",
     "text": [
      "<ipython-input-64-8ce95b96f149>:1: SettingWithCopyWarning: \n",
      "A value is trying to be set on a copy of a slice from a DataFrame.\n",
      "Try using .loc[row_indexer,col_indexer] = value instead\n",
      "\n",
      "See the caveats in the documentation: https://pandas.pydata.org/pandas-docs/stable/user_guide/indexing.html#returning-a-view-versus-a-copy\n",
      "  nova_lc_V_band['fnu_jy'] = 3631*10**(-0.4*np.array(nova_lc_V_band['Magnitude'], dtype=float))\n",
      "<ipython-input-64-8ce95b96f149>:2: SettingWithCopyWarning: \n",
      "A value is trying to be set on a copy of a slice from a DataFrame.\n",
      "Try using .loc[row_indexer,col_indexer] = value instead\n",
      "\n",
      "See the caveats in the documentation: https://pandas.pydata.org/pandas-docs/stable/user_guide/indexing.html#returning-a-view-versus-a-copy\n",
      "  nova_lc_V_band['fnuerr_ujy'] = nova_lc_V_band['Uncertainty']/1.086 * nova_lc_V_band['fnu_jy']\n"
     ]
    }
   ],
   "source": [
    "nova_lc_V_band['fnu_jy'] = 3631*10**(-0.4*np.array(nova_lc_V_band['Magnitude'], dtype=float))\n",
    "nova_lc_V_band['fnuerr_ujy'] = nova_lc_V_band['Uncertainty']/1.086 * nova_lc_V_band['fnu_jy']"
   ],
   "id": "34abd637b2df5a04"
  },
  {
   "cell_type": "markdown",
   "metadata": {},
   "source": [
    "Examine the lightcurve, select a suitable subset of the data, compute the periodogram to determine the best period in the data.\n",
    "\n",
    "(Note : feel free to experiment with `gatspy` or stick with `LombScargle`)\n",
    "\n",
    "(Note Note : you may need to detrend the dataset)"
   ],
   "id": "37a4e68ba00e9f0d"
  },
  {
   "cell_type": "code",
   "metadata": {
    "ExecuteTime": {
     "end_time": "2025-07-27T01:33:07.594882Z",
     "start_time": "2025-07-27T01:33:07.590473Z"
    }
   },
   "source": [
    "# Plot the lightcurve\n",
    "# Your code here"
   ],
   "id": "4c2e1e21973e518",
   "outputs": [],
   "execution_count": 47
  },
  {
   "cell_type": "code",
   "metadata": {
    "ExecuteTime": {
     "end_time": "2025-07-27T01:32:51.993301Z",
     "start_time": "2025-07-27T01:32:51.987285Z"
    }
   },
   "source": [
    "# Detrend data by fitting a reasonable-order polynomial to the lightcurve data. You can use np.polyfit\n",
    " # Your code here"
   ],
   "id": "e66de2379bb008a4",
   "outputs": [],
   "execution_count": 46
  },
  {
   "cell_type": "code",
   "metadata": {
    "ExecuteTime": {
     "end_time": "2025-07-27T01:34:00.234545Z",
     "start_time": "2025-07-27T01:34:00.230526Z"
    }
   },
   "source": [
    "# Compute the Lomb-Scargle periodogram, plot it\n",
    "# Your code here\n"
   ],
   "id": "ff1ab8ec7a70411",
   "outputs": [],
   "execution_count": 48
  },
  {
   "cell_type": "code",
   "metadata": {
    "ExecuteTime": {
     "end_time": "2025-07-27T01:34:08.620622Z",
     "start_time": "2025-07-27T01:34:08.614107Z"
    }
   },
   "source": [
    "# Phase fold the normalized I band magnitudes with the best period\n",
    "# Your code here"
   ],
   "id": "b87a8d424fd7eba5",
   "outputs": [],
   "execution_count": 49
  },
  {
   "cell_type": "markdown",
   "metadata": {},
   "source": [
    "Compare your period and phase-folded curve to that found by [Patterson et al. 2022](https://iopscience.iop.org/article/10.3847/2041-8213/ac9ebe/pdf) or [Schmidt et al. 2021](https://apps.aavso.org/media/jaavso/3780_W9SMx3c.pdf). Note that the data from these papers is not available on AAVSO, so it is not included in your lightcurve!\n"
   ],
   "id": "9c61c065d57aea35"
  },
  {
   "cell_type": "markdown",
   "metadata": {},
   "source": [
    "Now let's look at ZTF data of the nova, that supposedly shows signatures from the spin of the white dwarf. See the associated Astronomer's Telegram [Mroz et al. 2021](https://www.astronomerstelegram.org/?read=14720) for details.\n",
    "\n",
    "As described in the ATel, the file `Her2021_fps.dat` contains the forced photometry difference lightcurve at the coordinates of the nova. Note that this is photometry performed on difference images, but the nova progenitor is likely present in the reference images as well. Fortunately, we can convert the difference flux into the true science flux by using the `nearestrefmag` values present in the file."
   ],
   "id": "2663a5e928c0ea0b"
  },
  {
   "cell_type": "markdown",
   "metadata": {},
   "source": [
    "Here are some helper functions that read the ZTF forced photometry file and converts the fluxes into true science fluxes."
   ],
   "id": "f34692f2c04fcc71"
  },
  {
   "cell_type": "code",
   "metadata": {
    "ExecuteTime": {
     "end_time": "2025-07-27T01:34:21.914639Z",
     "start_time": "2025-07-27T01:34:21.716703Z"
    }
   },
   "source": [
    "def read_ztf_forcedphot_file(filename, use_infobits_flag: bool = True):\n",
    "    ztflc = ascii.read(filename,format='basic')\n",
    "    if use_infobits_flag:\n",
    "        ztflc = ztflc[ztflc['infobitssci,'] == 0]\n",
    "    try:\n",
    "        np.array(ztflc['forcediffimflux,'],dtype=float)\n",
    "    except ValueError:\n",
    "        ztflc = ztflc[ztflc['forcediffimflux,']!='null']\n",
    "    #print('Found %s good points.'%(len(ztflc)))\n",
    "    ztflc['jd'] = np.array(ztflc['jd,'],dtype=float)\n",
    "    ztflc.add_column(Column(name = 'forcediffimflux_uJy',data=np.array(ztflc['forcediffimflux,'],dtype=float)*10**(-0.4*(np.array(ztflc['zpmaginpsci,'])+48.6))/1e-29))\n",
    "    ztflc.add_column(Column(name = 'forcediffimfluxunc_uJy',data=np.array(ztflc['forcediffimfluxunc,'],dtype=float)*10**(-0.4*(np.array(ztflc['zpmaginpsci,'])+48.6))/1e-29))\n",
    "    ztflc['nearestrefmag,'] = np.array(ztflc['nearestrefmag,'],dtype=float)\n",
    "    ztflc['nearestrefmagunc,'] = np.array(ztflc['nearestrefmagunc,'],dtype=float)\n",
    "    ztflc_dets = ztflc[ztflc['forcediffimflux_uJy']/ztflc['forcediffimfluxunc_uJy']>3]\n",
    "    ztflc_lims = ztflc[ztflc['forcediffimflux_uJy']/ztflc['forcediffimfluxunc_uJy']<3]\n",
    "    gdets = ztflc_dets[ztflc_dets['filter,']=='ZTF_g']\n",
    "    rdets = ztflc_dets[ztflc_dets['filter,']=='ZTF_r']\n",
    "    idets = ztflc_dets[ztflc_dets['filter,']=='ZTF_i']\n",
    "\n",
    "    glims = ztflc_lims[ztflc_lims['filter,']=='ZTF_g']\n",
    "    rlims = ztflc_lims[ztflc_lims['filter,']=='ZTF_r']\n",
    "    ilims = ztflc_lims[ztflc_lims['filter,']=='ZTF_i']\n",
    "\n",
    "    return gdets,rdets,idets,glims,rlims,ilims\n",
    "\n",
    "\n",
    "def get_reference_included_ztflc(ztflc):\n",
    "    ztflc['nearestrefflux'] = 10**(0.4*(ztflc['zpdiff,']-ztflc['nearestrefmag,']) )\n",
    "    ztflc['nearestreffluxunc'] = ztflc['nearestrefmagunc,']*ztflc['nearestrefflux']/1.0857\n",
    "    ztflc['fluxtot'] = ztflc['nearestrefflux'] + np.array(ztflc['forcediffimflux,'], dtype=float)\n",
    "    ztflc['fluxtotunc'] = np.sqrt(ztflc['nearestreffluxunc']**2 + np.array(ztflc['forcediffimfluxunc,'], dtype=float)**2)\n",
    "    ztflc['totmag'] = -2.5*np.log10(ztflc['fluxtot'])+ztflc['zpdiff,']\n",
    "    ztflc['totmagunc'] = 1.0857*ztflc['fluxtotunc']/ztflc['fluxtot']\n",
    "    ztflc['totmaglim'] = -2.5*np.log10(5*ztflc['fluxtotunc']) + ztflc['zpdiff,']\n",
    "    ztflc['fluxtot_uJy'] = 3631*10**(-0.4*ztflc['totmag']) * 1e6\n",
    "    ztflc['fluxtotunc_uJy'] = ztflc['fluxtot_uJy']*ztflc['totmagunc']/1.0857\n",
    "    return ztflc\n",
    "\n",
    "\n",
    "gdets,rdets,idets,glims,rlims,ilims = read_ztf_forcedphot_file('files/V1674_Her_ztf_fps.dat')\n",
    "rdets = get_reference_included_ztflc(rdets)\n",
    "rdets['phase'] = rdets['jd'] - rdets['jd'].min()"
   ],
   "id": "312fc32ad0d438ac",
   "outputs": [],
   "execution_count": 50
  },
  {
   "cell_type": "markdown",
   "metadata": {},
   "source": [
    "Examine the lightcurve, select the pre-eruption lightcurve. Compute the periodogram and phase-folded lightcurves to see if you can recover the 8.4 minute period.\n",
    "(Note : The ATel says there are \"differential minima with some scatter due to flickering\" - You may need to use multiple harmonics)\n"
   ],
   "id": "386b379b256c8ad2"
  },
  {
   "cell_type": "code",
   "execution_count": 48,
   "metadata": {
    "ExecuteTime": {
     "end_time": "2025-07-15T20:32:31.869194Z",
     "start_time": "2025-07-15T20:32:29.311967Z"
    }
   },
   "outputs": [
    {
     "data": {
      "image/png": "[encoded data removed]",
      "text/plain": [
       "<Figure size 432x288 with 1 Axes>"
      ]
     },
     "metadata": {
      "needs_background": "light"
     },
     "output_type": "display_data"
    }
   ],
   "source": [
    "plt.plot(rdets['phase'], rdets['fluxtot_uJy'], '.', color='red')\n",
    "plt.yscale('log')"
   ],
   "id": "f8f0cf26c6f91201"
  },
  {
   "cell_type": "code",
   "execution_count": 49,
   "metadata": {
    "ExecuteTime": {
     "end_time": "2025-07-15T20:32:35.532503Z",
     "start_time": "2025-07-15T20:32:35.524831Z"
    }
   },
   "outputs": [],
   "source": [
    "# Select and plot precursor data\n",
    "# Your code here"
   ],
   "id": "f10232f2c1a1ebbd"
  },
  {
   "cell_type": "code",
   "metadata": {
    "ExecuteTime": {
     "end_time": "2025-07-27T01:35:13.142413Z",
     "start_time": "2025-07-27T01:35:13.139353Z"
    }
   },
   "source": [
    "# Run LombScargle\n",
    "# Your code here"
   ],
   "id": "1a3fa2558ee46517",
   "outputs": [],
   "execution_count": 51
  },
  {
   "cell_type": "markdown",
   "metadata": {},
   "source": [
    "Note how long the periodogram computation took"
   ],
   "id": "e02793c9fa57b540"
  },
  {
   "cell_type": "code",
   "metadata": {
    "ExecuteTime": {
     "end_time": "2025-07-27T01:35:32.262150Z",
     "start_time": "2025-07-27T01:35:32.258780Z"
    }
   },
   "source": [
    "# Plot LombSCargle\n",
    "# Your code here"
   ],
   "id": "8e45b80ffe928442",
   "outputs": [],
   "execution_count": 52
  },
  {
   "cell_type": "code",
   "metadata": {
    "ExecuteTime": {
     "end_time": "2025-07-27T01:35:45.245373Z",
     "start_time": "2025-07-27T01:35:45.240715Z"
    }
   },
   "source": [
    "# phase fold\n",
    "# Your code here\n"
   ],
   "id": "8d84e5a822a9cdeb",
   "outputs": [],
   "execution_count": 53
  },
  {
   "cell_type": "markdown",
   "metadata": {},
   "source": [
    "Looks ok? Note that most of the archival ZTF data is from its routine survey, and is reasonably noisy as the pre-explosion source is faint. The AAVSO data are taken at maximum light, but from a variety of telescopes. Despite this, we were still able to recover the periodic signals.\n",
    "\n",
    "As an example of what you can do with precise, high-cadence data, see [Patterson et al. 2022](https://ui.adsabs.harvard.edu/abs/2022ApJ...940L..56P/abstract) who present dedicated observations of this nova that span a total of 1500 hours at a 60 second time resolution. From these observations, they can very precisely and reliably measure both the spin and the orbital periods. They also report detections of changes in the orbital and spin periods. Look at the phase-folded lightcurve for the orbital period from their paper and compare them to ours.\n",
    "\n",
    "Motivated by this comparison and what you know about LSST, discuss how these measurements will be different in the LSST era. What will be major discovery phases for periodicity searches of nova progenitors?"
   ],
   "id": "4f919d07e5bf11d1"
  },
  {
   "cell_type": "markdown",
   "metadata": {},
   "source": [
    "# Activity 2: Period evolution in the red nova V1309Sco\n",
    "\n",
    "We have looked at how to detect periodic signals in lightcurves of astrophysical systems. However, several astrophysical systems exhibit periodic signals that change with time. This includes pulsating stars whose periods can change due to physical processes inside the star, or more exotic systems such as binary stars that are spiraling towards each other.\n",
    "\n",
    "In this part, we will look at one of my favorite astrophysical sources the red nova V1309Sco - a stellar merger in our Milky Way (see [Tylenda et al. 2011](https://www.aanda.org/articles/aa/pdf/2011/04/aa16221-10.pdf)). This source was special because there was extensive archival coverage by the OGLE survey. This showed that the progenitor binary was an eclipsing binary, with a period that was decreasing as the main merger-driven eruption approached. In this activity, you will examine the lightcurve of V1309Sco and examine the changing period. You will also learn about ways to detect periodicity evolution in binary systems.\n"
   ],
   "id": "2b71b76b44d10e4f"
  },
  {
   "cell_type": "markdown",
   "metadata": {},
   "source": [
    "First, read the lightcurve file, plot the lightcurve, admire it, then restrict it to the pre-outburst phase"
   ],
   "id": "118efbb036a62ab1"
  },
  {
   "cell_type": "code",
   "metadata": {
    "ExecuteTime": {
     "end_time": "2025-07-27T01:35:53.472652Z",
     "start_time": "2025-07-27T01:35:51.499686Z"
    }
   },
   "source": [
    "v1309sco_lc = ascii.read('files/v1309sco_OGLE_VEGA_AB.txt')\n",
    "v1309sco_lc['fnu_ujy'] = v1309sco_lc['Flux']*1e6\n",
    "v1309sco_lc['fnuerr_ujy'] = v1309sco_lc['Fluxerr']*1e6\n",
    "v1309sco_lc['phase'] = v1309sco_lc['JD'] - v1309sco_lc['JD'].min()\n",
    "plt.errorbar(v1309sco_lc['JD'], v1309sco_lc['fnu_ujy'], v1309sco_lc['fnuerr_ujy'], fmt='.')\n",
    "plt.xlabel(r'Days since start')\n",
    "plt.ylabel(r'Flux Density (uJy)')\n",
    "plt.yscale('log')\n",
    "# plt.axvline(2454500)"
   ],
   "id": "7aafada35db60404",
   "outputs": [
    {
     "data": {
      "text/plain": [
       "<Figure size 640x480 with 1 Axes>"
      ],
      "image/png": "[encoded data removed]"
     },
     "metadata": {},
     "output_type": "display_data"
    }
   ],
   "execution_count": 54
  },
  {
   "cell_type": "code",
   "metadata": {
    "ExecuteTime": {
     "end_time": "2025-07-27T01:36:45.612368Z",
     "start_time": "2025-07-27T01:36:45.608833Z"
    }
   },
   "source": [
    "# Select precursor data\n",
    "# Your code here"
   ],
   "id": "e0b134c23b26f468",
   "outputs": [],
   "execution_count": 57
  },
  {
   "cell_type": "markdown",
   "metadata": {},
   "source": [
    "Now plot the precursor lightcurve, divide it into reasonable looking chunks, and compute the orbital periods in each of the chunks. Plot the evolution of period against time - what does it look like?\n",
    "\n",
    "Some things you might want to consider :\n",
    "- There is a slow, long-term brightening trend in the precursor lightcurve. This is attributed to outflows from the binary system that is undergoing common-envelope evolution (recall yesterday's lecture). You may want to detrend the lightcurve.\n",
    "- Recall that LombScaargle runs into issues for eclipsing binary systems.\n",
    "- Plot the phase-folded lightcurves, and see how the profiles change with time.\n",
    "- Try to fit an exponential to the period decline curve"
   ],
   "id": "48ba4fd63a01761"
  },
  {
   "cell_type": "code",
   "metadata": {
    "ExecuteTime": {
     "end_time": "2025-07-27T01:36:46.965838Z",
     "start_time": "2025-07-27T01:36:46.959687Z"
    }
   },
   "source": [
    "# Detrend lightcurve by fitting a polynomial\n",
    "# Your code here"
   ],
   "id": "548d13c185f1339b",
   "outputs": [],
   "execution_count": 58
  },
  {
   "cell_type": "code",
   "metadata": {
    "scrolled": false,
    "ExecuteTime": {
     "end_time": "2025-07-27T01:38:09.256979Z",
     "start_time": "2025-07-27T01:38:09.254125Z"
    }
   },
   "source": [
    "# Divide lc into reasonable looking chunks, and compute period for each chunk\n",
    "# Your code here"
   ],
   "id": "1d239c0b36be0ba4",
   "outputs": [],
   "execution_count": 59
  },
  {
   "cell_type": "code",
   "metadata": {
    "scrolled": false,
    "ExecuteTime": {
     "end_time": "2025-07-27T01:38:27.043036Z",
     "start_time": "2025-07-27T01:38:27.039968Z"
    }
   },
   "source": [
    "# plot phase folded lightcurves for each chunk\n",
    "# Your code here\n"
   ],
   "id": "6ae7f2e745716460",
   "outputs": [],
   "execution_count": 60
  },
  {
   "cell_type": "code",
   "metadata": {
    "ExecuteTime": {
     "end_time": "2025-07-27T01:38:38.548991Z",
     "start_time": "2025-07-27T01:38:38.546231Z"
    }
   },
   "source": [
    "# Plot period as a function of time\n",
    "# Your code here"
   ],
   "id": "ee88cc39f2c986b6",
   "outputs": [],
   "execution_count": 61
  },
  {
   "cell_type": "markdown",
   "metadata": {},
   "source": [
    "The period of this source was decaying exponentially!\n",
    "\n"
   ],
   "id": "7d832260501a2bdf"
  },
  {
   "cell_type": "markdown",
   "metadata": {},
   "source": [
    "# The O-C diagram\n",
    "\n",
    "The O-C (Observed - Calculated) diagram is a powerful tool for studying periodic signals that change with time. It is used to visualize the difference between the observed times of maximum (or minimum) brightness and the expected times based on a constant period. The O-C diagram can reveal changes in the period of a system over time. To see how the O-C diagram works, let us examine the math.\n",
    "\n",
    "For a signal with period $P$, the expected time of maximum brightness $T_{\\rm{max}}$ is given by:\n",
    "\n",
    "$T_{\\rm{max}} = T_{0} + P(t)N$\n",
    "\n",
    "where $T_{0}$ is the time of the first maximum, $P(t)$ is the period as a function of time, and $N$ is the number of cycles since $T_{0}$.\n",
    "\n",
    "We can write the Taylor series expansion of $T_{\\rm{max}}$, retaining only up to the quadratic term, as\n",
    "\n",
    "$T_{\\rm{max}} \\approx T_{0} + \\frac{dT_{\\rm{max}}}{dN} (N - N_{0}) + \\frac{1}{2} \\frac{d^{2}T_{\\rm{max}}}{dN^{2}} (N - N_{0})^{2} $\n",
    "\n",
    "where $N_{0}$ is the number of cycles at $T_{0}$.\n",
    "\n",
    "$\\frac{d^{2}T_{\\rm{max}}}{dN^{2}} = \\frac{dP}{dN} = \\frac{dP}{dt}\\frac{dt}{dN} = \\dot{P}P$\n",
    "\n",
    "which gives $T_{\\rm{max}} = T_{0} + P(N - N_{0}) + \\frac{1}{2} P\\dot{P} (N - N_{0})^{2}$\n",
    "\n",
    "Let us define $O$ as the observed times of maximum brightness, and $C$ as the calculated times of maximum brightness based on a constant period $P_{\\rm{calc}}$ that is determined using the Lomb Scargle periodogram or some other method.\n",
    "\n",
    "$O = T_{\\rm{max}}$, and $C = T_{0} + P_{\\rm{calc}}(N - N_{0})$\n",
    "\n",
    "$O - C = (P - P_{\\rm{calc}})(N - N_{0}) + \\frac{1}{2}P\\dot{P}(N - N_{0})^{2}$\n",
    "\n",
    "$O - C = \\Delta P (N - N_{0}) + \\frac{1}{2}P\\dot{P}(N - N_{0})^{2} $ where $\\Delta P$ is the discrepancy between the true and estimated period.\n",
    "\n",
    "If there is no period evolution, $O - C \\propto N$ : the O-C diagram will be a straight line with slope $\\Delta P$.\n",
    "\n",
    "If the period is changing at a constant rate, $O - C \\propto N^{2}$  : the O-C diagram will be a parabola with curvature $P\\dot{P}$.\n",
    "\n",
    "Thus, the shape of the $O-C$ curve can be used to determine whether the period is changing and the rate at which it is changing.\n",
    "- Increasing period will result in a positive curvature (i.e. the parabola opens upwards), while a decreasing period will result in a negative curvature (i.e. the parabola opens downwards).\n",
    "- A steeper curvature implies a faster rate of change.\n",
    "\n",
    "Note : The O-C curve name comes from the world of variable (single) stars. In the binary land, it is also referred to as a eclipse time variation (ETV) or eclipse time drift curve.\n",
    "\n",
    "Here is the O-C curve for V1309Sco, from [Molnar et al. 2017](https://ui.adsabs.harvard.edu/abs/2017ApJ...840....1M/abstract), calculated relative to the period in the middle part of the precursor observations.\n",
    "\n",
    "![Figure 2 from https://ui.adsabs.harvard.edu/abs/2017ApJ...840....1M/abstract](files/v1309sco_oc_curve.png)\n",
    "\n",
    "Examine this curve. Is it what you would expect from the exponential decline derived in the previous part?\n",
    "\n",
    "V1309Sco is one of a kind - there is no other confirmed binary system with a decreasing period that will merge soon. Ideate how you could set up a systematic search for such systems in a large dataset like ZTF or LSST. What could be potential challenges in doing this?"
   ],
   "id": "c41ecb968b8721b5"
  },
  {
   "cell_type": "markdown",
   "metadata": {},
   "source": [
    "### Bonus problem : Compute the O-C curve for V1309Sco."
   ],
   "id": "faff919ed1cb2618"
  },
  {
   "cell_type": "code",
   "execution_count": null,
   "metadata": {},
   "outputs": [],
   "source": [],
   "id": "1eec61439eaf477"
  }
 ],
 "metadata": {
  "kernelspec": {
   "display_name": "Python 3",
   "language": "python",
   "name": "python3"
  },
  "language_info": {
   "codemirror_mode": {
    "name": "ipython",
    "version": 3
   },
   "file_extension": ".py",
   "mimetype": "text/x-python",
   "name": "python",
   "nbconvert_exporter": "python",
   "pygments_lexer": "ipython3",
   "version": "3.8.5"
  }
 },
 "nbformat": 4,
 "nbformat_minor": 5
}
